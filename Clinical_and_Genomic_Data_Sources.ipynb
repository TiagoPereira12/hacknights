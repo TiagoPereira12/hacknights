{
 "cells": [
  {
   "cell_type": "markdown",
   "metadata": {},
   "source": [
    "- TCGA (cancer genomic data with associated clinical data) hosted on google cloud and accessible via python. Example notebooks and scripts in the [github repository](https://github.com/isb-cgc/examples-Python).\n",
    "\n",
    "- [Google Genomics](https://cloud.google.com/genomics/docs/quickstart)\n",
    "\n",
    "- [List of publically available clinical datasets](https://github.com/EpistasisLab/ClinicalDataSources) from the Epistasis lab at UPenn\n",
    "\n",
    "- [Open data](https://avillach-lab.hms.harvard.edu/access-data/open-data) from the Avillach lab at harvard.\n",
    "\n",
    "- [Columbia Open Health Data](https://www.nature.com/articles/sdata2018273)\n",
    "\n",
    "- [openFDA](https://open.fda.gov/)\n",
    "\n",
    "- [Public datasets on github](https://github.com/awesomedata/awesome-public-datasets)"
   ]
  },
  {
   "cell_type": "code",
   "execution_count": null,
   "metadata": {},
   "outputs": [],
   "source": []
  }
 ],
 "metadata": {
  "kernelspec": {
   "display_name": "Bash",
   "language": "bash",
   "name": "bash"
  },
  "language_info": {
   "codemirror_mode": "shell",
   "file_extension": ".sh",
   "mimetype": "text/x-sh",
   "name": "bash"
  }
 },
 "nbformat": 4,
 "nbformat_minor": 2
}
