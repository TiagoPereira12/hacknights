{
 "cells": [
  {
   "cell_type": "markdown",
   "metadata": {},
   "source": [
    "- TCGA (cancer genomic data with associated clinical data) hosted on google cloud and accessible via python. Example notebooks and scripts in the [github repository](https://github.com/isb-cgc/examples-Python).\n",
    "\n",
    "- [Google Genomics](https://cloud.google.com/genomics/docs/quickstart)\n",
    "\n",
    "- [List of publically available clinical datasets](https://github.com/EpistasisLab/ClinicalDataSources) from the Epistasis lab at UPenn\n",
    "\n",
    "- [Open data](https://avillach-lab.hms.harvard.edu/access-data/open-data) from the Avillach lab at harvard.\n",
    "\n",
    "- [Columbia Open Health Data](https://www.nature.com/articles/sdata2018273)\n",
    "\n",
    "- [openFDA](https://open.fda.gov/)\n",
    "\n",
    "- [Public datasets on github](https://github.com/awesomedata/awesome-public-datasets)"
   ]
  },
  {
   "cell_type": "markdown",
   "metadata": {},
   "source": [
    "## Columbia Open Health Data\n",
    "\n",
    "Ta, Casey N.; Dumontier, Michel; Hripcsak, George; P. Tatonetti, Nicholas; Weng, Chunhua (2018): Columbia Open Health Data, a database of EHR prevalence and co-occurrence of conditions, drugs, and procedures. figshare. Collection."
   ]
  },
  {
   "cell_type": "code",
   "execution_count": 13,
   "metadata": {},
   "outputs": [],
   "source": [
    "import wget\n",
    "# more dataset links at https://figshare.com/collections/Columbia_Open_Health_Data_a_database_of_EHR_prevalence_and_co-occurrence_of_conditions_drugs_and_procedures/4151252/1\n",
    "url_dict = {\n",
    "'5year_paired_concepts' : 'https://ndownloader.figshare.com/files/12272924',\n",
    "'ifetime_paired_concept_deviations': 'https://ndownloader.figshare.com/files/13154816',\n",
    "'5year_single_concept_deviations' : 'https://ndownloader.figshare.com/files/13154819',\n",
    "'lifetime_single_concept_deviations' : 'https://ndownloader.figshare.com/files/13154756'\n",
    "}\n",
    "output_directory = 'data'\n",
    "filename = wget.download(url_dict['5year_paired_concepts'], out=output_directory)"
   ]
  },
  {
   "cell_type": "code",
   "execution_count": 23,
   "metadata": {},
   "outputs": [
    {
     "data": {
      "text/html": [
       "<div>\n",
       "<style scoped>\n",
       "    .dataframe tbody tr th:only-of-type {\n",
       "        vertical-align: middle;\n",
       "    }\n",
       "\n",
       "    .dataframe tbody tr th {\n",
       "        vertical-align: top;\n",
       "    }\n",
       "\n",
       "    .dataframe thead th {\n",
       "        text-align: right;\n",
       "    }\n",
       "</style>\n",
       "<table border=\"1\" class=\"dataframe\">\n",
       "  <thead>\n",
       "    <tr style=\"text-align: right;\">\n",
       "      <th></th>\n",
       "      <th>concept_id_1</th>\n",
       "      <th>concept_id_2</th>\n",
       "      <th>prevalence</th>\n",
       "    </tr>\n",
       "  </thead>\n",
       "  <tbody>\n",
       "    <tr>\n",
       "      <th>8507</th>\n",
       "      <td>8515</td>\n",
       "      <td>8907</td>\n",
       "      <td>0.004975</td>\n",
       "    </tr>\n",
       "    <tr>\n",
       "      <th>8507</th>\n",
       "      <td>8516</td>\n",
       "      <td>43498</td>\n",
       "      <td>0.024295</td>\n",
       "    </tr>\n",
       "    <tr>\n",
       "      <th>8507</th>\n",
       "      <td>8522</td>\n",
       "      <td>148</td>\n",
       "      <td>0.000083</td>\n",
       "    </tr>\n",
       "    <tr>\n",
       "      <th>8507</th>\n",
       "      <td>8527</td>\n",
       "      <td>182994</td>\n",
       "      <td>0.102207</td>\n",
       "    </tr>\n",
       "    <tr>\n",
       "      <th>8507</th>\n",
       "      <td>8552</td>\n",
       "      <td>14273</td>\n",
       "      <td>0.007972</td>\n",
       "    </tr>\n",
       "  </tbody>\n",
       "</table>\n",
       "</div>"
      ],
      "text/plain": [
       "      concept_id_1  concept_id_2  prevalence\n",
       "8507          8515          8907    0.004975\n",
       "8507          8516         43498    0.024295\n",
       "8507          8522           148    0.000083\n",
       "8507          8527        182994    0.102207\n",
       "8507          8552         14273    0.007972"
      ]
     },
     "execution_count": 23,
     "metadata": {},
     "output_type": "execute_result"
    }
   ],
   "source": [
    "import pandas as pd\n",
    "pd.read_csv(filename,sep='\\t',\n",
    "            names=['concept_id_1','concept_id_2', 'prevalence']\n",
    "           ).head()"
   ]
  },
  {
   "cell_type": "code",
   "execution_count": null,
   "metadata": {},
   "outputs": [],
   "source": []
  }
 ],
 "metadata": {
  "kernelspec": {
   "display_name": "kaggle",
   "language": "python",
   "name": "kaggle"
  },
  "language_info": {
   "codemirror_mode": {
    "name": "ipython",
    "version": 3
   },
   "file_extension": ".py",
   "mimetype": "text/x-python",
   "name": "python",
   "nbconvert_exporter": "python",
   "pygments_lexer": "ipython3",
   "version": "3.6.7"
  }
 },
 "nbformat": 4,
 "nbformat_minor": 2
}
