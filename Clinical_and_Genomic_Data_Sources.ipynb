{
 "cells": [
  {
   "cell_type": "markdown",
   "metadata": {},
   "source": [
    "- TCGA (cancer genomic data with associated clinical data) hosted on google cloud and accessible via python. Example notebooks and scripts in the [github repository](https://github.com/isb-cgc/examples-Python).\n",
    "\n",
    "- [Google Genomics](https://cloud.google.com/genomics/docs/quickstart)\n",
    "\n",
    "- [List of publically available clinical datasets](https://github.com/EpistasisLab/ClinicalDataSources) from the Epistasis lab at UPenn\n",
    "\n",
    "- [Open data](https://avillach-lab.hms.harvard.edu/access-data/open-data) from the Avillach lab at harvard.\n",
    "\n",
    "- [Columbia Open Health Data](https://www.nature.com/articles/sdata2018273)\n",
    "\n",
    "- [openFDA](https://open.fda.gov/)\n",
    "\n",
    "- [Public datasets on github](https://github.com/awesomedata/awesome-public-datasets)\n",
    "\n",
    "- [eICU MIT clinical data](https://github.com/MIT-LCP/eicu-code)\n",
    "\n",
    "- [MGH/MF Waveform data](https://alpha.physionet.org/content/mghdb/1.0.0/)\n",
    "\n",
    "- [PhysioNet clinical datasets](https://alpha.physionet.org/about/database/#image)"
   ]
  },
  {
   "cell_type": "markdown",
   "metadata": {
    "heading_collapsed": true
   },
   "source": [
    "## Columbia Open Health Data\n",
    "\n",
    "Ta, Casey N.; Dumontier, Michel; Hripcsak, George; P. Tatonetti, Nicholas; Weng, Chunhua (2018): Columbia Open Health Data, a database of EHR prevalence and co-occurrence of conditions, drugs, and procedures. figshare. Collection."
   ]
  },
  {
   "cell_type": "code",
   "execution_count": 13,
   "metadata": {
    "hidden": true
   },
   "outputs": [],
   "source": [
    "import wget\n",
    "# more dataset links at https://figshare.com/collections/Columbia_Open_Health_Data_a_database_of_EHR_prevalence_and_co-occurrence_of_conditions_drugs_and_procedures/4151252/1\n",
    "url_dict = {\n",
    "'5year_paired_concepts' : 'https://ndownloader.figshare.com/files/12272924',\n",
    "'ifetime_paired_concept_deviations': 'https://ndownloader.figshare.com/files/13154816',\n",
    "'5year_single_concept_deviations' : 'https://ndownloader.figshare.com/files/13154819',\n",
    "'lifetime_single_concept_deviations' : 'https://ndownloader.figshare.com/files/13154756'\n",
    "}\n",
    "output_directory = 'data'\n",
    "filename = wget.download(url_dict['5year_paired_concepts'], out=output_directory)"
   ]
  },
  {
   "cell_type": "code",
   "execution_count": 23,
   "metadata": {
    "hidden": true
   },
   "outputs": [
    {
     "data": {
      "text/html": [
       "<div>\n",
       "<style scoped>\n",
       "    .dataframe tbody tr th:only-of-type {\n",
       "        vertical-align: middle;\n",
       "    }\n",
       "\n",
       "    .dataframe tbody tr th {\n",
       "        vertical-align: top;\n",
       "    }\n",
       "\n",
       "    .dataframe thead th {\n",
       "        text-align: right;\n",
       "    }\n",
       "</style>\n",
       "<table border=\"1\" class=\"dataframe\">\n",
       "  <thead>\n",
       "    <tr style=\"text-align: right;\">\n",
       "      <th></th>\n",
       "      <th>concept_id_1</th>\n",
       "      <th>concept_id_2</th>\n",
       "      <th>prevalence</th>\n",
       "    </tr>\n",
       "  </thead>\n",
       "  <tbody>\n",
       "    <tr>\n",
       "      <th>8507</th>\n",
       "      <td>8515</td>\n",
       "      <td>8907</td>\n",
       "      <td>0.004975</td>\n",
       "    </tr>\n",
       "    <tr>\n",
       "      <th>8507</th>\n",
       "      <td>8516</td>\n",
       "      <td>43498</td>\n",
       "      <td>0.024295</td>\n",
       "    </tr>\n",
       "    <tr>\n",
       "      <th>8507</th>\n",
       "      <td>8522</td>\n",
       "      <td>148</td>\n",
       "      <td>0.000083</td>\n",
       "    </tr>\n",
       "    <tr>\n",
       "      <th>8507</th>\n",
       "      <td>8527</td>\n",
       "      <td>182994</td>\n",
       "      <td>0.102207</td>\n",
       "    </tr>\n",
       "    <tr>\n",
       "      <th>8507</th>\n",
       "      <td>8552</td>\n",
       "      <td>14273</td>\n",
       "      <td>0.007972</td>\n",
       "    </tr>\n",
       "  </tbody>\n",
       "</table>\n",
       "</div>"
      ],
      "text/plain": [
       "      concept_id_1  concept_id_2  prevalence\n",
       "8507          8515          8907    0.004975\n",
       "8507          8516         43498    0.024295\n",
       "8507          8522           148    0.000083\n",
       "8507          8527        182994    0.102207\n",
       "8507          8552         14273    0.007972"
      ]
     },
     "execution_count": 23,
     "metadata": {},
     "output_type": "execute_result"
    }
   ],
   "source": [
    "import pandas as pd\n",
    "pd.read_csv(filename,sep='\\t',\n",
    "            names=['concept_id_1','concept_id_2', 'prevalence']\n",
    "           ).head()"
   ]
  },
  {
   "cell_type": "markdown",
   "metadata": {
    "heading_collapsed": true
   },
   "source": [
    "## [Quantitative Dehydration Estimation](https://alpha.physionet.org/content/qde/1.0.0/)"
   ]
  },
  {
   "cell_type": "code",
   "execution_count": 3,
   "metadata": {
    "hidden": true
   },
   "outputs": [],
   "source": [
    "import wget\n",
    "output_directory = 'data'\n",
    "filename = wget.download('https://alpha.physionet.org/files/qde/1.0.0/dehydration_estimation.csv?download',out=output_directory)"
   ]
  },
  {
   "cell_type": "code",
   "execution_count": 5,
   "metadata": {
    "hidden": true
   },
   "outputs": [
    {
     "data": {
      "text/plain": [
       "(90, 33)"
      ]
     },
     "metadata": {},
     "output_type": "display_data"
    },
    {
     "data": {
      "text/html": [
       "<div>\n",
       "<style scoped>\n",
       "    .dataframe tbody tr th:only-of-type {\n",
       "        vertical-align: middle;\n",
       "    }\n",
       "\n",
       "    .dataframe tbody tr th {\n",
       "        vertical-align: top;\n",
       "    }\n",
       "\n",
       "    .dataframe thead th {\n",
       "        text-align: right;\n",
       "    }\n",
       "</style>\n",
       "<table border=\"1\" class=\"dataframe\">\n",
       "  <thead>\n",
       "    <tr style=\"text-align: right;\">\n",
       "      <th></th>\n",
       "      <th>id</th>\n",
       "      <th>age [years]</th>\n",
       "      <th>height [cm]</th>\n",
       "      <th>running speed [km/h]</th>\n",
       "      <th>running interval</th>\n",
       "      <th>weight measured using Kern DE 150K2D [kg]</th>\n",
       "      <th>weight measured using InBody 720 [kg]</th>\n",
       "      <th>total body water using InBody 720 [l]</th>\n",
       "      <th>impedance right arm at 1000kHz [Ohm]</th>\n",
       "      <th>impedance left arm at 1000kHz [Ohm]</th>\n",
       "      <th>...</th>\n",
       "      <th>temperature lower leg [degree C]</th>\n",
       "      <th>sweat chloride [mmol/l]</th>\n",
       "      <th>sweat osmolality [mmol/kg]</th>\n",
       "      <th>salivary amylase [units/l]</th>\n",
       "      <th>salivary chloride [mmol/l]</th>\n",
       "      <th>salivary cortisol [ng/ml]</th>\n",
       "      <th>salivary cortisone [ng/ml]</th>\n",
       "      <th>salivary osmolality [mmol/kg]</th>\n",
       "      <th>salivary potassium [mmol/l]</th>\n",
       "      <th>salivary protein concentration [mg/l]</th>\n",
       "    </tr>\n",
       "  </thead>\n",
       "  <tbody>\n",
       "    <tr>\n",
       "      <th>0</th>\n",
       "      <td>1</td>\n",
       "      <td>29.0</td>\n",
       "      <td>190.0</td>\n",
       "      <td>8.0</td>\n",
       "      <td>0</td>\n",
       "      <td>85.515</td>\n",
       "      <td>85.90</td>\n",
       "      <td>54.0</td>\n",
       "      <td>231.27</td>\n",
       "      <td>232.63</td>\n",
       "      <td>...</td>\n",
       "      <td>31.9</td>\n",
       "      <td>NaN</td>\n",
       "      <td>NaN</td>\n",
       "      <td>NaN</td>\n",
       "      <td>28.0</td>\n",
       "      <td>NaN</td>\n",
       "      <td>NaN</td>\n",
       "      <td>76.0</td>\n",
       "      <td>NaN</td>\n",
       "      <td>576.8</td>\n",
       "    </tr>\n",
       "    <tr>\n",
       "      <th>1</th>\n",
       "      <td>1</td>\n",
       "      <td>NaN</td>\n",
       "      <td>NaN</td>\n",
       "      <td>NaN</td>\n",
       "      <td>1</td>\n",
       "      <td>85.275</td>\n",
       "      <td>85.56</td>\n",
       "      <td>53.7</td>\n",
       "      <td>234.75</td>\n",
       "      <td>240.08</td>\n",
       "      <td>...</td>\n",
       "      <td>31.3</td>\n",
       "      <td>56.0</td>\n",
       "      <td>146.0</td>\n",
       "      <td>NaN</td>\n",
       "      <td>29.0</td>\n",
       "      <td>NaN</td>\n",
       "      <td>NaN</td>\n",
       "      <td>78.0</td>\n",
       "      <td>NaN</td>\n",
       "      <td>544.1</td>\n",
       "    </tr>\n",
       "    <tr>\n",
       "      <th>2</th>\n",
       "      <td>1</td>\n",
       "      <td>NaN</td>\n",
       "      <td>NaN</td>\n",
       "      <td>NaN</td>\n",
       "      <td>2</td>\n",
       "      <td>84.895</td>\n",
       "      <td>85.32</td>\n",
       "      <td>54.0</td>\n",
       "      <td>230.81</td>\n",
       "      <td>233.95</td>\n",
       "      <td>...</td>\n",
       "      <td>31.2</td>\n",
       "      <td>55.0</td>\n",
       "      <td>134.0</td>\n",
       "      <td>111700.0</td>\n",
       "      <td>35.0</td>\n",
       "      <td>1.240</td>\n",
       "      <td>11.80</td>\n",
       "      <td>84.0</td>\n",
       "      <td>37.0</td>\n",
       "      <td>537.3</td>\n",
       "    </tr>\n",
       "    <tr>\n",
       "      <th>3</th>\n",
       "      <td>1</td>\n",
       "      <td>NaN</td>\n",
       "      <td>NaN</td>\n",
       "      <td>NaN</td>\n",
       "      <td>3</td>\n",
       "      <td>84.540</td>\n",
       "      <td>84.90</td>\n",
       "      <td>54.0</td>\n",
       "      <td>231.96</td>\n",
       "      <td>236.32</td>\n",
       "      <td>...</td>\n",
       "      <td>30.9</td>\n",
       "      <td>53.0</td>\n",
       "      <td>123.0</td>\n",
       "      <td>NaN</td>\n",
       "      <td>38.0</td>\n",
       "      <td>0.947</td>\n",
       "      <td>10.60</td>\n",
       "      <td>95.0</td>\n",
       "      <td>38.0</td>\n",
       "      <td>595.6</td>\n",
       "    </tr>\n",
       "    <tr>\n",
       "      <th>4</th>\n",
       "      <td>1</td>\n",
       "      <td>NaN</td>\n",
       "      <td>NaN</td>\n",
       "      <td>NaN</td>\n",
       "      <td>4</td>\n",
       "      <td>84.185</td>\n",
       "      <td>84.48</td>\n",
       "      <td>53.9</td>\n",
       "      <td>227.03</td>\n",
       "      <td>232.07</td>\n",
       "      <td>...</td>\n",
       "      <td>31.7</td>\n",
       "      <td>36.0</td>\n",
       "      <td>185.0</td>\n",
       "      <td>154110.0</td>\n",
       "      <td>37.0</td>\n",
       "      <td>0.727</td>\n",
       "      <td>9.64</td>\n",
       "      <td>91.0</td>\n",
       "      <td>32.0</td>\n",
       "      <td>541.3</td>\n",
       "    </tr>\n",
       "  </tbody>\n",
       "</table>\n",
       "<p>5 rows × 33 columns</p>\n",
       "</div>"
      ],
      "text/plain": [
       "   id  age [years]  height [cm]  running speed [km/h]  running interval  \\\n",
       "0   1         29.0        190.0                   8.0                 0   \n",
       "1   1          NaN          NaN                   NaN                 1   \n",
       "2   1          NaN          NaN                   NaN                 2   \n",
       "3   1          NaN          NaN                   NaN                 3   \n",
       "4   1          NaN          NaN                   NaN                 4   \n",
       "\n",
       "   weight measured using Kern DE 150K2D [kg]  \\\n",
       "0                                     85.515   \n",
       "1                                     85.275   \n",
       "2                                     84.895   \n",
       "3                                     84.540   \n",
       "4                                     84.185   \n",
       "\n",
       "   weight measured using InBody 720 [kg]  \\\n",
       "0                                  85.90   \n",
       "1                                  85.56   \n",
       "2                                  85.32   \n",
       "3                                  84.90   \n",
       "4                                  84.48   \n",
       "\n",
       "   total body water using InBody 720 [l]  \\\n",
       "0                                   54.0   \n",
       "1                                   53.7   \n",
       "2                                   54.0   \n",
       "3                                   54.0   \n",
       "4                                   53.9   \n",
       "\n",
       "   impedance right arm at 1000kHz [Ohm]  impedance left arm at 1000kHz [Ohm]  \\\n",
       "0                                231.27                               232.63   \n",
       "1                                234.75                               240.08   \n",
       "2                                230.81                               233.95   \n",
       "3                                231.96                               236.32   \n",
       "4                                227.03                               232.07   \n",
       "\n",
       "   ...  temperature lower leg [degree C]  sweat chloride [mmol/l]  \\\n",
       "0  ...                              31.9                      NaN   \n",
       "1  ...                              31.3                     56.0   \n",
       "2  ...                              31.2                     55.0   \n",
       "3  ...                              30.9                     53.0   \n",
       "4  ...                              31.7                     36.0   \n",
       "\n",
       "   sweat osmolality [mmol/kg]  salivary amylase [units/l]  \\\n",
       "0                         NaN                         NaN   \n",
       "1                       146.0                         NaN   \n",
       "2                       134.0                    111700.0   \n",
       "3                       123.0                         NaN   \n",
       "4                       185.0                    154110.0   \n",
       "\n",
       "   salivary chloride [mmol/l]  salivary cortisol [ng/ml]  \\\n",
       "0                        28.0                        NaN   \n",
       "1                        29.0                        NaN   \n",
       "2                        35.0                      1.240   \n",
       "3                        38.0                      0.947   \n",
       "4                        37.0                      0.727   \n",
       "\n",
       "   salivary cortisone [ng/ml]  salivary osmolality [mmol/kg]  \\\n",
       "0                         NaN                           76.0   \n",
       "1                         NaN                           78.0   \n",
       "2                       11.80                           84.0   \n",
       "3                       10.60                           95.0   \n",
       "4                        9.64                           91.0   \n",
       "\n",
       "   salivary potassium [mmol/l]  salivary protein concentration [mg/l]  \n",
       "0                          NaN                                  576.8  \n",
       "1                          NaN                                  544.1  \n",
       "2                         37.0                                  537.3  \n",
       "3                         38.0                                  595.6  \n",
       "4                         32.0                                  541.3  \n",
       "\n",
       "[5 rows x 33 columns]"
      ]
     },
     "execution_count": 5,
     "metadata": {},
     "output_type": "execute_result"
    }
   ],
   "source": [
    "import pandas as pd\n",
    "f = pd.read_csv(filename,sep=',')\n",
    "display(f.shape)\n",
    "f.head()"
   ]
  },
  {
   "cell_type": "markdown",
   "metadata": {
    "heading_collapsed": true
   },
   "source": [
    "## Tappy Keystroke Data"
   ]
  },
  {
   "cell_type": "code",
   "execution_count": 73,
   "metadata": {
    "hidden": true
   },
   "outputs": [],
   "source": [
    "import wget\n",
    "output_directory='data'\n",
    "filename = wget.download('https://alpha.physionet.org/static/published-projects/tappy/tappy-keystroke-data-1.0.0.zip',out=output_directory)"
   ]
  },
  {
   "cell_type": "code",
   "execution_count": 74,
   "metadata": {
    "hidden": true
   },
   "outputs": [
    {
     "data": {
      "text/plain": [
       "'data/tappy-keystroke-data-1.0.0.zip'"
      ]
     },
     "execution_count": 74,
     "metadata": {},
     "output_type": "execute_result"
    }
   ],
   "source": [
    "filename"
   ]
  },
  {
   "cell_type": "code",
   "execution_count": 75,
   "metadata": {
    "hidden": true
   },
   "outputs": [],
   "source": [
    "import zipfile\n",
    "with zipfile.ZipFile(filename, 'r') as zip_ref:\n",
    "    zip_ref.extractall(output_directory)"
   ]
  },
  {
   "cell_type": "code",
   "execution_count": 76,
   "metadata": {
    "hidden": true
   },
   "outputs": [],
   "source": [
    "extracted_dir = filename.split('/')[1].split('.z')[0]\n",
    "full_extracted_dir = output_directory+'/'+extracted_dir"
   ]
  },
  {
   "cell_type": "code",
   "execution_count": 77,
   "metadata": {
    "hidden": true
   },
   "outputs": [],
   "source": [
    "import os\n",
    "zip_files = os.listdir(full_extracted_dir)[:2]"
   ]
  },
  {
   "cell_type": "code",
   "execution_count": 78,
   "metadata": {
    "hidden": true
   },
   "outputs": [],
   "source": [
    "for f in zip_files:\n",
    "    with zipfile.ZipFile(full_extracted_dir+'/'+f, 'r') as zip_ref:\n",
    "        zip_ref.extractall(full_extracted_dir)"
   ]
  },
  {
   "cell_type": "code",
   "execution_count": 79,
   "metadata": {
    "hidden": true
   },
   "outputs": [
    {
     "data": {
      "text/plain": [
       "['Archived-users.zip',\n",
       " 'Archived users',\n",
       " 'Tappy Data',\n",
       " 'Archived-Data.zip',\n",
       " 'SHA256SUMS.txt']"
      ]
     },
     "execution_count": 79,
     "metadata": {},
     "output_type": "execute_result"
    }
   ],
   "source": [
    "os.listdir(full_extracted_dir)"
   ]
  },
  {
   "cell_type": "code",
   "execution_count": 89,
   "metadata": {
    "hidden": true
   },
   "outputs": [
    {
     "data": {
      "text/plain": [
       "['Archived users', 'Tappy Data']"
      ]
     },
     "execution_count": 89,
     "metadata": {},
     "output_type": "execute_result"
    }
   ],
   "source": [
    "data_folders = os.listdir(full_extracted_dir)[1:3]\n",
    "data_folders"
   ]
  },
  {
   "cell_type": "code",
   "execution_count": 90,
   "metadata": {
    "hidden": true
   },
   "outputs": [],
   "source": [
    "data_files = {}\n",
    "for d in data_folders:\n",
    "    data_files[d] = [full_extracted_dir+'/'+d+'/'+x for x in os.listdir(full_extracted_dir+'/'+d)]"
   ]
  },
  {
   "cell_type": "code",
   "execution_count": 91,
   "metadata": {
    "hidden": true
   },
   "outputs": [
    {
     "data": {
      "text/plain": [
       "'data/tappy-keystroke-data-1.0.0/Archived users/User_PJU53Y7KVB.txt'"
      ]
     },
     "execution_count": 91,
     "metadata": {},
     "output_type": "execute_result"
    }
   ],
   "source": [
    "data_files['Archived users'][0]"
   ]
  },
  {
   "cell_type": "code",
   "execution_count": 92,
   "metadata": {
    "hidden": true
   },
   "outputs": [],
   "source": [
    "import yaml"
   ]
  },
  {
   "cell_type": "code",
   "execution_count": 93,
   "metadata": {
    "hidden": true
   },
   "outputs": [],
   "source": [
    "with open(data_files['Archived users'][0], 'r') as stream:\n",
    "    data_loaded = yaml.safe_load(stream)"
   ]
  },
  {
   "cell_type": "code",
   "execution_count": 94,
   "metadata": {
    "hidden": true
   },
   "outputs": [
    {
     "data": {
      "text/plain": [
       "{'BirthYear': None,\n",
       " 'Gender': 'Male',\n",
       " 'Parkinsons': True,\n",
       " 'Tremors': True,\n",
       " 'DiagnosisYear': None,\n",
       " 'Sided': 'Left',\n",
       " 'UPDRS': \"Don't know\",\n",
       " 'Impact': 'Mild',\n",
       " 'Levadopa': True,\n",
       " 'DA': False,\n",
       " 'MAOB': False,\n",
       " 'Other': False}"
      ]
     },
     "execution_count": 94,
     "metadata": {},
     "output_type": "execute_result"
    }
   ],
   "source": [
    "data_loaded"
   ]
  },
  {
   "cell_type": "code",
   "execution_count": 95,
   "metadata": {
    "hidden": true
   },
   "outputs": [
    {
     "data": {
      "text/plain": [
       "'data/tappy-keystroke-data-1.0.0/Tappy Data/NMMGWRY6SO_1703.txt'"
      ]
     },
     "execution_count": 95,
     "metadata": {},
     "output_type": "execute_result"
    }
   ],
   "source": [
    "data_files['Tappy Data'][0]"
   ]
  },
  {
   "cell_type": "code",
   "execution_count": 96,
   "metadata": {
    "hidden": true
   },
   "outputs": [],
   "source": [
    "import pandas as pd"
   ]
  },
  {
   "cell_type": "code",
   "execution_count": 97,
   "metadata": {
    "hidden": true
   },
   "outputs": [
    {
     "data": {
      "text/html": [
       "<div>\n",
       "<style scoped>\n",
       "    .dataframe tbody tr th:only-of-type {\n",
       "        vertical-align: middle;\n",
       "    }\n",
       "\n",
       "    .dataframe tbody tr th {\n",
       "        vertical-align: top;\n",
       "    }\n",
       "\n",
       "    .dataframe thead th {\n",
       "        text-align: right;\n",
       "    }\n",
       "</style>\n",
       "<table border=\"1\" class=\"dataframe\">\n",
       "  <thead>\n",
       "    <tr style=\"text-align: right;\">\n",
       "      <th></th>\n",
       "      <th>UserKey</th>\n",
       "      <th>Date</th>\n",
       "      <th>Timestamp</th>\n",
       "      <th>Hand</th>\n",
       "      <th>Hold_time</th>\n",
       "      <th>Direction</th>\n",
       "      <th>Latency_time</th>\n",
       "      <th>Flight_time</th>\n",
       "    </tr>\n",
       "  </thead>\n",
       "  <tbody>\n",
       "    <tr>\n",
       "      <th>NMMGWRY6SO</th>\n",
       "      <td>170301</td>\n",
       "      <td>08:45:42.125</td>\n",
       "      <td>L</td>\n",
       "      <td>187.5</td>\n",
       "      <td>LL</td>\n",
       "      <td>421.9</td>\n",
       "      <td>281.3</td>\n",
       "      <td>NaN</td>\n",
       "    </tr>\n",
       "    <tr>\n",
       "      <th>NMMGWRY6SO</th>\n",
       "      <td>170301</td>\n",
       "      <td>08:45:42.422</td>\n",
       "      <td>L</td>\n",
       "      <td>203.1</td>\n",
       "      <td>LL</td>\n",
       "      <td>281.3</td>\n",
       "      <td>93.8</td>\n",
       "      <td>NaN</td>\n",
       "    </tr>\n",
       "    <tr>\n",
       "      <th>NMMGWRY6SO</th>\n",
       "      <td>170301</td>\n",
       "      <td>08:48:29.031</td>\n",
       "      <td>L</td>\n",
       "      <td>203.1</td>\n",
       "      <td>LL</td>\n",
       "      <td>296.9</td>\n",
       "      <td>125.0</td>\n",
       "      <td>NaN</td>\n",
       "    </tr>\n",
       "    <tr>\n",
       "      <th>NMMGWRY6SO</th>\n",
       "      <td>170301</td>\n",
       "      <td>08:48:29.266</td>\n",
       "      <td>L</td>\n",
       "      <td>218.8</td>\n",
       "      <td>LL</td>\n",
       "      <td>218.8</td>\n",
       "      <td>15.6</td>\n",
       "      <td>NaN</td>\n",
       "    </tr>\n",
       "    <tr>\n",
       "      <th>NMMGWRY6SO</th>\n",
       "      <td>170301</td>\n",
       "      <td>08:48:29.484</td>\n",
       "      <td>R</td>\n",
       "      <td>187.5</td>\n",
       "      <td>LR</td>\n",
       "      <td>250.0</td>\n",
       "      <td>31.3</td>\n",
       "      <td>NaN</td>\n",
       "    </tr>\n",
       "  </tbody>\n",
       "</table>\n",
       "</div>"
      ],
      "text/plain": [
       "            UserKey          Date Timestamp   Hand Hold_time  Direction  \\\n",
       "NMMGWRY6SO   170301  08:45:42.125         L  187.5        LL      421.9   \n",
       "NMMGWRY6SO   170301  08:45:42.422         L  203.1        LL      281.3   \n",
       "NMMGWRY6SO   170301  08:48:29.031         L  203.1        LL      296.9   \n",
       "NMMGWRY6SO   170301  08:48:29.266         L  218.8        LL      218.8   \n",
       "NMMGWRY6SO   170301  08:48:29.484         R  187.5        LR      250.0   \n",
       "\n",
       "            Latency_time  Flight_time  \n",
       "NMMGWRY6SO         281.3          NaN  \n",
       "NMMGWRY6SO          93.8          NaN  \n",
       "NMMGWRY6SO         125.0          NaN  \n",
       "NMMGWRY6SO          15.6          NaN  \n",
       "NMMGWRY6SO          31.3          NaN  "
      ]
     },
     "execution_count": 97,
     "metadata": {},
     "output_type": "execute_result"
    }
   ],
   "source": [
    "f = pd.read_csv(data_files['Tappy Data'][0],\n",
    "                sep='\\t',header=None,\n",
    "                names=['UserKey','Date','Timestamp','Hand',\n",
    "                       'Hold_time','Direction','Latency_time',\n",
    "                       'Flight_time'])\n",
    "f.head()"
   ]
  },
  {
   "cell_type": "code",
   "execution_count": 98,
   "metadata": {
    "hidden": true
   },
   "outputs": [],
   "source": [
    "#https://stackoverflow.com/questions/18857352/python-remove-very-last-character-in-file\n",
    "\n",
    "import os\n",
    "\n",
    "\n",
    "def truncate_utf8_chars(filename, count, ignore_newlines=True):\n",
    "    \"\"\"\n",
    "    Truncates last `count` characters of a text file encoded in UTF-8.\n",
    "    :param filename: The path to the text file to read\n",
    "    :param count: Number of UTF-8 characters to remove from the end of the file\n",
    "    :param ignore_newlines: Set to true, if the newline character at the end of the file should be ignored\n",
    "    \"\"\"\n",
    "    with open(filename, 'rb+') as f:\n",
    "        last_char = None\n",
    "\n",
    "        size = os.fstat(f.fileno()).st_size\n",
    "\n",
    "        offset = 1\n",
    "        chars = 0\n",
    "        while offset <= size:\n",
    "            f.seek(-offset, os.SEEK_END)\n",
    "            b = ord(f.read(1))\n",
    "\n",
    "            if ignore_newlines:\n",
    "                if b == 0x0D or b == 0x0A:\n",
    "                    offset += 1\n",
    "                    continue\n",
    "\n",
    "            if b & 0b10000000 == 0 or b & 0b11000000 == 0b11000000:\n",
    "                # This is the first byte of a UTF8 character\n",
    "                chars += 1\n",
    "                if chars == count:\n",
    "                    # When `count` number of characters have been found, move current position back\n",
    "                    # with one byte (to include the byte just checked) and truncate the file\n",
    "                    f.seek(-1, os.SEEK_CUR)\n",
    "                    f.truncate()\n",
    "                    return\n",
    "            offset += 1"
   ]
  },
  {
   "cell_type": "code",
   "execution_count": 100,
   "metadata": {
    "hidden": true
   },
   "outputs": [
    {
     "name": "stdout",
     "output_type": "stream",
     "text": [
      "(6547, 8)\n"
     ]
    },
    {
     "data": {
      "text/html": [
       "<div>\n",
       "<style scoped>\n",
       "    .dataframe tbody tr th:only-of-type {\n",
       "        vertical-align: middle;\n",
       "    }\n",
       "\n",
       "    .dataframe tbody tr th {\n",
       "        vertical-align: top;\n",
       "    }\n",
       "\n",
       "    .dataframe thead th {\n",
       "        text-align: right;\n",
       "    }\n",
       "</style>\n",
       "<table border=\"1\" class=\"dataframe\">\n",
       "  <thead>\n",
       "    <tr style=\"text-align: right;\">\n",
       "      <th></th>\n",
       "      <th>UserKey</th>\n",
       "      <th>Date</th>\n",
       "      <th>Timestamp</th>\n",
       "      <th>Hand</th>\n",
       "      <th>Hold_time</th>\n",
       "      <th>Direction</th>\n",
       "      <th>Latency_time</th>\n",
       "      <th>Flight_time</th>\n",
       "    </tr>\n",
       "  </thead>\n",
       "  <tbody>\n",
       "    <tr>\n",
       "      <th>0</th>\n",
       "      <td>NMMGWRY6SO</td>\n",
       "      <td>170301</td>\n",
       "      <td>08:45:42.125</td>\n",
       "      <td>L</td>\n",
       "      <td>0187.5</td>\n",
       "      <td>LL</td>\n",
       "      <td>0421.9</td>\n",
       "      <td>0281.3</td>\n",
       "    </tr>\n",
       "    <tr>\n",
       "      <th>1</th>\n",
       "      <td>NMMGWRY6SO</td>\n",
       "      <td>170301</td>\n",
       "      <td>08:45:42.422</td>\n",
       "      <td>L</td>\n",
       "      <td>0203.1</td>\n",
       "      <td>LL</td>\n",
       "      <td>0281.3</td>\n",
       "      <td>0093.8</td>\n",
       "    </tr>\n",
       "    <tr>\n",
       "      <th>2</th>\n",
       "      <td>NMMGWRY6SO</td>\n",
       "      <td>170301</td>\n",
       "      <td>08:48:29.031</td>\n",
       "      <td>L</td>\n",
       "      <td>0203.1</td>\n",
       "      <td>LL</td>\n",
       "      <td>0296.9</td>\n",
       "      <td>0125.0</td>\n",
       "    </tr>\n",
       "    <tr>\n",
       "      <th>3</th>\n",
       "      <td>NMMGWRY6SO</td>\n",
       "      <td>170301</td>\n",
       "      <td>08:48:29.266</td>\n",
       "      <td>L</td>\n",
       "      <td>0218.8</td>\n",
       "      <td>LL</td>\n",
       "      <td>0218.8</td>\n",
       "      <td>0015.6</td>\n",
       "    </tr>\n",
       "    <tr>\n",
       "      <th>4</th>\n",
       "      <td>NMMGWRY6SO</td>\n",
       "      <td>170301</td>\n",
       "      <td>08:48:29.484</td>\n",
       "      <td>R</td>\n",
       "      <td>0187.5</td>\n",
       "      <td>LR</td>\n",
       "      <td>0250.0</td>\n",
       "      <td>0031.3</td>\n",
       "    </tr>\n",
       "  </tbody>\n",
       "</table>\n",
       "</div>"
      ],
      "text/plain": [
       "      UserKey    Date     Timestamp Hand Hold_time Direction Latency_time  \\\n",
       "0  NMMGWRY6SO  170301  08:45:42.125    L    0187.5        LL       0421.9   \n",
       "1  NMMGWRY6SO  170301  08:45:42.422    L    0203.1        LL       0281.3   \n",
       "2  NMMGWRY6SO  170301  08:48:29.031    L    0203.1        LL       0296.9   \n",
       "3  NMMGWRY6SO  170301  08:48:29.266    L    0218.8        LL       0218.8   \n",
       "4  NMMGWRY6SO  170301  08:48:29.484    R    0187.5        LR       0250.0   \n",
       "\n",
       "  Flight_time  \n",
       "0      0281.3  \n",
       "1      0093.8  \n",
       "2      0125.0  \n",
       "3      0015.6  \n",
       "4      0031.3  "
      ]
     },
     "execution_count": 100,
     "metadata": {},
     "output_type": "execute_result"
    }
   ],
   "source": [
    "import csv\n",
    "filename=data_files['Tappy Data'][0]\n",
    "truncate_utf8_chars(filename, 1)\n",
    "col_names=['UserKey','Date','Timestamp','Hand','Hold_time','Direction','Latency_time','Flight_time','']\n",
    "all_rows = []\n",
    "with open(filename, newline = '') as rows:\n",
    "    row_reader = csv.reader(rows, delimiter='\\t')\n",
    "    for row in row_reader:\n",
    "        all_rows.append(row)\n",
    "df = pd.DataFrame(all_rows,columns=col_names).drop('',axis=1)\n",
    "print(df.shape)\n",
    "df.head()"
   ]
  }
 ],
 "metadata": {
  "kernelspec": {
   "display_name": "kaggle",
   "language": "python",
   "name": "kaggle"
  },
  "language_info": {
   "codemirror_mode": {
    "name": "ipython",
    "version": 3
   },
   "file_extension": ".py",
   "mimetype": "text/x-python",
   "name": "python",
   "nbconvert_exporter": "python",
   "pygments_lexer": "ipython3",
   "version": "3.6.7"
  }
 },
 "nbformat": 4,
 "nbformat_minor": 2
}
