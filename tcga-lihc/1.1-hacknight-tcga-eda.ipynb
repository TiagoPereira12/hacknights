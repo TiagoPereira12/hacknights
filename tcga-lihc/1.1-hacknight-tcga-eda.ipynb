{
 "cells": [
  {
   "cell_type": "markdown",
   "metadata": {},
   "source": [
    "# Healthcare Hack Nights: Part I"
   ]
  },
  {
   "cell_type": "code",
   "execution_count": null,
   "metadata": {
    "collapsed": true
   },
   "outputs": [],
   "source": [
    "## RNA-Seq\n",
    "Questions that can be answered by RNA-seq:\n",
    "    - What genes are differentially expressed between group samples?\n",
    "    - How does gene expression change across time or conditions? (eg, in benign vs malignant tumors)\n",
    "    - What pathways or processes are enriched under a condition?"
   ]
  },
  {
   "cell_type": "markdown",
   "metadata": {},
   "source": [
    "## TCGA\n",
    "For the RNA-Seq analysis workflow, we obtain the raw FASTQ sequencing files from the sequencing facility. We assess the quality of our sequence reads for each sample, then determine from where on the genome the reads originated by performing alignment. We will use the information about where the reads align to generate the count matrix, which we will be using to start the differential expression analysis.\n",
    "\n"
   ]
  },
  {
   "cell_type": "code",
   "execution_count": null,
   "metadata": {
    "collapsed": true
   },
   "outputs": [],
   "source": [
    "Differential gene expression analysis\n",
    "- https://genomebiology.biomedcentral.com/articles/10.1186/s13059-016-0881-8\n",
    "- http://bioconductor.org/packages/release/bioc/html/DESeq.htmlb\n",
    "- https://nbviewer.jupyter.org/github/maayanlab/Zika-RNAseq-Pipeline/blob/master/Zika.ipynbb"
   ]
  },
  {
   "cell_type": "code",
   "execution_count": null,
   "metadata": {
    "collapsed": true
   },
   "outputs": [],
   "source": [
    "## Load expression matrix\n",
    "expr_df = pd.read_csv(os.path.join(os.environ['WORKDIR'], 'repCpmMatrix_featureCounts.csv'))\n",
    "expr_df = expr_df.set_index(expr_df.columns[0])\n",
    "expr_df.head()"
   ]
  },
  {
   "cell_type": "code",
   "execution_count": null,
   "metadata": {
    "collapsed": true
   },
   "outputs": [],
   "source": [
    "## Filter out non-expressed genes\n",
    "expr_df = expr_df.loc[expr_df.sum(axis=1) > 0, :]\n",
    "print expr_df.shape\n",
    "\n",
    "## Filter out lowly expressed genes\n",
    "mask_low_vals = (expr_df > 0.3).sum(axis=1) > 2\n",
    "expr_df = expr_df.loc[mask_low_vals, :]\n",
    "\n",
    "print expr_df.shape"
   ]
  },
  {
   "cell_type": "code",
   "execution_count": null,
   "metadata": {
    "collapsed": true
   },
   "outputs": [],
   "source": [
    "meta_df = pd.read_csv(os.path.join(os.environ['WORKDIR'], 'SraRunTable.txt'), sep='\\t').set_index('Run_s')\n",
    "print meta_df.shape\n",
    "# re-order the index to make it the same with expr_df\n",
    "meta_df = meta_df.ix[expr_df.columns]\n",
    "meta_df"
   ]
  },
  {
   "cell_type": "markdown",
   "metadata": {},
   "source": [
    "## PCA Plots\n",
    "- Generate PCA plots to observe whether samples cluster as expected (controls with controls and treatments with treatments)"
   ]
  },
  {
   "cell_type": "code",
   "execution_count": null,
   "metadata": {
    "collapsed": true
   },
   "outputs": [],
   "source": [
    "import RNAseq"
   ]
  },
  {
   "cell_type": "code",
   "execution_count": null,
   "metadata": {
    "collapsed": true
   },
   "outputs": [],
   "source": [
    "# plot PCA\n",
    "%matplotlib inline\n",
    "RNAseq.PCA_plot(expr_df.values, meta_df['infection_status_s'], \n",
    "         standardize=2, log=True, \n",
    "         show_text=False, sep=' ', legend_loc='upper right')"
   ]
  },
  {
   "cell_type": "code",
   "execution_count": null,
   "metadata": {
    "collapsed": true
   },
   "outputs": [],
   "source": []
  },
  {
   "cell_type": "markdown",
   "metadata": {},
   "source": [
    "## Differential Gene Expression\n",
    "Now we are ready to identify the differentially expressed genes between the two sets of samples: control vs. treatment. We will achieve this using the Characteristic Direction method[6](#ref6) that we developed and published in BMC Bioinformatics in 2014.\n",
    "\n",
    "An implementation in Python of the Characteristic Direction method can be downloaded and installed from here: https://github.com/wangz10/geode.\n",
    "    \n"
   ]
  },
  {
   "cell_type": "code",
   "execution_count": null,
   "metadata": {
    "collapsed": true
   },
   "outputs": [],
   "source": [
    "import geode\n",
    "d_platform_cd = {} # to top up/down genes\n",
    "cd_results = pd.DataFrame(index=expr_df.index)\n",
    "\n",
    "sample_classes = {}\n",
    "for layout in meta_df['LibraryLayout_s'].unique():\n",
    "    ## make sample_class \n",
    "    sample_class = np.zeros(expr_df.shape[1], dtype=np.int32)\n",
    "    sample_class[meta_df['LibraryLayout_s'].values == layout] = 1\n",
    "    sample_class[(meta_df['LibraryLayout_s'].values == layout) & \n",
    "                 (meta_df['infection_status_s'].values == 'Zika infected')] = 2\n",
    "    platform = d_layout_platform[layout]\n",
    "    sample_classes[platform] = sample_class\n",
    "\n",
    "sample_classes['combined'] = sample_classes['MiSeq'] + sample_classes['NextSeq 500']\n",
    "print sample_classes\n",
    "\n",
    "for platform, sample_class in sample_classes.items():\n",
    "    cd_res = geode.chdir(expr_df.values, sample_class, expr_df.index, \n",
    "                      gamma=.5, sort=False, calculate_sig=False)\n",
    "    cd_coefs = np.array(map(lambda x: x[0], cd_res))\n",
    "    cd_results[platform] = cd_coefs\n",
    "    \n",
    "    # sort CD in by absolute values in descending order\n",
    "    srt_idx = np.abs(cd_coefs).argsort()[::-1]\n",
    "    cd_coefs = cd_coefs[srt_idx][:600]\n",
    "    sorted_DEGs = expr_df.index[srt_idx][:600]\n",
    "    # split up and down\n",
    "    up_genes = dict(zip(sorted_DEGs[cd_coefs > 0], cd_coefs[cd_coefs > 0]))\n",
    "    dn_genes = dict(zip(sorted_DEGs[cd_coefs < 0], cd_coefs[cd_coefs < 0]))\n",
    "    d_platform_cd[platform+'-up'] = up_genes\n",
    "    d_platform_cd[platform+'-dn'] = dn_genes\n",
    "\n",
    "print cd_results.head()"
   ]
  },
  {
   "cell_type": "code",
   "execution_count": null,
   "metadata": {
    "collapsed": true
   },
   "outputs": [],
   "source": [
    "## Check the cosine distance between the two signatures\n",
    "from scipy.spatial.distance import cosine\n",
    "from itertools import combinations\n",
    "for col1, col2 in combinations(cd_results.columns, 2):\n",
    "    print col1, col2, cosine(cd_results[col1], cd_results[col2])"
   ]
  },
  {
   "cell_type": "code",
   "execution_count": null,
   "metadata": {
    "collapsed": true
   },
   "outputs": [],
   "source": []
  },
  {
   "cell_type": "code",
   "execution_count": null,
   "metadata": {
    "collapsed": true
   },
   "outputs": [],
   "source": [
    "## Prepare count matrices\n",
    "expect input data as obtained, e.g., from RNA-seq or another high-throughput sequencing experiment, in the form of a matrix of integer values. The value in the i-th row and the j-th column of the matrix tells how many reads (or fragments, for paired-end RNA-seq) have been assigned to gene i in sample j. Analogously, for other types of assays, the rows of the matrix might correspond e.g., to binding regions (with ChIP-Seq), species of bacteria (with metagenomic datasets), or peptide sequences (with quantitative mass spectrometry).\n",
    "\n",
    "The values in the matrix should be counts of sequencing reads/fragments. This is important for DESeq2’s statistical model to hold, as only counts allow assessing the measurement precision correctly. It is important to never provide counts that were pre-normalized for sequencing depth/library size, as the statistical model is most powerful when applied to un-normalized counts, and is designed to account for library size differences internally.\n",
    "\n",
    "## Align Reads to reference genome\n",
    "The computational analysis of an RNA-seq experiment begins from the FASTQ files that contain the nucleotide sequence of each read and a quality score at each position. These reads must first be aligned to a reference genome or transcriptome, or the abundances and estimated counts per transcript can be estimated without alignment, as described above. In either case, it is important to know if the sequencing experiment was single-end or paired-end, as the alignment software will require the user to specify both FASTQ files for a paired-end experiment. The output of this alignment step is commonly stored in a file format called SAM/BAM.\n",
    "\n",
    "\n",
    "## Define gene models\n",
    "\n",
    "## Plot counts\n",
    "\n",
    "## PCA Plot \n",
    "\n",
    "## Differential Expression Analysis\n",
    "## Gene Clustering\n",
    "\n",
    "\n",
    "\n"
   ]
  }
 ],
 "metadata": {
  "kernelspec": {
   "display_name": "env-tcga",
   "language": "python",
   "name": "env-tcga"
  },
  "language_info": {
   "codemirror_mode": {
    "name": "ipython",
    "version": 3
   },
   "file_extension": ".py",
   "mimetype": "text/x-python",
   "name": "python",
   "nbconvert_exporter": "python",
   "pygments_lexer": "ipython3",
   "version": "3.6.7"
  }
 },
 "nbformat": 4,
 "nbformat_minor": 2
}
