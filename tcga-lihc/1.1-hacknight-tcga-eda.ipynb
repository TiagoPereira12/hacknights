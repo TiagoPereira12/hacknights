{
 "cells": [
  {
   "cell_type": "markdown",
   "metadata": {},
   "source": [
    "# Healthcare Hack Nights: Part I"
   ]
  },
  {
   "cell_type": "code",
   "execution_count": null,
   "metadata": {
    "collapsed": true
   },
   "outputs": [],
   "source": [
    "## RNA-Seq\n",
    "Questions that can be answered by RNA-seq:\n",
    "    - What genes are differentially expressed between group samples?\n",
    "    - How does gene expression change across time or conditions? (eg, in benign vs malignant tumors)\n",
    "    - What pathways or processes are enriched under a condition?"
   ]
  },
  {
   "cell_type": "code",
   "execution_count": 2,
   "metadata": {
    "collapsed": true
   },
   "outputs": [],
   "source": [
    "import pandas as pd"
   ]
  },
  {
   "cell_type": "code",
   "execution_count": 4,
   "metadata": {
    "collapsed": true
   },
   "outputs": [],
   "source": [
    "lihc = pd.read_csv('../lihc_rnaseq.csv')"
   ]
  },
  {
   "cell_type": "code",
   "execution_count": 5,
   "metadata": {},
   "outputs": [
    {
     "data": {
      "text/html": [
       "<div>\n",
       "<style scoped>\n",
       "    .dataframe tbody tr th:only-of-type {\n",
       "        vertical-align: middle;\n",
       "    }\n",
       "\n",
       "    .dataframe tbody tr th {\n",
       "        vertical-align: top;\n",
       "    }\n",
       "\n",
       "    .dataframe thead th {\n",
       "        text-align: right;\n",
       "    }\n",
       "</style>\n",
       "<table border=\"1\" class=\"dataframe\">\n",
       "  <thead>\n",
       "    <tr style=\"text-align: right;\">\n",
       "      <th></th>\n",
       "      <th>bcr_patient_barcode</th>\n",
       "      <th>?|100130426</th>\n",
       "      <th>?|100133144</th>\n",
       "      <th>?|100134869</th>\n",
       "      <th>?|10357</th>\n",
       "      <th>?|10431</th>\n",
       "      <th>?|136542</th>\n",
       "      <th>?|155060</th>\n",
       "      <th>?|26823</th>\n",
       "      <th>?|280660</th>\n",
       "      <th>...</th>\n",
       "      <th>ZXDA|7789</th>\n",
       "      <th>ZXDB|158586</th>\n",
       "      <th>ZXDC|79364</th>\n",
       "      <th>ZYG11A|440590</th>\n",
       "      <th>ZYG11B|79699</th>\n",
       "      <th>ZYX|7791</th>\n",
       "      <th>ZZEF1|23140</th>\n",
       "      <th>ZZZ3|26009</th>\n",
       "      <th>psiTPTE22|387590</th>\n",
       "      <th>tAKR|389932</th>\n",
       "    </tr>\n",
       "  </thead>\n",
       "  <tbody>\n",
       "    <tr>\n",
       "      <td>0</td>\n",
       "      <td>TCGA-2V-A95S-01A-11R-A37K-07</td>\n",
       "      <td>0.0</td>\n",
       "      <td>1.5051</td>\n",
       "      <td>3.7074</td>\n",
       "      <td>90.1124</td>\n",
       "      <td>1017.1038</td>\n",
       "      <td>0.0</td>\n",
       "      <td>141.3911</td>\n",
       "      <td>0.6516</td>\n",
       "      <td>0.0000</td>\n",
       "      <td>...</td>\n",
       "      <td>24.7597</td>\n",
       "      <td>273.6602</td>\n",
       "      <td>794.2662</td>\n",
       "      <td>18.2440</td>\n",
       "      <td>499.1041</td>\n",
       "      <td>3172.5037</td>\n",
       "      <td>890.0472</td>\n",
       "      <td>510.1808</td>\n",
       "      <td>3.9094</td>\n",
       "      <td>6.5157</td>\n",
       "    </tr>\n",
       "    <tr>\n",
       "      <td>1</td>\n",
       "      <td>TCGA-2Y-A9GS-01A-12R-A38B-07</td>\n",
       "      <td>0.0</td>\n",
       "      <td>26.4120</td>\n",
       "      <td>2.6663</td>\n",
       "      <td>71.0054</td>\n",
       "      <td>639.2311</td>\n",
       "      <td>0.0</td>\n",
       "      <td>122.7206</td>\n",
       "      <td>1.4786</td>\n",
       "      <td>0.0000</td>\n",
       "      <td>...</td>\n",
       "      <td>68.5067</td>\n",
       "      <td>632.8241</td>\n",
       "      <td>1153.7703</td>\n",
       "      <td>71.4638</td>\n",
       "      <td>1000.4929</td>\n",
       "      <td>5301.1336</td>\n",
       "      <td>755.5446</td>\n",
       "      <td>860.5224</td>\n",
       "      <td>6.4071</td>\n",
       "      <td>482.9966</td>\n",
       "    </tr>\n",
       "    <tr>\n",
       "      <td>2</td>\n",
       "      <td>TCGA-2Y-A9GT-01A-11R-A38B-07</td>\n",
       "      <td>0.0</td>\n",
       "      <td>0.0000</td>\n",
       "      <td>4.4833</td>\n",
       "      <td>95.5122</td>\n",
       "      <td>742.4344</td>\n",
       "      <td>0.0</td>\n",
       "      <td>95.0460</td>\n",
       "      <td>1.7933</td>\n",
       "      <td>0.8967</td>\n",
       "      <td>...</td>\n",
       "      <td>46.6263</td>\n",
       "      <td>1219.4575</td>\n",
       "      <td>1133.3782</td>\n",
       "      <td>12.5532</td>\n",
       "      <td>1289.3970</td>\n",
       "      <td>3219.0092</td>\n",
       "      <td>860.7935</td>\n",
       "      <td>523.6494</td>\n",
       "      <td>14.3466</td>\n",
       "      <td>83.3894</td>\n",
       "    </tr>\n",
       "    <tr>\n",
       "      <td>3</td>\n",
       "      <td>TCGA-2Y-A9GU-01A-11R-A38B-07</td>\n",
       "      <td>0.0</td>\n",
       "      <td>5.7222</td>\n",
       "      <td>5.1216</td>\n",
       "      <td>61.6679</td>\n",
       "      <td>1186.9807</td>\n",
       "      <td>0.0</td>\n",
       "      <td>280.2709</td>\n",
       "      <td>0.8341</td>\n",
       "      <td>0.0000</td>\n",
       "      <td>...</td>\n",
       "      <td>18.3511</td>\n",
       "      <td>285.2758</td>\n",
       "      <td>1150.2786</td>\n",
       "      <td>9.1755</td>\n",
       "      <td>941.7437</td>\n",
       "      <td>3092.9899</td>\n",
       "      <td>1339.6283</td>\n",
       "      <td>343.6655</td>\n",
       "      <td>2.5024</td>\n",
       "      <td>2.5024</td>\n",
       "    </tr>\n",
       "    <tr>\n",
       "      <td>4</td>\n",
       "      <td>TCGA-2Y-A9GV-01A-11R-A38B-07</td>\n",
       "      <td>0.0</td>\n",
       "      <td>11.4975</td>\n",
       "      <td>5.4230</td>\n",
       "      <td>104.4670</td>\n",
       "      <td>878.1726</td>\n",
       "      <td>0.0</td>\n",
       "      <td>282.5719</td>\n",
       "      <td>0.0000</td>\n",
       "      <td>0.0000</td>\n",
       "      <td>...</td>\n",
       "      <td>41.4552</td>\n",
       "      <td>999.1540</td>\n",
       "      <td>1631.9797</td>\n",
       "      <td>4.2301</td>\n",
       "      <td>1380.7107</td>\n",
       "      <td>2902.7073</td>\n",
       "      <td>575.2961</td>\n",
       "      <td>665.8206</td>\n",
       "      <td>2.5381</td>\n",
       "      <td>119.2893</td>\n",
       "    </tr>\n",
       "  </tbody>\n",
       "</table>\n",
       "<p>5 rows × 20532 columns</p>\n",
       "</div>"
      ],
      "text/plain": [
       "            bcr_patient_barcode  ?|100130426  ?|100133144  ?|100134869  \\\n",
       "0  TCGA-2V-A95S-01A-11R-A37K-07          0.0       1.5051       3.7074   \n",
       "1  TCGA-2Y-A9GS-01A-12R-A38B-07          0.0      26.4120       2.6663   \n",
       "2  TCGA-2Y-A9GT-01A-11R-A38B-07          0.0       0.0000       4.4833   \n",
       "3  TCGA-2Y-A9GU-01A-11R-A38B-07          0.0       5.7222       5.1216   \n",
       "4  TCGA-2Y-A9GV-01A-11R-A38B-07          0.0      11.4975       5.4230   \n",
       "\n",
       "    ?|10357    ?|10431  ?|136542  ?|155060  ?|26823  ?|280660  ...  ZXDA|7789  \\\n",
       "0   90.1124  1017.1038       0.0  141.3911   0.6516    0.0000  ...    24.7597   \n",
       "1   71.0054   639.2311       0.0  122.7206   1.4786    0.0000  ...    68.5067   \n",
       "2   95.5122   742.4344       0.0   95.0460   1.7933    0.8967  ...    46.6263   \n",
       "3   61.6679  1186.9807       0.0  280.2709   0.8341    0.0000  ...    18.3511   \n",
       "4  104.4670   878.1726       0.0  282.5719   0.0000    0.0000  ...    41.4552   \n",
       "\n",
       "   ZXDB|158586  ZXDC|79364  ZYG11A|440590  ZYG11B|79699   ZYX|7791  \\\n",
       "0     273.6602    794.2662        18.2440      499.1041  3172.5037   \n",
       "1     632.8241   1153.7703        71.4638     1000.4929  5301.1336   \n",
       "2    1219.4575   1133.3782        12.5532     1289.3970  3219.0092   \n",
       "3     285.2758   1150.2786         9.1755      941.7437  3092.9899   \n",
       "4     999.1540   1631.9797         4.2301     1380.7107  2902.7073   \n",
       "\n",
       "   ZZEF1|23140  ZZZ3|26009  psiTPTE22|387590  tAKR|389932  \n",
       "0     890.0472    510.1808            3.9094       6.5157  \n",
       "1     755.5446    860.5224            6.4071     482.9966  \n",
       "2     860.7935    523.6494           14.3466      83.3894  \n",
       "3    1339.6283    343.6655            2.5024       2.5024  \n",
       "4     575.2961    665.8206            2.5381     119.2893  \n",
       "\n",
       "[5 rows x 20532 columns]"
      ]
     },
     "execution_count": 5,
     "metadata": {},
     "output_type": "execute_result"
    }
   ],
   "source": [
    "lihc.head()"
   ]
  },
  {
   "cell_type": "code",
   "execution_count": 16,
   "metadata": {},
   "outputs": [
    {
     "data": {
      "text/plain": [
       "0        100130426\n",
       "1        100133144\n",
       "2        100134869\n",
       "3            10357\n",
       "4            10431\n",
       "           ...    \n",
       "20526         7791\n",
       "20527        23140\n",
       "20528        26009\n",
       "20529       387590\n",
       "20530       389932\n",
       "Length: 20531, dtype: object"
      ]
     },
     "execution_count": 16,
     "metadata": {},
     "output_type": "execute_result"
    }
   ],
   "source": [
    "# Get ids\n",
    "\n",
    "pd.Series(lihc.columns.values[1:]).apply(lambda x: x.split('|')[1])"
   ]
  },
  {
   "cell_type": "code",
   "execution_count": null,
   "metadata": {
    "collapsed": true
   },
   "outputs": [],
   "source": [
    "# TODO\n",
    "# Map gene ids with GO attributes\n",
    "\n",
    "# go_map <- getBM(attributes = c('entrezgene_id', 'hgnc_symbol', \n",
    "#                      'go_id', 'name_1006','go_linkage_type'),\n",
    "#       filters = 'entrezgene_id', \n",
    "#       values = ids, \n",
    "#       mart = ensembl)\n",
    "# head(go_map)"
   ]
  },
  {
   "cell_type": "code",
   "execution_count": null,
   "metadata": {
    "collapsed": true
   },
   "outputs": [],
   "source": [
    "# TODO\n",
    "# Examine gene counts"
   ]
  },
  {
   "cell_type": "markdown",
   "metadata": {},
   "source": [
    "## TCGA\n",
    "For the RNA-Seq analysis workflow, we obtain the raw FASTQ sequencing files from the sequencing facility. We assess the quality of our sequence reads for each sample, then determine from where on the genome the reads originated by performing alignment. We will use the information about where the reads align to generate the count matrix, which we will be using to start the differential expression analysis.\n",
    "\n"
   ]
  },
  {
   "cell_type": "code",
   "execution_count": null,
   "metadata": {
    "collapsed": true
   },
   "outputs": [],
   "source": [
    "Differential gene expression analysis\n",
    "- https://genomebiology.biomedcentral.com/articles/10.1186/s13059-016-0881-8\n",
    "- http://bioconductor.org/packages/release/bioc/html/DESeq.htmlb\n",
    "- https://nbviewer.jupyter.org/github/maayanlab/Zika-RNAseq-Pipeline/blob/master/Zika.ipynbb"
   ]
  },
  {
   "cell_type": "code",
   "execution_count": null,
   "metadata": {
    "collapsed": true
   },
   "outputs": [],
   "source": [
    "## Load expression matrix\n",
    "expr_df = pd.read_csv(os.path.join(os.environ['WORKDIR'], 'repCpmMatrix_featureCounts.csv'))\n",
    "expr_df = expr_df.set_index(expr_df.columns[0])\n",
    "expr_df.head()"
   ]
  },
  {
   "cell_type": "code",
   "execution_count": null,
   "metadata": {
    "collapsed": true
   },
   "outputs": [],
   "source": [
    "## Filter out non-expressed genes\n",
    "expr_df = expr_df.loc[expr_df.sum(axis=1) > 0, :]\n",
    "print expr_df.shape\n",
    "\n",
    "## Filter out lowly expressed genes\n",
    "mask_low_vals = (expr_df > 0.3).sum(axis=1) > 2\n",
    "expr_df = expr_df.loc[mask_low_vals, :]\n",
    "\n",
    "print expr_df.shape"
   ]
  },
  {
   "cell_type": "code",
   "execution_count": null,
   "metadata": {
    "collapsed": true
   },
   "outputs": [],
   "source": [
    "meta_df = pd.read_csv(os.path.join(os.environ['WORKDIR'], 'SraRunTable.txt'), sep='\\t').set_index('Run_s')\n",
    "print meta_df.shape\n",
    "# re-order the index to make it the same with expr_df\n",
    "meta_df = meta_df.ix[expr_df.columns]\n",
    "meta_df"
   ]
  },
  {
   "cell_type": "markdown",
   "metadata": {},
   "source": [
    "## PCA Plots\n",
    "- Generate PCA plots to observe whether samples cluster as expected (controls with controls and treatments with treatments)"
   ]
  },
  {
   "cell_type": "code",
   "execution_count": null,
   "metadata": {
    "collapsed": true
   },
   "outputs": [],
   "source": [
    "import RNAseq"
   ]
  },
  {
   "cell_type": "code",
   "execution_count": null,
   "metadata": {
    "collapsed": true
   },
   "outputs": [],
   "source": [
    "# plot PCA\n",
    "%matplotlib inline\n",
    "RNAseq.PCA_plot(expr_df.values, meta_df['infection_status_s'], \n",
    "         standardize=2, log=True, \n",
    "         show_text=False, sep=' ', legend_loc='upper right')"
   ]
  },
  {
   "cell_type": "code",
   "execution_count": null,
   "metadata": {
    "collapsed": true
   },
   "outputs": [],
   "source": []
  },
  {
   "cell_type": "markdown",
   "metadata": {},
   "source": [
    "## Differential Gene Expression\n",
    "Now we are ready to identify the differentially expressed genes between the two sets of samples: control vs. treatment. We will achieve this using the Characteristic Direction method[6](#ref6) that we developed and published in BMC Bioinformatics in 2014.\n",
    "\n",
    "An implementation in Python of the Characteristic Direction method can be downloaded and installed from here: https://github.com/wangz10/geode.\n",
    "    \n"
   ]
  },
  {
   "cell_type": "code",
   "execution_count": null,
   "metadata": {
    "collapsed": true
   },
   "outputs": [],
   "source": [
    "import geode\n",
    "d_platform_cd = {} # to top up/down genes\n",
    "cd_results = pd.DataFrame(index=expr_df.index)\n",
    "\n",
    "sample_classes = {}\n",
    "for layout in meta_df['LibraryLayout_s'].unique():\n",
    "    ## make sample_class \n",
    "    sample_class = np.zeros(expr_df.shape[1], dtype=np.int32)\n",
    "    sample_class[meta_df['LibraryLayout_s'].values == layout] = 1\n",
    "    sample_class[(meta_df['LibraryLayout_s'].values == layout) & \n",
    "                 (meta_df['infection_status_s'].values == 'Zika infected')] = 2\n",
    "    platform = d_layout_platform[layout]\n",
    "    sample_classes[platform] = sample_class\n",
    "\n",
    "sample_classes['combined'] = sample_classes['MiSeq'] + sample_classes['NextSeq 500']\n",
    "print sample_classes\n",
    "\n",
    "for platform, sample_class in sample_classes.items():\n",
    "    cd_res = geode.chdir(expr_df.values, sample_class, expr_df.index, \n",
    "                      gamma=.5, sort=False, calculate_sig=False)\n",
    "    cd_coefs = np.array(map(lambda x: x[0], cd_res))\n",
    "    cd_results[platform] = cd_coefs\n",
    "    \n",
    "    # sort CD in by absolute values in descending order\n",
    "    srt_idx = np.abs(cd_coefs).argsort()[::-1]\n",
    "    cd_coefs = cd_coefs[srt_idx][:600]\n",
    "    sorted_DEGs = expr_df.index[srt_idx][:600]\n",
    "    # split up and down\n",
    "    up_genes = dict(zip(sorted_DEGs[cd_coefs > 0], cd_coefs[cd_coefs > 0]))\n",
    "    dn_genes = dict(zip(sorted_DEGs[cd_coefs < 0], cd_coefs[cd_coefs < 0]))\n",
    "    d_platform_cd[platform+'-up'] = up_genes\n",
    "    d_platform_cd[platform+'-dn'] = dn_genes\n",
    "\n",
    "print cd_results.head()"
   ]
  },
  {
   "cell_type": "code",
   "execution_count": null,
   "metadata": {
    "collapsed": true
   },
   "outputs": [],
   "source": [
    "## Check the cosine distance between the two signatures\n",
    "from scipy.spatial.distance import cosine\n",
    "from itertools import combinations\n",
    "for col1, col2 in combinations(cd_results.columns, 2):\n",
    "    print col1, col2, cosine(cd_results[col1], cd_results[col2])"
   ]
  },
  {
   "cell_type": "code",
   "execution_count": null,
   "metadata": {
    "collapsed": true
   },
   "outputs": [],
   "source": []
  },
  {
   "cell_type": "code",
   "execution_count": null,
   "metadata": {
    "collapsed": true
   },
   "outputs": [],
   "source": [
    "## Prepare count matrices\n",
    "expect input data as obtained, e.g., from RNA-seq or another high-throughput sequencing experiment, in the form of a matrix of integer values. The value in the i-th row and the j-th column of the matrix tells how many reads (or fragments, for paired-end RNA-seq) have been assigned to gene i in sample j. Analogously, for other types of assays, the rows of the matrix might correspond e.g., to binding regions (with ChIP-Seq), species of bacteria (with metagenomic datasets), or peptide sequences (with quantitative mass spectrometry).\n",
    "\n",
    "The values in the matrix should be counts of sequencing reads/fragments. This is important for DESeq2’s statistical model to hold, as only counts allow assessing the measurement precision correctly. It is important to never provide counts that were pre-normalized for sequencing depth/library size, as the statistical model is most powerful when applied to un-normalized counts, and is designed to account for library size differences internally.\n",
    "\n",
    "## Align Reads to reference genome\n",
    "The computational analysis of an RNA-seq experiment begins from the FASTQ files that contain the nucleotide sequence of each read and a quality score at each position. These reads must first be aligned to a reference genome or transcriptome, or the abundances and estimated counts per transcript can be estimated without alignment, as described above. In either case, it is important to know if the sequencing experiment was single-end or paired-end, as the alignment software will require the user to specify both FASTQ files for a paired-end experiment. The output of this alignment step is commonly stored in a file format called SAM/BAM.\n",
    "\n",
    "\n",
    "## Define gene models\n",
    "\n",
    "## Plot counts\n",
    "\n",
    "## PCA Plot \n",
    "\n",
    "## Differential Expression Analysis\n",
    "## Gene Clustering\n",
    "\n",
    "\n",
    "\n"
   ]
  },
  {
   "cell_type": "code",
   "execution_count": null,
   "metadata": {
    "collapsed": true
   },
   "outputs": [],
   "source": [
    "# Load expression matrix\n"
   ]
  },
  {
   "cell_type": "code",
   "execution_count": null,
   "metadata": {
    "collapsed": true
   },
   "outputs": [],
   "source": [
    "from diffexp.py_deseq import py_DESeq2\n",
    "\n",
    "dds = py_DESeq2(count_matrix = df,\n",
    "               design_matrix = sample_df,\n",
    "               design_formula = '~ sample',\n",
    "               gene_column = 'id') # <- telling DESeq2 this should be the gene ID column\n",
    "    \n",
    "dds.run_deseq() \n",
    "dds.get_deseq_result()\n",
    "res = dds.deseq_result \n",
    "res.head()"
   ]
  },
  {
   "cell_type": "code",
   "execution_count": null,
   "metadata": {
    "collapsed": true
   },
   "outputs": [],
   "source": [
    "import matplotlib.pyplot as plt\n",
    "plt.scatter(res.log2FoldChange, -np.log2(res.padj))"
   ]
  },
  {
   "cell_type": "code",
   "execution_count": 2,
   "metadata": {},
   "outputs": [
    {
     "ename": "ModuleNotFoundError",
     "evalue": "No module named 'dgeclust'",
     "output_type": "error",
     "traceback": [
      "\u001b[0;31m---------------------------------------------------------------------------\u001b[0m",
      "\u001b[0;31mModuleNotFoundError\u001b[0m                       Traceback (most recent call last)",
      "\u001b[0;32m<ipython-input-2-8d6855043f8a>\u001b[0m in \u001b[0;36m<module>\u001b[0;34m\u001b[0m\n\u001b[0;32m----> 1\u001b[0;31m \u001b[0;32mfrom\u001b[0m \u001b[0mdgeclust\u001b[0m \u001b[0;32mimport\u001b[0m \u001b[0mCountData\u001b[0m\u001b[0;34m,\u001b[0m \u001b[0mSimulationManager\u001b[0m\u001b[0;34m\u001b[0m\u001b[0;34m\u001b[0m\u001b[0m\n\u001b[0m",
      "\u001b[0;31mModuleNotFoundError\u001b[0m: No module named 'dgeclust'"
     ]
    }
   ],
   "source": [
    "from dgeclust import CountData, SimulationManager"
   ]
  },
  {
   "cell_type": "code",
   "execution_count": null,
   "metadata": {
    "collapsed": true
   },
   "outputs": [],
   "source": []
  }
 ],
 "metadata": {
  "kernelspec": {
   "display_name": "env-tcga",
   "language": "python",
   "name": "env-tcga"
  },
  "language_info": {
   "codemirror_mode": {
    "name": "ipython",
    "version": 3
   },
   "file_extension": ".py",
   "mimetype": "text/x-python",
   "name": "python",
   "nbconvert_exporter": "python",
   "pygments_lexer": "ipython3",
   "version": "3.6.7"
  }
 },
 "nbformat": 4,
 "nbformat_minor": 2
}
