{
 "cells": [
  {
   "cell_type": "markdown",
   "metadata": {},
   "source": [
    "# Introduction and TCGA background"
   ]
  },
  {
   "cell_type": "markdown",
   "metadata": {},
   "source": [
    "Liver cancer has the second highest worldwide cancer mortality rate and has limited therapeutic options.\n",
    "\n",
    "The most common form of liver cancer is hepatocellular carcinoma (HCC), making up 80% of liver cancer cases in the US. HCC is the 9th leading cause of cancer-related deaths in the US, and third worldwide.[1](https://www.cancer.gov/about-nci/organization/ccg/research/structural-genomics/tcga/studied-cancers/liver)\n",
    "\n",
    "\n",
    "A consortium known as The Cancer Genome Atlas (TCGA) network has made a plethora of molecular information on various cancers, including HCC publicly available. This data include genetic, molecular, diagnostic, demographic, and clinical information from over 350 patients with HCC. \n",
    "\n",
    "While surgery can be an effective method for treating early-stage liver cancer, there are few options for more advanced and metastatic tumors. Sorafenib and regorafinib are the only approved treatments for managing advanced HCC, and many others potential therapeutics have failed in Phase III clinical trials. [Previous studies](https://www.cell.com/cell/fulltext/S0092-8674(17)30639-6) studying genomic alterations in samples have found frequently-mutated genes LZTR1, EEF1A1, SF3B1, and SMARCA4.\n",
    "\n",
    "In addition to DNA alterations however, different biological and tumor microenvrionment factors can influence disease progression. A transcriptomic survey of tissues at various stages of disease progression could help elucidate some of the underlying pathways contributing to tumorigenesis."
   ]
  },
  {
   "cell_type": "markdown",
   "metadata": {},
   "source": [
    "## RNA Seq"
   ]
  },
  {
   "cell_type": "markdown",
   "metadata": {},
   "source": [
    "In this post, we'll be exploring a liver cancer RNA-seq dataset from TCGA. TCGA represents one of the most comprehensive publically-available datasets for cancer research. This tutorial will walk through several steps in how to obtain, process, explore and model gene expression data as it relates to cancer genomics.\n",
    "\n",
    "\n",
    "In biology, copies of our DNA are used as a template for creating different biological products and proterins. This intermediate copy is known as RNA. Unlike DNA, which is relatively static, RNA can change dynamically depending on environmental factors and stimuli. Technological and commercial advances in next-generation sequencing provided cost-effective methods for conducting RNA-sequencing (RNA-seq) in experiments and a plethora of data. \n",
    "\n",
    "Traditionally, RNA is extracted from a sample, and transcribed to a more stable DNA copy(known as complementary DNA because it's the complement to the RNA sample). Sequencing works by attaching one side of each RNA molecule to a surface and repeatedly cycling through a process of attaching colored probes that bind to the RNA, imaging the probe, and washing off the probe. Rinse and repeat.\n",
    "\n",
    "Following this process we now have tons of strings of T's,C's,G's, and A's that has been barcoded on either side of the sequence. Since each barcode attaches to a known and unique sequence of a gene, we can match these sequences to a reference genome.\n",
    "- Alignment and assembly\n",
    "- Quantification\n",
    "- Differential expression\n",
    "\n",
    "RNA-seq can provide a granular way to understand which genes are being actively expressed (or suppressed) at any given time, and provide insight into the role of certain gentic components in influencing tumor progression."
   ]
  },
  {
   "cell_type": "code",
   "execution_count": null,
   "metadata": {
    "collapsed": true
   },
   "outputs": [],
   "source": [
    "Differential expression\n"
   ]
  },
  {
   "cell_type": "code",
   "execution_count": null,
   "metadata": {
    "collapsed": true
   },
   "outputs": [],
   "source": [
    "Intro to the data\n",
    "\n",
    "\n",
    "Preparing our data\n",
    "\n"
   ]
  },
  {
   "cell_type": "markdown",
   "metadata": {},
   "source": [
    "\n",
    "\n",
    "Exploratory analysis\n",
    "\n",
    "Before we start any kind of modeling, it's a good idea to observe some high levels patterns within our data to make sure that with all the steps in our process, our data looks accurate.\n",
    "\n",
    "These biological datasets provide a unique challenge in that they tend to be very wide (~20k genes for a human genome) and short (sequencing information on clinical samples can be expensive or unavailable and certain conditions may be very rare).\n",
    "\n",
    "By observing our dataset"
   ]
  },
  {
   "cell_type": "code",
   "execution_count": null,
   "metadata": {
    "collapsed": true
   },
   "outputs": [],
   "source": [
    "Questions:\n",
    "What is the range of values for a given gene?\n",
    "What is the distribution of values for a given gene?\n",
    "Are there higher than average or lower than average expression of genes?\n",
    "Which genes are differentially expressed? Are they positively or negatively expressed compared to your control?\n",
    "What do these genes do? Which pathways are they involved in?\n",
    "Are there related clinical phenotypes which might show similar differences in expression?\n",
    "How many unique values are there for a given clinical attribute?\n",
    "How can we define an appropriate response variable for supervised learning?\n",
    "What clinical attributes can be used to identify biomarkers for disease progression?\n",
    "Background and problem setting - Matt\n",
    "Liver Cancer\n",
    "TCGA\n",
    "RNA-seq and data introduction\n",
    "Setting up Spell AI platform - Nick\n",
    "EDA - Matt/Nick\n"
   ]
  }
 ],
 "metadata": {
  "kernelspec": {
   "display_name": "env-tcga",
   "language": "python",
   "name": "env-tcga"
  },
  "language_info": {
   "codemirror_mode": {
    "name": "ipython",
    "version": 3
   },
   "file_extension": ".py",
   "mimetype": "text/x-python",
   "name": "python",
   "nbconvert_exporter": "python",
   "pygments_lexer": "ipython3",
   "version": "3.6.7"
  }
 },
 "nbformat": 4,
 "nbformat_minor": 2
}
