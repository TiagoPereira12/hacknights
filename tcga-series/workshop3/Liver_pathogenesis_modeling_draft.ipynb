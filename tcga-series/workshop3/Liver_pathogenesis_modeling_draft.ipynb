{
 "cells": [
  {
   "cell_type": "markdown",
   "metadata": {},
   "source": [
    "## Relationship between the hallmarks of cancer and liver cancer progression"
   ]
  },
  {
   "cell_type": "markdown",
   "metadata": {},
   "source": [
    "### Load libraries"
   ]
  },
  {
   "cell_type": "code",
   "execution_count": 1,
   "metadata": {
    "collapsed": true
   },
   "outputs": [],
   "source": [
    "import numpy as np\n",
    "import pandas as pd\n",
    "import matplotlib.pyplot as plt\n",
    "import seaborn as sns"
   ]
  },
  {
   "cell_type": "markdown",
   "metadata": {},
   "source": [
    "### Set variables"
   ]
  },
  {
   "cell_type": "code",
   "execution_count": 2,
   "metadata": {
    "collapsed": true
   },
   "outputs": [],
   "source": [
    "data_dir=\"\"\n",
    "response_name=\"patient.race\"\n",
    "rnaseq_file=data_dir+\"lihc_rnaseq.csv.gz\"\n",
    "clinical_file=data_dir+\"lihc_clinical.csv.gz\""
   ]
  },
  {
   "cell_type": "markdown",
   "metadata": {},
   "source": [
    "### Load data"
   ]
  },
  {
   "cell_type": "markdown",
   "metadata": {},
   "source": [
    "#### RNASeq"
   ]
  },
  {
   "cell_type": "code",
   "execution_count": 4,
   "metadata": {},
   "outputs": [
    {
     "data": {
      "text/plain": [
       "(423, 20531)"
      ]
     },
     "metadata": {},
     "output_type": "display_data"
    },
    {
     "data": {
      "text/html": [
       "<div>\n",
       "<style scoped>\n",
       "    .dataframe tbody tr th:only-of-type {\n",
       "        vertical-align: middle;\n",
       "    }\n",
       "\n",
       "    .dataframe tbody tr th {\n",
       "        vertical-align: top;\n",
       "    }\n",
       "\n",
       "    .dataframe thead th {\n",
       "        text-align: right;\n",
       "    }\n",
       "</style>\n",
       "<table border=\"1\" class=\"dataframe\">\n",
       "  <thead>\n",
       "    <tr style=\"text-align: right;\">\n",
       "      <th></th>\n",
       "      <th>?|100130426</th>\n",
       "      <th>?|100133144</th>\n",
       "      <th>?|100134869</th>\n",
       "      <th>?|10357</th>\n",
       "      <th>?|10431</th>\n",
       "      <th>?|136542</th>\n",
       "      <th>?|155060</th>\n",
       "      <th>?|26823</th>\n",
       "      <th>?|280660</th>\n",
       "      <th>?|317712</th>\n",
       "      <th>...</th>\n",
       "      <th>ZXDA|7789</th>\n",
       "      <th>ZXDB|158586</th>\n",
       "      <th>ZXDC|79364</th>\n",
       "      <th>ZYG11A|440590</th>\n",
       "      <th>ZYG11B|79699</th>\n",
       "      <th>ZYX|7791</th>\n",
       "      <th>ZZEF1|23140</th>\n",
       "      <th>ZZZ3|26009</th>\n",
       "      <th>psiTPTE22|387590</th>\n",
       "      <th>tAKR|389932</th>\n",
       "    </tr>\n",
       "    <tr>\n",
       "      <th>bcr_patient_barcode</th>\n",
       "      <th></th>\n",
       "      <th></th>\n",
       "      <th></th>\n",
       "      <th></th>\n",
       "      <th></th>\n",
       "      <th></th>\n",
       "      <th></th>\n",
       "      <th></th>\n",
       "      <th></th>\n",
       "      <th></th>\n",
       "      <th></th>\n",
       "      <th></th>\n",
       "      <th></th>\n",
       "      <th></th>\n",
       "      <th></th>\n",
       "      <th></th>\n",
       "      <th></th>\n",
       "      <th></th>\n",
       "      <th></th>\n",
       "      <th></th>\n",
       "      <th></th>\n",
       "    </tr>\n",
       "  </thead>\n",
       "  <tbody>\n",
       "    <tr>\n",
       "      <td>TCGA-2V-A95S-01A-11R-A37K-07</td>\n",
       "      <td>0</td>\n",
       "      <td>2</td>\n",
       "      <td>4</td>\n",
       "      <td>91</td>\n",
       "      <td>1018</td>\n",
       "      <td>0</td>\n",
       "      <td>142</td>\n",
       "      <td>1</td>\n",
       "      <td>0</td>\n",
       "      <td>0</td>\n",
       "      <td>...</td>\n",
       "      <td>25</td>\n",
       "      <td>274</td>\n",
       "      <td>795</td>\n",
       "      <td>19</td>\n",
       "      <td>500</td>\n",
       "      <td>3173</td>\n",
       "      <td>891</td>\n",
       "      <td>511</td>\n",
       "      <td>4</td>\n",
       "      <td>7</td>\n",
       "    </tr>\n",
       "    <tr>\n",
       "      <td>TCGA-2Y-A9GS-01A-12R-A38B-07</td>\n",
       "      <td>0</td>\n",
       "      <td>27</td>\n",
       "      <td>3</td>\n",
       "      <td>72</td>\n",
       "      <td>640</td>\n",
       "      <td>0</td>\n",
       "      <td>123</td>\n",
       "      <td>2</td>\n",
       "      <td>0</td>\n",
       "      <td>0</td>\n",
       "      <td>...</td>\n",
       "      <td>69</td>\n",
       "      <td>633</td>\n",
       "      <td>1154</td>\n",
       "      <td>72</td>\n",
       "      <td>1001</td>\n",
       "      <td>5302</td>\n",
       "      <td>756</td>\n",
       "      <td>861</td>\n",
       "      <td>7</td>\n",
       "      <td>483</td>\n",
       "    </tr>\n",
       "    <tr>\n",
       "      <td>TCGA-2Y-A9GT-01A-11R-A38B-07</td>\n",
       "      <td>0</td>\n",
       "      <td>0</td>\n",
       "      <td>5</td>\n",
       "      <td>96</td>\n",
       "      <td>743</td>\n",
       "      <td>0</td>\n",
       "      <td>96</td>\n",
       "      <td>2</td>\n",
       "      <td>1</td>\n",
       "      <td>0</td>\n",
       "      <td>...</td>\n",
       "      <td>47</td>\n",
       "      <td>1220</td>\n",
       "      <td>1134</td>\n",
       "      <td>13</td>\n",
       "      <td>1290</td>\n",
       "      <td>3220</td>\n",
       "      <td>861</td>\n",
       "      <td>524</td>\n",
       "      <td>15</td>\n",
       "      <td>84</td>\n",
       "    </tr>\n",
       "    <tr>\n",
       "      <td>TCGA-2Y-A9GU-01A-11R-A38B-07</td>\n",
       "      <td>0</td>\n",
       "      <td>6</td>\n",
       "      <td>6</td>\n",
       "      <td>62</td>\n",
       "      <td>1187</td>\n",
       "      <td>0</td>\n",
       "      <td>281</td>\n",
       "      <td>1</td>\n",
       "      <td>0</td>\n",
       "      <td>0</td>\n",
       "      <td>...</td>\n",
       "      <td>19</td>\n",
       "      <td>286</td>\n",
       "      <td>1151</td>\n",
       "      <td>10</td>\n",
       "      <td>942</td>\n",
       "      <td>3093</td>\n",
       "      <td>1340</td>\n",
       "      <td>344</td>\n",
       "      <td>3</td>\n",
       "      <td>3</td>\n",
       "    </tr>\n",
       "    <tr>\n",
       "      <td>TCGA-2Y-A9GV-01A-11R-A38B-07</td>\n",
       "      <td>0</td>\n",
       "      <td>12</td>\n",
       "      <td>6</td>\n",
       "      <td>105</td>\n",
       "      <td>879</td>\n",
       "      <td>0</td>\n",
       "      <td>283</td>\n",
       "      <td>0</td>\n",
       "      <td>0</td>\n",
       "      <td>0</td>\n",
       "      <td>...</td>\n",
       "      <td>42</td>\n",
       "      <td>1000</td>\n",
       "      <td>1632</td>\n",
       "      <td>5</td>\n",
       "      <td>1381</td>\n",
       "      <td>2903</td>\n",
       "      <td>576</td>\n",
       "      <td>666</td>\n",
       "      <td>3</td>\n",
       "      <td>120</td>\n",
       "    </tr>\n",
       "  </tbody>\n",
       "</table>\n",
       "<p>5 rows × 20531 columns</p>\n",
       "</div>"
      ],
      "text/plain": [
       "                              ?|100130426  ?|100133144  ?|100134869  ?|10357  \\\n",
       "bcr_patient_barcode                                                            \n",
       "TCGA-2V-A95S-01A-11R-A37K-07            0            2            4       91   \n",
       "TCGA-2Y-A9GS-01A-12R-A38B-07            0           27            3       72   \n",
       "TCGA-2Y-A9GT-01A-11R-A38B-07            0            0            5       96   \n",
       "TCGA-2Y-A9GU-01A-11R-A38B-07            0            6            6       62   \n",
       "TCGA-2Y-A9GV-01A-11R-A38B-07            0           12            6      105   \n",
       "\n",
       "                              ?|10431  ?|136542  ?|155060  ?|26823  ?|280660  \\\n",
       "bcr_patient_barcode                                                            \n",
       "TCGA-2V-A95S-01A-11R-A37K-07     1018         0       142        1         0   \n",
       "TCGA-2Y-A9GS-01A-12R-A38B-07      640         0       123        2         0   \n",
       "TCGA-2Y-A9GT-01A-11R-A38B-07      743         0        96        2         1   \n",
       "TCGA-2Y-A9GU-01A-11R-A38B-07     1187         0       281        1         0   \n",
       "TCGA-2Y-A9GV-01A-11R-A38B-07      879         0       283        0         0   \n",
       "\n",
       "                              ?|317712  ...  ZXDA|7789  ZXDB|158586  \\\n",
       "bcr_patient_barcode                     ...                           \n",
       "TCGA-2V-A95S-01A-11R-A37K-07         0  ...         25          274   \n",
       "TCGA-2Y-A9GS-01A-12R-A38B-07         0  ...         69          633   \n",
       "TCGA-2Y-A9GT-01A-11R-A38B-07         0  ...         47         1220   \n",
       "TCGA-2Y-A9GU-01A-11R-A38B-07         0  ...         19          286   \n",
       "TCGA-2Y-A9GV-01A-11R-A38B-07         0  ...         42         1000   \n",
       "\n",
       "                              ZXDC|79364  ZYG11A|440590  ZYG11B|79699  \\\n",
       "bcr_patient_barcode                                                     \n",
       "TCGA-2V-A95S-01A-11R-A37K-07         795             19           500   \n",
       "TCGA-2Y-A9GS-01A-12R-A38B-07        1154             72          1001   \n",
       "TCGA-2Y-A9GT-01A-11R-A38B-07        1134             13          1290   \n",
       "TCGA-2Y-A9GU-01A-11R-A38B-07        1151             10           942   \n",
       "TCGA-2Y-A9GV-01A-11R-A38B-07        1632              5          1381   \n",
       "\n",
       "                              ZYX|7791  ZZEF1|23140  ZZZ3|26009  \\\n",
       "bcr_patient_barcode                                               \n",
       "TCGA-2V-A95S-01A-11R-A37K-07      3173          891         511   \n",
       "TCGA-2Y-A9GS-01A-12R-A38B-07      5302          756         861   \n",
       "TCGA-2Y-A9GT-01A-11R-A38B-07      3220          861         524   \n",
       "TCGA-2Y-A9GU-01A-11R-A38B-07      3093         1340         344   \n",
       "TCGA-2Y-A9GV-01A-11R-A38B-07      2903          576         666   \n",
       "\n",
       "                              psiTPTE22|387590  tAKR|389932  \n",
       "bcr_patient_barcode                                          \n",
       "TCGA-2V-A95S-01A-11R-A37K-07                 4            7  \n",
       "TCGA-2Y-A9GS-01A-12R-A38B-07                 7          483  \n",
       "TCGA-2Y-A9GT-01A-11R-A38B-07                15           84  \n",
       "TCGA-2Y-A9GU-01A-11R-A38B-07                 3            3  \n",
       "TCGA-2Y-A9GV-01A-11R-A38B-07                 3          120  \n",
       "\n",
       "[5 rows x 20531 columns]"
      ]
     },
     "metadata": {},
     "output_type": "display_data"
    }
   ],
   "source": [
    "rnaseq = (pd.\n",
    "          read_csv(rnaseq_file,compression=\"gzip\").\n",
    "          set_index('bcr_patient_barcode').\n",
    "          applymap(lambda x : int(np.ceil(x)))\n",
    "         )\n",
    "display(rnaseq.shape)\n",
    "display(rnaseq.head())"
   ]
  },
  {
   "cell_type": "code",
   "execution_count": 5,
   "metadata": {},
   "outputs": [
    {
     "data": {
      "text/html": [
       "<div>\n",
       "<style scoped>\n",
       "    .dataframe tbody tr th:only-of-type {\n",
       "        vertical-align: middle;\n",
       "    }\n",
       "\n",
       "    .dataframe tbody tr th {\n",
       "        vertical-align: top;\n",
       "    }\n",
       "\n",
       "    .dataframe thead th {\n",
       "        text-align: right;\n",
       "    }\n",
       "</style>\n",
       "<table border=\"1\" class=\"dataframe\">\n",
       "  <thead>\n",
       "    <tr style=\"text-align: right;\">\n",
       "      <th></th>\n",
       "      <th>A1BG</th>\n",
       "      <th>A1CF</th>\n",
       "      <th>A2BP1</th>\n",
       "      <th>A2LD1</th>\n",
       "      <th>A2ML1</th>\n",
       "      <th>A2M</th>\n",
       "      <th>A4GALT</th>\n",
       "      <th>A4GNT</th>\n",
       "      <th>AAA1</th>\n",
       "      <th>AAAS</th>\n",
       "      <th>...</th>\n",
       "      <th>ZXDA</th>\n",
       "      <th>ZXDB</th>\n",
       "      <th>ZXDC</th>\n",
       "      <th>ZYG11A</th>\n",
       "      <th>ZYG11B</th>\n",
       "      <th>ZYX</th>\n",
       "      <th>ZZEF1</th>\n",
       "      <th>ZZZ3</th>\n",
       "      <th>psiTPTE22</th>\n",
       "      <th>tAKR</th>\n",
       "    </tr>\n",
       "    <tr>\n",
       "      <th>bcr_patient_barcode</th>\n",
       "      <th></th>\n",
       "      <th></th>\n",
       "      <th></th>\n",
       "      <th></th>\n",
       "      <th></th>\n",
       "      <th></th>\n",
       "      <th></th>\n",
       "      <th></th>\n",
       "      <th></th>\n",
       "      <th></th>\n",
       "      <th></th>\n",
       "      <th></th>\n",
       "      <th></th>\n",
       "      <th></th>\n",
       "      <th></th>\n",
       "      <th></th>\n",
       "      <th></th>\n",
       "      <th></th>\n",
       "      <th></th>\n",
       "      <th></th>\n",
       "      <th></th>\n",
       "    </tr>\n",
       "  </thead>\n",
       "  <tbody>\n",
       "    <tr>\n",
       "      <td>TCGA-2V-A95S-01A-11R-A37K-07</td>\n",
       "      <td>22283</td>\n",
       "      <td>584</td>\n",
       "      <td>0</td>\n",
       "      <td>375</td>\n",
       "      <td>0</td>\n",
       "      <td>286320</td>\n",
       "      <td>81</td>\n",
       "      <td>543</td>\n",
       "      <td>1</td>\n",
       "      <td>1032</td>\n",
       "      <td>...</td>\n",
       "      <td>25</td>\n",
       "      <td>274</td>\n",
       "      <td>795</td>\n",
       "      <td>19</td>\n",
       "      <td>500</td>\n",
       "      <td>3173</td>\n",
       "      <td>891</td>\n",
       "      <td>511</td>\n",
       "      <td>4</td>\n",
       "      <td>7</td>\n",
       "    </tr>\n",
       "    <tr>\n",
       "      <td>TCGA-2Y-A9GS-01A-12R-A38B-07</td>\n",
       "      <td>22642</td>\n",
       "      <td>1573</td>\n",
       "      <td>3</td>\n",
       "      <td>99</td>\n",
       "      <td>0</td>\n",
       "      <td>31169</td>\n",
       "      <td>163</td>\n",
       "      <td>2</td>\n",
       "      <td>1</td>\n",
       "      <td>903</td>\n",
       "      <td>...</td>\n",
       "      <td>69</td>\n",
       "      <td>633</td>\n",
       "      <td>1154</td>\n",
       "      <td>72</td>\n",
       "      <td>1001</td>\n",
       "      <td>5302</td>\n",
       "      <td>756</td>\n",
       "      <td>861</td>\n",
       "      <td>7</td>\n",
       "      <td>483</td>\n",
       "    </tr>\n",
       "    <tr>\n",
       "      <td>TCGA-2Y-A9GT-01A-11R-A38B-07</td>\n",
       "      <td>77670</td>\n",
       "      <td>1281</td>\n",
       "      <td>0</td>\n",
       "      <td>215</td>\n",
       "      <td>1</td>\n",
       "      <td>19515</td>\n",
       "      <td>119</td>\n",
       "      <td>1</td>\n",
       "      <td>3</td>\n",
       "      <td>773</td>\n",
       "      <td>...</td>\n",
       "      <td>47</td>\n",
       "      <td>1220</td>\n",
       "      <td>1134</td>\n",
       "      <td>13</td>\n",
       "      <td>1290</td>\n",
       "      <td>3220</td>\n",
       "      <td>861</td>\n",
       "      <td>524</td>\n",
       "      <td>15</td>\n",
       "      <td>84</td>\n",
       "    </tr>\n",
       "    <tr>\n",
       "      <td>TCGA-2Y-A9GU-01A-11R-A38B-07</td>\n",
       "      <td>9323</td>\n",
       "      <td>1253</td>\n",
       "      <td>0</td>\n",
       "      <td>2914</td>\n",
       "      <td>2</td>\n",
       "      <td>243941</td>\n",
       "      <td>72</td>\n",
       "      <td>0</td>\n",
       "      <td>0</td>\n",
       "      <td>722</td>\n",
       "      <td>...</td>\n",
       "      <td>19</td>\n",
       "      <td>286</td>\n",
       "      <td>1151</td>\n",
       "      <td>10</td>\n",
       "      <td>942</td>\n",
       "      <td>3093</td>\n",
       "      <td>1340</td>\n",
       "      <td>344</td>\n",
       "      <td>3</td>\n",
       "      <td>3</td>\n",
       "    </tr>\n",
       "    <tr>\n",
       "      <td>TCGA-2Y-A9GV-01A-11R-A38B-07</td>\n",
       "      <td>84243</td>\n",
       "      <td>1641</td>\n",
       "      <td>0</td>\n",
       "      <td>404</td>\n",
       "      <td>0</td>\n",
       "      <td>8756</td>\n",
       "      <td>83</td>\n",
       "      <td>0</td>\n",
       "      <td>9</td>\n",
       "      <td>828</td>\n",
       "      <td>...</td>\n",
       "      <td>42</td>\n",
       "      <td>1000</td>\n",
       "      <td>1632</td>\n",
       "      <td>5</td>\n",
       "      <td>1381</td>\n",
       "      <td>2903</td>\n",
       "      <td>576</td>\n",
       "      <td>666</td>\n",
       "      <td>3</td>\n",
       "      <td>120</td>\n",
       "    </tr>\n",
       "  </tbody>\n",
       "</table>\n",
       "<p>5 rows × 20501 columns</p>\n",
       "</div>"
      ],
      "text/plain": [
       "                               A1BG  A1CF  A2BP1  A2LD1  A2ML1     A2M  \\\n",
       "bcr_patient_barcode                                                      \n",
       "TCGA-2V-A95S-01A-11R-A37K-07  22283   584      0    375      0  286320   \n",
       "TCGA-2Y-A9GS-01A-12R-A38B-07  22642  1573      3     99      0   31169   \n",
       "TCGA-2Y-A9GT-01A-11R-A38B-07  77670  1281      0    215      1   19515   \n",
       "TCGA-2Y-A9GU-01A-11R-A38B-07   9323  1253      0   2914      2  243941   \n",
       "TCGA-2Y-A9GV-01A-11R-A38B-07  84243  1641      0    404      0    8756   \n",
       "\n",
       "                              A4GALT  A4GNT  AAA1  AAAS  ...  ZXDA  ZXDB  \\\n",
       "bcr_patient_barcode                                      ...               \n",
       "TCGA-2V-A95S-01A-11R-A37K-07      81    543     1  1032  ...    25   274   \n",
       "TCGA-2Y-A9GS-01A-12R-A38B-07     163      2     1   903  ...    69   633   \n",
       "TCGA-2Y-A9GT-01A-11R-A38B-07     119      1     3   773  ...    47  1220   \n",
       "TCGA-2Y-A9GU-01A-11R-A38B-07      72      0     0   722  ...    19   286   \n",
       "TCGA-2Y-A9GV-01A-11R-A38B-07      83      0     9   828  ...    42  1000   \n",
       "\n",
       "                              ZXDC  ZYG11A  ZYG11B   ZYX  ZZEF1  ZZZ3  \\\n",
       "bcr_patient_barcode                                                     \n",
       "TCGA-2V-A95S-01A-11R-A37K-07   795      19     500  3173    891   511   \n",
       "TCGA-2Y-A9GS-01A-12R-A38B-07  1154      72    1001  5302    756   861   \n",
       "TCGA-2Y-A9GT-01A-11R-A38B-07  1134      13    1290  3220    861   524   \n",
       "TCGA-2Y-A9GU-01A-11R-A38B-07  1151      10     942  3093   1340   344   \n",
       "TCGA-2Y-A9GV-01A-11R-A38B-07  1632       5    1381  2903    576   666   \n",
       "\n",
       "                              psiTPTE22  tAKR  \n",
       "bcr_patient_barcode                            \n",
       "TCGA-2V-A95S-01A-11R-A37K-07          4     7  \n",
       "TCGA-2Y-A9GS-01A-12R-A38B-07          7   483  \n",
       "TCGA-2Y-A9GT-01A-11R-A38B-07         15    84  \n",
       "TCGA-2Y-A9GU-01A-11R-A38B-07          3     3  \n",
       "TCGA-2Y-A9GV-01A-11R-A38B-07          3   120  \n",
       "\n",
       "[5 rows x 20501 columns]"
      ]
     },
     "execution_count": 5,
     "metadata": {},
     "output_type": "execute_result"
    }
   ],
   "source": [
    "gene_name_logical = [len(x[0])>1 for x in rnaseq.columns.str.split('|')]\n",
    "sub = rnaseq.loc[:,gene_name_logical]\n",
    "sub.columns = [x[0] for x in sub.columns.str.split('|')]\n",
    "rnaseq_sub = sub.copy()\n",
    "rnaseq_sub.head()"
   ]
  },
  {
   "cell_type": "code",
   "execution_count": 6,
   "metadata": {},
   "outputs": [
    {
     "data": {
      "text/html": [
       "<div>\n",
       "<style scoped>\n",
       "    .dataframe tbody tr th:only-of-type {\n",
       "        vertical-align: middle;\n",
       "    }\n",
       "\n",
       "    .dataframe tbody tr th {\n",
       "        vertical-align: top;\n",
       "    }\n",
       "\n",
       "    .dataframe thead th {\n",
       "        text-align: right;\n",
       "    }\n",
       "</style>\n",
       "<table border=\"1\" class=\"dataframe\">\n",
       "  <thead>\n",
       "    <tr style=\"text-align: right;\">\n",
       "      <th></th>\n",
       "      <th>A1BG</th>\n",
       "      <th>A1CF</th>\n",
       "      <th>A2BP1</th>\n",
       "      <th>A2LD1</th>\n",
       "      <th>A2ML1</th>\n",
       "      <th>A2M</th>\n",
       "      <th>A4GALT</th>\n",
       "      <th>A4GNT</th>\n",
       "      <th>AAA1</th>\n",
       "      <th>AAAS</th>\n",
       "      <th>...</th>\n",
       "      <th>ZXDA</th>\n",
       "      <th>ZXDB</th>\n",
       "      <th>ZXDC</th>\n",
       "      <th>ZYG11A</th>\n",
       "      <th>ZYG11B</th>\n",
       "      <th>ZYX</th>\n",
       "      <th>ZZEF1</th>\n",
       "      <th>ZZZ3</th>\n",
       "      <th>psiTPTE22</th>\n",
       "      <th>tAKR</th>\n",
       "    </tr>\n",
       "    <tr>\n",
       "      <th>bcr_patient_barcode</th>\n",
       "      <th></th>\n",
       "      <th></th>\n",
       "      <th></th>\n",
       "      <th></th>\n",
       "      <th></th>\n",
       "      <th></th>\n",
       "      <th></th>\n",
       "      <th></th>\n",
       "      <th></th>\n",
       "      <th></th>\n",
       "      <th></th>\n",
       "      <th></th>\n",
       "      <th></th>\n",
       "      <th></th>\n",
       "      <th></th>\n",
       "      <th></th>\n",
       "      <th></th>\n",
       "      <th></th>\n",
       "      <th></th>\n",
       "      <th></th>\n",
       "      <th></th>\n",
       "    </tr>\n",
       "  </thead>\n",
       "  <tbody>\n",
       "    <tr>\n",
       "      <td>tcga-2v-a95s</td>\n",
       "      <td>22283</td>\n",
       "      <td>584</td>\n",
       "      <td>0</td>\n",
       "      <td>375</td>\n",
       "      <td>0</td>\n",
       "      <td>286320</td>\n",
       "      <td>81</td>\n",
       "      <td>543</td>\n",
       "      <td>1</td>\n",
       "      <td>1032</td>\n",
       "      <td>...</td>\n",
       "      <td>25</td>\n",
       "      <td>274</td>\n",
       "      <td>795</td>\n",
       "      <td>19</td>\n",
       "      <td>500</td>\n",
       "      <td>3173</td>\n",
       "      <td>891</td>\n",
       "      <td>511</td>\n",
       "      <td>4</td>\n",
       "      <td>7</td>\n",
       "    </tr>\n",
       "    <tr>\n",
       "      <td>tcga-2y-a9gs</td>\n",
       "      <td>22642</td>\n",
       "      <td>1573</td>\n",
       "      <td>3</td>\n",
       "      <td>99</td>\n",
       "      <td>0</td>\n",
       "      <td>31169</td>\n",
       "      <td>163</td>\n",
       "      <td>2</td>\n",
       "      <td>1</td>\n",
       "      <td>903</td>\n",
       "      <td>...</td>\n",
       "      <td>69</td>\n",
       "      <td>633</td>\n",
       "      <td>1154</td>\n",
       "      <td>72</td>\n",
       "      <td>1001</td>\n",
       "      <td>5302</td>\n",
       "      <td>756</td>\n",
       "      <td>861</td>\n",
       "      <td>7</td>\n",
       "      <td>483</td>\n",
       "    </tr>\n",
       "    <tr>\n",
       "      <td>tcga-2y-a9gt</td>\n",
       "      <td>77670</td>\n",
       "      <td>1281</td>\n",
       "      <td>0</td>\n",
       "      <td>215</td>\n",
       "      <td>1</td>\n",
       "      <td>19515</td>\n",
       "      <td>119</td>\n",
       "      <td>1</td>\n",
       "      <td>3</td>\n",
       "      <td>773</td>\n",
       "      <td>...</td>\n",
       "      <td>47</td>\n",
       "      <td>1220</td>\n",
       "      <td>1134</td>\n",
       "      <td>13</td>\n",
       "      <td>1290</td>\n",
       "      <td>3220</td>\n",
       "      <td>861</td>\n",
       "      <td>524</td>\n",
       "      <td>15</td>\n",
       "      <td>84</td>\n",
       "    </tr>\n",
       "    <tr>\n",
       "      <td>tcga-2y-a9gu</td>\n",
       "      <td>9323</td>\n",
       "      <td>1253</td>\n",
       "      <td>0</td>\n",
       "      <td>2914</td>\n",
       "      <td>2</td>\n",
       "      <td>243941</td>\n",
       "      <td>72</td>\n",
       "      <td>0</td>\n",
       "      <td>0</td>\n",
       "      <td>722</td>\n",
       "      <td>...</td>\n",
       "      <td>19</td>\n",
       "      <td>286</td>\n",
       "      <td>1151</td>\n",
       "      <td>10</td>\n",
       "      <td>942</td>\n",
       "      <td>3093</td>\n",
       "      <td>1340</td>\n",
       "      <td>344</td>\n",
       "      <td>3</td>\n",
       "      <td>3</td>\n",
       "    </tr>\n",
       "    <tr>\n",
       "      <td>tcga-2y-a9gv</td>\n",
       "      <td>84243</td>\n",
       "      <td>1641</td>\n",
       "      <td>0</td>\n",
       "      <td>404</td>\n",
       "      <td>0</td>\n",
       "      <td>8756</td>\n",
       "      <td>83</td>\n",
       "      <td>0</td>\n",
       "      <td>9</td>\n",
       "      <td>828</td>\n",
       "      <td>...</td>\n",
       "      <td>42</td>\n",
       "      <td>1000</td>\n",
       "      <td>1632</td>\n",
       "      <td>5</td>\n",
       "      <td>1381</td>\n",
       "      <td>2903</td>\n",
       "      <td>576</td>\n",
       "      <td>666</td>\n",
       "      <td>3</td>\n",
       "      <td>120</td>\n",
       "    </tr>\n",
       "  </tbody>\n",
       "</table>\n",
       "<p>5 rows × 20501 columns</p>\n",
       "</div>"
      ],
      "text/plain": [
       "                      A1BG  A1CF  A2BP1  A2LD1  A2ML1     A2M  A4GALT  A4GNT  \\\n",
       "bcr_patient_barcode                                                            \n",
       "tcga-2v-a95s         22283   584      0    375      0  286320      81    543   \n",
       "tcga-2y-a9gs         22642  1573      3     99      0   31169     163      2   \n",
       "tcga-2y-a9gt         77670  1281      0    215      1   19515     119      1   \n",
       "tcga-2y-a9gu          9323  1253      0   2914      2  243941      72      0   \n",
       "tcga-2y-a9gv         84243  1641      0    404      0    8756      83      0   \n",
       "\n",
       "                     AAA1  AAAS  ...  ZXDA  ZXDB  ZXDC  ZYG11A  ZYG11B   ZYX  \\\n",
       "bcr_patient_barcode              ...                                           \n",
       "tcga-2v-a95s            1  1032  ...    25   274   795      19     500  3173   \n",
       "tcga-2y-a9gs            1   903  ...    69   633  1154      72    1001  5302   \n",
       "tcga-2y-a9gt            3   773  ...    47  1220  1134      13    1290  3220   \n",
       "tcga-2y-a9gu            0   722  ...    19   286  1151      10     942  3093   \n",
       "tcga-2y-a9gv            9   828  ...    42  1000  1632       5    1381  2903   \n",
       "\n",
       "                     ZZEF1  ZZZ3  psiTPTE22  tAKR  \n",
       "bcr_patient_barcode                                \n",
       "tcga-2v-a95s           891   511          4     7  \n",
       "tcga-2y-a9gs           756   861          7   483  \n",
       "tcga-2y-a9gt           861   524         15    84  \n",
       "tcga-2y-a9gu          1340   344          3     3  \n",
       "tcga-2y-a9gv           576   666          3   120  \n",
       "\n",
       "[5 rows x 20501 columns]"
      ]
     },
     "execution_count": 6,
     "metadata": {},
     "output_type": "execute_result"
    }
   ],
   "source": [
    "rnaseq_sub.index = rnaseq_sub.index.map(lambda x: '-'.join(x.split('-')[:3]).lower())\n",
    "rnaseq_sub.head()"
   ]
  },
  {
   "cell_type": "markdown",
   "metadata": {},
   "source": [
    "#### Clinical "
   ]
  },
  {
   "cell_type": "code",
   "execution_count": 7,
   "metadata": {},
   "outputs": [
    {
     "data": {
      "text/html": [
       "<div>\n",
       "<style scoped>\n",
       "    .dataframe tbody tr th:only-of-type {\n",
       "        vertical-align: middle;\n",
       "    }\n",
       "\n",
       "    .dataframe tbody tr th {\n",
       "        vertical-align: top;\n",
       "    }\n",
       "\n",
       "    .dataframe thead th {\n",
       "        text-align: right;\n",
       "    }\n",
       "</style>\n",
       "<table border=\"1\" class=\"dataframe\">\n",
       "  <thead>\n",
       "    <tr style=\"text-align: right;\">\n",
       "      <th></th>\n",
       "      <th>case_id</th>\n",
       "      <th>submitter_id</th>\n",
       "      <th>project_id</th>\n",
       "      <th>gender</th>\n",
       "      <th>year_of_birth</th>\n",
       "      <th>race</th>\n",
       "      <th>days_to_birth</th>\n",
       "      <th>ethnicity</th>\n",
       "      <th>vital_status</th>\n",
       "      <th>days_to_death</th>\n",
       "      <th>...</th>\n",
       "      <th>treatment_effect</th>\n",
       "      <th>initial_disease_status</th>\n",
       "      <th>treatment_type</th>\n",
       "      <th>therapeutic_agents</th>\n",
       "      <th>regimen_or_line_of_therapy</th>\n",
       "      <th>treatment_intent_type</th>\n",
       "      <th>treatment_anatomic_site</th>\n",
       "      <th>treatment_outcome</th>\n",
       "      <th>days_to_treatment_end</th>\n",
       "      <th>treatment_or_therapy</th>\n",
       "    </tr>\n",
       "  </thead>\n",
       "  <tbody>\n",
       "    <tr>\n",
       "      <td>0</td>\n",
       "      <td>bce25281-502e-4599-9679-32dc8462ffb1</td>\n",
       "      <td>tcga-dd-a4ne</td>\n",
       "      <td>TCGA-LIHC</td>\n",
       "      <td>female</td>\n",
       "      <td>1936</td>\n",
       "      <td>white</td>\n",
       "      <td>-27549</td>\n",
       "      <td>hispanic or latino</td>\n",
       "      <td>Dead</td>\n",
       "      <td>660</td>\n",
       "      <td>...</td>\n",
       "      <td>--</td>\n",
       "      <td>--</td>\n",
       "      <td>Pharmaceutical Therapy, NOS</td>\n",
       "      <td>--</td>\n",
       "      <td>--</td>\n",
       "      <td>--</td>\n",
       "      <td>--</td>\n",
       "      <td>--</td>\n",
       "      <td>--</td>\n",
       "      <td>no</td>\n",
       "    </tr>\n",
       "    <tr>\n",
       "      <td>1</td>\n",
       "      <td>654af137-70d9-4ee4-9f69-793e352d30f8</td>\n",
       "      <td>tcga-dd-a1ee</td>\n",
       "      <td>TCGA-LIHC</td>\n",
       "      <td>male</td>\n",
       "      <td>1933</td>\n",
       "      <td>white</td>\n",
       "      <td>-26858</td>\n",
       "      <td>not hispanic or latino</td>\n",
       "      <td>Dead</td>\n",
       "      <td>349</td>\n",
       "      <td>...</td>\n",
       "      <td>--</td>\n",
       "      <td>--</td>\n",
       "      <td>Pharmaceutical Therapy, NOS</td>\n",
       "      <td>--</td>\n",
       "      <td>--</td>\n",
       "      <td>--</td>\n",
       "      <td>--</td>\n",
       "      <td>--</td>\n",
       "      <td>--</td>\n",
       "      <td>no</td>\n",
       "    </tr>\n",
       "    <tr>\n",
       "      <td>2</td>\n",
       "      <td>45f00f00-d793-4dca-aeb9-7626d4575c90</td>\n",
       "      <td>tcga-gj-a9db</td>\n",
       "      <td>TCGA-LIHC</td>\n",
       "      <td>male</td>\n",
       "      <td>1945</td>\n",
       "      <td>white</td>\n",
       "      <td>-25020</td>\n",
       "      <td>not hispanic or latino</td>\n",
       "      <td>Dead</td>\n",
       "      <td>67</td>\n",
       "      <td>...</td>\n",
       "      <td>--</td>\n",
       "      <td>--</td>\n",
       "      <td>Pharmaceutical Therapy, NOS</td>\n",
       "      <td>--</td>\n",
       "      <td>--</td>\n",
       "      <td>--</td>\n",
       "      <td>--</td>\n",
       "      <td>--</td>\n",
       "      <td>--</td>\n",
       "      <td>no</td>\n",
       "    </tr>\n",
       "    <tr>\n",
       "      <td>3</td>\n",
       "      <td>496beef9-80d9-4734-a23d-334ae1b6aaab</td>\n",
       "      <td>tcga-dd-aac8</td>\n",
       "      <td>TCGA-LIHC</td>\n",
       "      <td>male</td>\n",
       "      <td>1936</td>\n",
       "      <td>asian</td>\n",
       "      <td>-26322</td>\n",
       "      <td>not hispanic or latino</td>\n",
       "      <td>Dead</td>\n",
       "      <td>16</td>\n",
       "      <td>...</td>\n",
       "      <td>--</td>\n",
       "      <td>--</td>\n",
       "      <td>Pharmaceutical Therapy, NOS</td>\n",
       "      <td>--</td>\n",
       "      <td>--</td>\n",
       "      <td>--</td>\n",
       "      <td>--</td>\n",
       "      <td>--</td>\n",
       "      <td>--</td>\n",
       "      <td>no</td>\n",
       "    </tr>\n",
       "    <tr>\n",
       "      <td>4</td>\n",
       "      <td>d1aa9c1a-d732-48c0-b669-8a14e0397344</td>\n",
       "      <td>tcga-2y-a9gv</td>\n",
       "      <td>TCGA-LIHC</td>\n",
       "      <td>female</td>\n",
       "      <td>1953</td>\n",
       "      <td>white</td>\n",
       "      <td>-20011</td>\n",
       "      <td>not hispanic or latino</td>\n",
       "      <td>Dead</td>\n",
       "      <td>2532</td>\n",
       "      <td>...</td>\n",
       "      <td>--</td>\n",
       "      <td>--</td>\n",
       "      <td>Pharmaceutical Therapy, NOS</td>\n",
       "      <td>--</td>\n",
       "      <td>--</td>\n",
       "      <td>--</td>\n",
       "      <td>--</td>\n",
       "      <td>--</td>\n",
       "      <td>--</td>\n",
       "      <td>yes</td>\n",
       "    </tr>\n",
       "  </tbody>\n",
       "</table>\n",
       "<p>5 rows × 47 columns</p>\n",
       "</div>"
      ],
      "text/plain": [
       "                                case_id  submitter_id project_id  gender  \\\n",
       "0  bce25281-502e-4599-9679-32dc8462ffb1  tcga-dd-a4ne  TCGA-LIHC  female   \n",
       "1  654af137-70d9-4ee4-9f69-793e352d30f8  tcga-dd-a1ee  TCGA-LIHC    male   \n",
       "2  45f00f00-d793-4dca-aeb9-7626d4575c90  tcga-gj-a9db  TCGA-LIHC    male   \n",
       "3  496beef9-80d9-4734-a23d-334ae1b6aaab  tcga-dd-aac8  TCGA-LIHC    male   \n",
       "4  d1aa9c1a-d732-48c0-b669-8a14e0397344  tcga-2y-a9gv  TCGA-LIHC  female   \n",
       "\n",
       "  year_of_birth   race days_to_birth               ethnicity vital_status  \\\n",
       "0          1936  white        -27549      hispanic or latino         Dead   \n",
       "1          1933  white        -26858  not hispanic or latino         Dead   \n",
       "2          1945  white        -25020  not hispanic or latino         Dead   \n",
       "3          1936  asian        -26322  not hispanic or latino         Dead   \n",
       "4          1953  white        -20011  not hispanic or latino         Dead   \n",
       "\n",
       "  days_to_death  ... treatment_effect initial_disease_status  \\\n",
       "0           660  ...               --                     --   \n",
       "1           349  ...               --                     --   \n",
       "2            67  ...               --                     --   \n",
       "3            16  ...               --                     --   \n",
       "4          2532  ...               --                     --   \n",
       "\n",
       "                treatment_type therapeutic_agents regimen_or_line_of_therapy  \\\n",
       "0  Pharmaceutical Therapy, NOS                 --                         --   \n",
       "1  Pharmaceutical Therapy, NOS                 --                         --   \n",
       "2  Pharmaceutical Therapy, NOS                 --                         --   \n",
       "3  Pharmaceutical Therapy, NOS                 --                         --   \n",
       "4  Pharmaceutical Therapy, NOS                 --                         --   \n",
       "\n",
       "  treatment_intent_type treatment_anatomic_site treatment_outcome  \\\n",
       "0                    --                      --                --   \n",
       "1                    --                      --                --   \n",
       "2                    --                      --                --   \n",
       "3                    --                      --                --   \n",
       "4                    --                      --                --   \n",
       "\n",
       "  days_to_treatment_end treatment_or_therapy  \n",
       "0                    --                   no  \n",
       "1                    --                   no  \n",
       "2                    --                   no  \n",
       "3                    --                   no  \n",
       "4                    --                  yes  \n",
       "\n",
       "[5 rows x 47 columns]"
      ]
     },
     "execution_count": 7,
     "metadata": {},
     "output_type": "execute_result"
    }
   ],
   "source": [
    "clinical = pd.read_csv('clinical.tsv', sep='\\t')\n",
    "clinical['submitter_id'] = clinical['submitter_id'].map(lambda x: x.lower())\n",
    "clinical.head()"
   ]
  },
  {
   "cell_type": "markdown",
   "metadata": {},
   "source": [
    "#### Join RNASeq and Clinical tumor stage"
   ]
  },
  {
   "cell_type": "code",
   "execution_count": 8,
   "metadata": {},
   "outputs": [
    {
     "data": {
      "text/html": [
       "<div>\n",
       "<style scoped>\n",
       "    .dataframe tbody tr th:only-of-type {\n",
       "        vertical-align: middle;\n",
       "    }\n",
       "\n",
       "    .dataframe tbody tr th {\n",
       "        vertical-align: top;\n",
       "    }\n",
       "\n",
       "    .dataframe thead th {\n",
       "        text-align: right;\n",
       "    }\n",
       "</style>\n",
       "<table border=\"1\" class=\"dataframe\">\n",
       "  <thead>\n",
       "    <tr style=\"text-align: right;\">\n",
       "      <th></th>\n",
       "      <th>A1BG</th>\n",
       "      <th>A1CF</th>\n",
       "      <th>A2BP1</th>\n",
       "      <th>A2LD1</th>\n",
       "      <th>A2ML1</th>\n",
       "      <th>A2M</th>\n",
       "      <th>A4GALT</th>\n",
       "      <th>A4GNT</th>\n",
       "      <th>AAA1</th>\n",
       "      <th>AAAS</th>\n",
       "      <th>...</th>\n",
       "      <th>ZXDB</th>\n",
       "      <th>ZXDC</th>\n",
       "      <th>ZYG11A</th>\n",
       "      <th>ZYG11B</th>\n",
       "      <th>ZYX</th>\n",
       "      <th>ZZEF1</th>\n",
       "      <th>ZZZ3</th>\n",
       "      <th>psiTPTE22</th>\n",
       "      <th>tAKR</th>\n",
       "      <th>tumor_stage</th>\n",
       "    </tr>\n",
       "  </thead>\n",
       "  <tbody>\n",
       "    <tr>\n",
       "      <td>tcga-2v-a95s-0</td>\n",
       "      <td>22283</td>\n",
       "      <td>584</td>\n",
       "      <td>0</td>\n",
       "      <td>375</td>\n",
       "      <td>0</td>\n",
       "      <td>286320</td>\n",
       "      <td>81</td>\n",
       "      <td>543</td>\n",
       "      <td>1</td>\n",
       "      <td>1032</td>\n",
       "      <td>...</td>\n",
       "      <td>274</td>\n",
       "      <td>795</td>\n",
       "      <td>19</td>\n",
       "      <td>500</td>\n",
       "      <td>3173</td>\n",
       "      <td>891</td>\n",
       "      <td>511</td>\n",
       "      <td>4</td>\n",
       "      <td>7</td>\n",
       "      <td>8170/3</td>\n",
       "    </tr>\n",
       "    <tr>\n",
       "      <td>tcga-2y-a9gs-1</td>\n",
       "      <td>22642</td>\n",
       "      <td>1573</td>\n",
       "      <td>3</td>\n",
       "      <td>99</td>\n",
       "      <td>0</td>\n",
       "      <td>31169</td>\n",
       "      <td>163</td>\n",
       "      <td>2</td>\n",
       "      <td>1</td>\n",
       "      <td>903</td>\n",
       "      <td>...</td>\n",
       "      <td>633</td>\n",
       "      <td>1154</td>\n",
       "      <td>72</td>\n",
       "      <td>1001</td>\n",
       "      <td>5302</td>\n",
       "      <td>756</td>\n",
       "      <td>861</td>\n",
       "      <td>7</td>\n",
       "      <td>483</td>\n",
       "      <td>not reported</td>\n",
       "    </tr>\n",
       "    <tr>\n",
       "      <td>tcga-2y-a9gt-2</td>\n",
       "      <td>77670</td>\n",
       "      <td>1281</td>\n",
       "      <td>0</td>\n",
       "      <td>215</td>\n",
       "      <td>1</td>\n",
       "      <td>19515</td>\n",
       "      <td>119</td>\n",
       "      <td>1</td>\n",
       "      <td>3</td>\n",
       "      <td>773</td>\n",
       "      <td>...</td>\n",
       "      <td>1220</td>\n",
       "      <td>1134</td>\n",
       "      <td>13</td>\n",
       "      <td>1290</td>\n",
       "      <td>3220</td>\n",
       "      <td>861</td>\n",
       "      <td>524</td>\n",
       "      <td>15</td>\n",
       "      <td>84</td>\n",
       "      <td>stage i</td>\n",
       "    </tr>\n",
       "    <tr>\n",
       "      <td>tcga-2y-a9gu-3</td>\n",
       "      <td>9323</td>\n",
       "      <td>1253</td>\n",
       "      <td>0</td>\n",
       "      <td>2914</td>\n",
       "      <td>2</td>\n",
       "      <td>243941</td>\n",
       "      <td>72</td>\n",
       "      <td>0</td>\n",
       "      <td>0</td>\n",
       "      <td>722</td>\n",
       "      <td>...</td>\n",
       "      <td>286</td>\n",
       "      <td>1151</td>\n",
       "      <td>10</td>\n",
       "      <td>942</td>\n",
       "      <td>3093</td>\n",
       "      <td>1340</td>\n",
       "      <td>344</td>\n",
       "      <td>3</td>\n",
       "      <td>3</td>\n",
       "      <td>20187</td>\n",
       "    </tr>\n",
       "    <tr>\n",
       "      <td>tcga-2y-a9gv-4</td>\n",
       "      <td>84243</td>\n",
       "      <td>1641</td>\n",
       "      <td>0</td>\n",
       "      <td>404</td>\n",
       "      <td>0</td>\n",
       "      <td>8756</td>\n",
       "      <td>83</td>\n",
       "      <td>0</td>\n",
       "      <td>9</td>\n",
       "      <td>828</td>\n",
       "      <td>...</td>\n",
       "      <td>1000</td>\n",
       "      <td>1632</td>\n",
       "      <td>5</td>\n",
       "      <td>1381</td>\n",
       "      <td>2903</td>\n",
       "      <td>576</td>\n",
       "      <td>666</td>\n",
       "      <td>3</td>\n",
       "      <td>120</td>\n",
       "      <td>stage i</td>\n",
       "    </tr>\n",
       "  </tbody>\n",
       "</table>\n",
       "<p>5 rows × 20502 columns</p>\n",
       "</div>"
      ],
      "text/plain": [
       "                 A1BG  A1CF  A2BP1  A2LD1  A2ML1     A2M  A4GALT  A4GNT  AAA1  \\\n",
       "tcga-2v-a95s-0  22283   584      0    375      0  286320      81    543     1   \n",
       "tcga-2y-a9gs-1  22642  1573      3     99      0   31169     163      2     1   \n",
       "tcga-2y-a9gt-2  77670  1281      0    215      1   19515     119      1     3   \n",
       "tcga-2y-a9gu-3   9323  1253      0   2914      2  243941      72      0     0   \n",
       "tcga-2y-a9gv-4  84243  1641      0    404      0    8756      83      0     9   \n",
       "\n",
       "                AAAS  ...  ZXDB  ZXDC  ZYG11A  ZYG11B   ZYX  ZZEF1  ZZZ3  \\\n",
       "tcga-2v-a95s-0  1032  ...   274   795      19     500  3173    891   511   \n",
       "tcga-2y-a9gs-1   903  ...   633  1154      72    1001  5302    756   861   \n",
       "tcga-2y-a9gt-2   773  ...  1220  1134      13    1290  3220    861   524   \n",
       "tcga-2y-a9gu-3   722  ...   286  1151      10     942  3093   1340   344   \n",
       "tcga-2y-a9gv-4   828  ...  1000  1632       5    1381  2903    576   666   \n",
       "\n",
       "                psiTPTE22  tAKR   tumor_stage  \n",
       "tcga-2v-a95s-0          4     7        8170/3  \n",
       "tcga-2y-a9gs-1          7   483  not reported  \n",
       "tcga-2y-a9gt-2         15    84       stage i  \n",
       "tcga-2y-a9gu-3          3     3         20187  \n",
       "tcga-2y-a9gv-4          3   120       stage i  \n",
       "\n",
       "[5 rows x 20502 columns]"
      ]
     },
     "execution_count": 8,
     "metadata": {},
     "output_type": "execute_result"
    }
   ],
   "source": [
    "full_df = pd.merge(rnaseq_sub.reset_index(), clinical[['submitter_id','tumor_stage']], left_on='bcr_patient_barcode', right_on='submitter_id', how='inner') \\\n",
    "    .set_index('bcr_patient_barcode') \\\n",
    "    .drop('submitter_id', axis=1)\n",
    "#ensuring ID uniqueness\n",
    "full_df.index = [x+'-'+str(i) for i,x in enumerate(full_df.index)]\n",
    "full_df.head()"
   ]
  },
  {
   "cell_type": "code",
   "execution_count": 9,
   "metadata": {},
   "outputs": [
    {
     "data": {
      "text/plain": [
       "(423,)"
      ]
     },
     "execution_count": 9,
     "metadata": {},
     "output_type": "execute_result"
    }
   ],
   "source": [
    "full_df.index.drop_duplicates().shape"
   ]
  },
  {
   "cell_type": "code",
   "execution_count": 10,
   "metadata": {
    "collapsed": true
   },
   "outputs": [],
   "source": [
    "tumor_stages = clinical['tumor_stage'].value_counts()"
   ]
  },
  {
   "cell_type": "code",
   "execution_count": 11,
   "metadata": {},
   "outputs": [
    {
     "data": {
      "text/plain": [
       "stage i         43\n",
       "stage iiia      34\n",
       "stage ii        25\n",
       "not reported    14\n",
       "stage iiic       5\n",
       "                ..\n",
       "23380            1\n",
       "24377            1\n",
       "11838            1\n",
       "25254            1\n",
       "16760            1\n",
       "Name: tumor_stage, Length: 252, dtype: int64"
      ]
     },
     "execution_count": 11,
     "metadata": {},
     "output_type": "execute_result"
    }
   ],
   "source": [
    "tumor_stages"
   ]
  },
  {
   "cell_type": "code",
   "execution_count": 12,
   "metadata": {},
   "outputs": [
    {
     "data": {
      "text/plain": [
       "stage i       43\n",
       "stage iiia    34\n",
       "stage ii      25\n",
       "stage iiic     5\n",
       "stage iiib     4\n",
       "stage ivb      2\n",
       "stage iii      2\n",
       "stage iv       1\n",
       "Name: tumor_stage, dtype: int64"
      ]
     },
     "execution_count": 12,
     "metadata": {},
     "output_type": "execute_result"
    }
   ],
   "source": [
    "# Subset out the recognizable stages\n",
    "tumor_stages[tumor_stages.index.str.startswith('stage')]"
   ]
  },
  {
   "cell_type": "code",
   "execution_count": 13,
   "metadata": {},
   "outputs": [
    {
     "data": {
      "text/html": [
       "<div>\n",
       "<style scoped>\n",
       "    .dataframe tbody tr th:only-of-type {\n",
       "        vertical-align: middle;\n",
       "    }\n",
       "\n",
       "    .dataframe tbody tr th {\n",
       "        vertical-align: top;\n",
       "    }\n",
       "\n",
       "    .dataframe thead th {\n",
       "        text-align: right;\n",
       "    }\n",
       "</style>\n",
       "<table border=\"1\" class=\"dataframe\">\n",
       "  <thead>\n",
       "    <tr style=\"text-align: right;\">\n",
       "      <th></th>\n",
       "      <th>A1BG</th>\n",
       "      <th>A1CF</th>\n",
       "      <th>A2BP1</th>\n",
       "      <th>A2LD1</th>\n",
       "      <th>A2ML1</th>\n",
       "      <th>A2M</th>\n",
       "      <th>A4GALT</th>\n",
       "      <th>A4GNT</th>\n",
       "      <th>AAA1</th>\n",
       "      <th>AAAS</th>\n",
       "      <th>...</th>\n",
       "      <th>ZXDB</th>\n",
       "      <th>ZXDC</th>\n",
       "      <th>ZYG11A</th>\n",
       "      <th>ZYG11B</th>\n",
       "      <th>ZYX</th>\n",
       "      <th>ZZEF1</th>\n",
       "      <th>ZZZ3</th>\n",
       "      <th>psiTPTE22</th>\n",
       "      <th>tAKR</th>\n",
       "      <th>tumor_stage</th>\n",
       "    </tr>\n",
       "  </thead>\n",
       "  <tbody>\n",
       "    <tr>\n",
       "      <td>tcga-2y-a9gt-2</td>\n",
       "      <td>77670</td>\n",
       "      <td>1281</td>\n",
       "      <td>0</td>\n",
       "      <td>215</td>\n",
       "      <td>1</td>\n",
       "      <td>19515</td>\n",
       "      <td>119</td>\n",
       "      <td>1</td>\n",
       "      <td>3</td>\n",
       "      <td>773</td>\n",
       "      <td>...</td>\n",
       "      <td>1220</td>\n",
       "      <td>1134</td>\n",
       "      <td>13</td>\n",
       "      <td>1290</td>\n",
       "      <td>3220</td>\n",
       "      <td>861</td>\n",
       "      <td>524</td>\n",
       "      <td>15</td>\n",
       "      <td>84</td>\n",
       "      <td>i</td>\n",
       "    </tr>\n",
       "    <tr>\n",
       "      <td>tcga-2y-a9gv-4</td>\n",
       "      <td>84243</td>\n",
       "      <td>1641</td>\n",
       "      <td>0</td>\n",
       "      <td>404</td>\n",
       "      <td>0</td>\n",
       "      <td>8756</td>\n",
       "      <td>83</td>\n",
       "      <td>0</td>\n",
       "      <td>9</td>\n",
       "      <td>828</td>\n",
       "      <td>...</td>\n",
       "      <td>1000</td>\n",
       "      <td>1632</td>\n",
       "      <td>5</td>\n",
       "      <td>1381</td>\n",
       "      <td>2903</td>\n",
       "      <td>576</td>\n",
       "      <td>666</td>\n",
       "      <td>3</td>\n",
       "      <td>120</td>\n",
       "      <td>i</td>\n",
       "    </tr>\n",
       "    <tr>\n",
       "      <td>tcga-2y-a9gw-5</td>\n",
       "      <td>73056</td>\n",
       "      <td>1423</td>\n",
       "      <td>0</td>\n",
       "      <td>270</td>\n",
       "      <td>0</td>\n",
       "      <td>43813</td>\n",
       "      <td>299</td>\n",
       "      <td>0</td>\n",
       "      <td>1</td>\n",
       "      <td>622</td>\n",
       "      <td>...</td>\n",
       "      <td>1647</td>\n",
       "      <td>707</td>\n",
       "      <td>30</td>\n",
       "      <td>748</td>\n",
       "      <td>8467</td>\n",
       "      <td>993</td>\n",
       "      <td>457</td>\n",
       "      <td>7</td>\n",
       "      <td>103</td>\n",
       "      <td>i</td>\n",
       "    </tr>\n",
       "    <tr>\n",
       "      <td>tcga-2y-a9gy-7</td>\n",
       "      <td>23352</td>\n",
       "      <td>1559</td>\n",
       "      <td>0</td>\n",
       "      <td>104</td>\n",
       "      <td>2</td>\n",
       "      <td>11699</td>\n",
       "      <td>42</td>\n",
       "      <td>2</td>\n",
       "      <td>3</td>\n",
       "      <td>1179</td>\n",
       "      <td>...</td>\n",
       "      <td>166</td>\n",
       "      <td>996</td>\n",
       "      <td>129</td>\n",
       "      <td>486</td>\n",
       "      <td>3825</td>\n",
       "      <td>458</td>\n",
       "      <td>471</td>\n",
       "      <td>14</td>\n",
       "      <td>1</td>\n",
       "      <td>ii</td>\n",
       "    </tr>\n",
       "    <tr>\n",
       "      <td>tcga-2y-a9gz-8</td>\n",
       "      <td>43942</td>\n",
       "      <td>2033</td>\n",
       "      <td>1</td>\n",
       "      <td>963</td>\n",
       "      <td>0</td>\n",
       "      <td>264407</td>\n",
       "      <td>97</td>\n",
       "      <td>1</td>\n",
       "      <td>0</td>\n",
       "      <td>919</td>\n",
       "      <td>...</td>\n",
       "      <td>444</td>\n",
       "      <td>1318</td>\n",
       "      <td>128</td>\n",
       "      <td>1550</td>\n",
       "      <td>1394</td>\n",
       "      <td>712</td>\n",
       "      <td>976</td>\n",
       "      <td>5</td>\n",
       "      <td>271</td>\n",
       "      <td>ii</td>\n",
       "    </tr>\n",
       "    <tr>\n",
       "      <td>...</td>\n",
       "      <td>...</td>\n",
       "      <td>...</td>\n",
       "      <td>...</td>\n",
       "      <td>...</td>\n",
       "      <td>...</td>\n",
       "      <td>...</td>\n",
       "      <td>...</td>\n",
       "      <td>...</td>\n",
       "      <td>...</td>\n",
       "      <td>...</td>\n",
       "      <td>...</td>\n",
       "      <td>...</td>\n",
       "      <td>...</td>\n",
       "      <td>...</td>\n",
       "      <td>...</td>\n",
       "      <td>...</td>\n",
       "      <td>...</td>\n",
       "      <td>...</td>\n",
       "      <td>...</td>\n",
       "      <td>...</td>\n",
       "      <td>...</td>\n",
       "    </tr>\n",
       "    <tr>\n",
       "      <td>tcga-ub-a7mf-396</td>\n",
       "      <td>13195</td>\n",
       "      <td>641</td>\n",
       "      <td>0</td>\n",
       "      <td>493</td>\n",
       "      <td>0</td>\n",
       "      <td>110307</td>\n",
       "      <td>169</td>\n",
       "      <td>0</td>\n",
       "      <td>1</td>\n",
       "      <td>999</td>\n",
       "      <td>...</td>\n",
       "      <td>307</td>\n",
       "      <td>1222</td>\n",
       "      <td>30</td>\n",
       "      <td>638</td>\n",
       "      <td>3961</td>\n",
       "      <td>918</td>\n",
       "      <td>465</td>\n",
       "      <td>5</td>\n",
       "      <td>0</td>\n",
       "      <td>iii</td>\n",
       "    </tr>\n",
       "    <tr>\n",
       "      <td>tcga-wx-aa47-404</td>\n",
       "      <td>689</td>\n",
       "      <td>763</td>\n",
       "      <td>0</td>\n",
       "      <td>199</td>\n",
       "      <td>0</td>\n",
       "      <td>67703</td>\n",
       "      <td>830</td>\n",
       "      <td>0</td>\n",
       "      <td>0</td>\n",
       "      <td>1075</td>\n",
       "      <td>...</td>\n",
       "      <td>295</td>\n",
       "      <td>750</td>\n",
       "      <td>91</td>\n",
       "      <td>647</td>\n",
       "      <td>811</td>\n",
       "      <td>1198</td>\n",
       "      <td>442</td>\n",
       "      <td>2</td>\n",
       "      <td>26</td>\n",
       "      <td>iii</td>\n",
       "    </tr>\n",
       "    <tr>\n",
       "      <td>tcga-xr-a8tf-408</td>\n",
       "      <td>62514</td>\n",
       "      <td>3612</td>\n",
       "      <td>0</td>\n",
       "      <td>306</td>\n",
       "      <td>0</td>\n",
       "      <td>3302</td>\n",
       "      <td>62</td>\n",
       "      <td>0</td>\n",
       "      <td>0</td>\n",
       "      <td>1152</td>\n",
       "      <td>...</td>\n",
       "      <td>777</td>\n",
       "      <td>1293</td>\n",
       "      <td>184</td>\n",
       "      <td>1291</td>\n",
       "      <td>945</td>\n",
       "      <td>814</td>\n",
       "      <td>871</td>\n",
       "      <td>2</td>\n",
       "      <td>29</td>\n",
       "      <td>i</td>\n",
       "    </tr>\n",
       "    <tr>\n",
       "      <td>tcga-ya-a8s7-410</td>\n",
       "      <td>2675</td>\n",
       "      <td>441</td>\n",
       "      <td>0</td>\n",
       "      <td>62</td>\n",
       "      <td>1</td>\n",
       "      <td>75528</td>\n",
       "      <td>1053</td>\n",
       "      <td>3</td>\n",
       "      <td>0</td>\n",
       "      <td>812</td>\n",
       "      <td>...</td>\n",
       "      <td>427</td>\n",
       "      <td>707</td>\n",
       "      <td>56</td>\n",
       "      <td>639</td>\n",
       "      <td>10911</td>\n",
       "      <td>800</td>\n",
       "      <td>699</td>\n",
       "      <td>3</td>\n",
       "      <td>3</td>\n",
       "      <td>iii</td>\n",
       "    </tr>\n",
       "    <tr>\n",
       "      <td>tcga-zs-a9cd-418</td>\n",
       "      <td>66433</td>\n",
       "      <td>1296</td>\n",
       "      <td>0</td>\n",
       "      <td>259</td>\n",
       "      <td>0</td>\n",
       "      <td>72358</td>\n",
       "      <td>641</td>\n",
       "      <td>0</td>\n",
       "      <td>0</td>\n",
       "      <td>586</td>\n",
       "      <td>...</td>\n",
       "      <td>1254</td>\n",
       "      <td>774</td>\n",
       "      <td>8</td>\n",
       "      <td>1239</td>\n",
       "      <td>4029</td>\n",
       "      <td>636</td>\n",
       "      <td>435</td>\n",
       "      <td>7</td>\n",
       "      <td>197</td>\n",
       "      <td>ii</td>\n",
       "    </tr>\n",
       "  </tbody>\n",
       "</table>\n",
       "<p>139 rows × 20502 columns</p>\n",
       "</div>"
      ],
      "text/plain": [
       "                   A1BG  A1CF  A2BP1  A2LD1  A2ML1     A2M  A4GALT  A4GNT  \\\n",
       "tcga-2y-a9gt-2    77670  1281      0    215      1   19515     119      1   \n",
       "tcga-2y-a9gv-4    84243  1641      0    404      0    8756      83      0   \n",
       "tcga-2y-a9gw-5    73056  1423      0    270      0   43813     299      0   \n",
       "tcga-2y-a9gy-7    23352  1559      0    104      2   11699      42      2   \n",
       "tcga-2y-a9gz-8    43942  2033      1    963      0  264407      97      1   \n",
       "...                 ...   ...    ...    ...    ...     ...     ...    ...   \n",
       "tcga-ub-a7mf-396  13195   641      0    493      0  110307     169      0   \n",
       "tcga-wx-aa47-404    689   763      0    199      0   67703     830      0   \n",
       "tcga-xr-a8tf-408  62514  3612      0    306      0    3302      62      0   \n",
       "tcga-ya-a8s7-410   2675   441      0     62      1   75528    1053      3   \n",
       "tcga-zs-a9cd-418  66433  1296      0    259      0   72358     641      0   \n",
       "\n",
       "                  AAA1  AAAS  ...  ZXDB  ZXDC  ZYG11A  ZYG11B    ZYX  ZZEF1  \\\n",
       "tcga-2y-a9gt-2       3   773  ...  1220  1134      13    1290   3220    861   \n",
       "tcga-2y-a9gv-4       9   828  ...  1000  1632       5    1381   2903    576   \n",
       "tcga-2y-a9gw-5       1   622  ...  1647   707      30     748   8467    993   \n",
       "tcga-2y-a9gy-7       3  1179  ...   166   996     129     486   3825    458   \n",
       "tcga-2y-a9gz-8       0   919  ...   444  1318     128    1550   1394    712   \n",
       "...                ...   ...  ...   ...   ...     ...     ...    ...    ...   \n",
       "tcga-ub-a7mf-396     1   999  ...   307  1222      30     638   3961    918   \n",
       "tcga-wx-aa47-404     0  1075  ...   295   750      91     647    811   1198   \n",
       "tcga-xr-a8tf-408     0  1152  ...   777  1293     184    1291    945    814   \n",
       "tcga-ya-a8s7-410     0   812  ...   427   707      56     639  10911    800   \n",
       "tcga-zs-a9cd-418     0   586  ...  1254   774       8    1239   4029    636   \n",
       "\n",
       "                  ZZZ3  psiTPTE22  tAKR  tumor_stage  \n",
       "tcga-2y-a9gt-2     524         15    84            i  \n",
       "tcga-2y-a9gv-4     666          3   120            i  \n",
       "tcga-2y-a9gw-5     457          7   103            i  \n",
       "tcga-2y-a9gy-7     471         14     1           ii  \n",
       "tcga-2y-a9gz-8     976          5   271           ii  \n",
       "...                ...        ...   ...          ...  \n",
       "tcga-ub-a7mf-396   465          5     0          iii  \n",
       "tcga-wx-aa47-404   442          2    26          iii  \n",
       "tcga-xr-a8tf-408   871          2    29            i  \n",
       "tcga-ya-a8s7-410   699          3     3          iii  \n",
       "tcga-zs-a9cd-418   435          7   197           ii  \n",
       "\n",
       "[139 rows x 20502 columns]"
      ]
     },
     "execution_count": 13,
     "metadata": {},
     "output_type": "execute_result"
    }
   ],
   "source": [
    "# Subset full dataframe for patient samples that have a corresponding tumor stage\n",
    "full_df = full_df.loc[full_df['tumor_stage'].str.startswith('stage')]\n",
    "\n",
    "# Since there are substages (eg, stage iia and stage iib), we will conver them to the 4 main stages\n",
    "full_df['tumor_stage'] = full_df['tumor_stage'].str.replace('stage ', '') \\\n",
    "                            .str.replace('a', '') \\\n",
    "                            .str.replace('b', '') \\\n",
    "                            .str.replace('c', '') \\\n",
    "                            .str.replace('v', '')\n",
    "full_df"
   ]
  },
  {
   "cell_type": "markdown",
   "metadata": {},
   "source": [
    "## Load the hallmarks of cancer annotations"
   ]
  },
  {
   "cell_type": "code",
   "execution_count": 14,
   "metadata": {
    "collapsed": true
   },
   "outputs": [],
   "source": [
    "import pickle\n",
    "\n",
    "descr_dict = pickle.load(open('../../hallmarks_of_cancer_description_dictionary.pkl','rb'))\n",
    "geneset_dict = pickle.load(open('../../hallmarks_of_cancer_geneset_dictionary.pkl','rb'))"
   ]
  },
  {
   "cell_type": "markdown",
   "metadata": {},
   "source": [
    "## X and y"
   ]
  },
  {
   "cell_type": "code",
   "execution_count": 15,
   "metadata": {},
   "outputs": [
    {
     "data": {
      "text/plain": [
       "(139, 20501)"
      ]
     },
     "metadata": {},
     "output_type": "display_data"
    },
    {
     "data": {
      "text/html": [
       "<div>\n",
       "<style scoped>\n",
       "    .dataframe tbody tr th:only-of-type {\n",
       "        vertical-align: middle;\n",
       "    }\n",
       "\n",
       "    .dataframe tbody tr th {\n",
       "        vertical-align: top;\n",
       "    }\n",
       "\n",
       "    .dataframe thead th {\n",
       "        text-align: right;\n",
       "    }\n",
       "</style>\n",
       "<table border=\"1\" class=\"dataframe\">\n",
       "  <thead>\n",
       "    <tr style=\"text-align: right;\">\n",
       "      <th></th>\n",
       "      <th>A1BG</th>\n",
       "      <th>A1CF</th>\n",
       "      <th>A2BP1</th>\n",
       "      <th>A2LD1</th>\n",
       "      <th>A2ML1</th>\n",
       "      <th>A2M</th>\n",
       "      <th>A4GALT</th>\n",
       "      <th>A4GNT</th>\n",
       "      <th>AAA1</th>\n",
       "      <th>AAAS</th>\n",
       "      <th>...</th>\n",
       "      <th>ZXDA</th>\n",
       "      <th>ZXDB</th>\n",
       "      <th>ZXDC</th>\n",
       "      <th>ZYG11A</th>\n",
       "      <th>ZYG11B</th>\n",
       "      <th>ZYX</th>\n",
       "      <th>ZZEF1</th>\n",
       "      <th>ZZZ3</th>\n",
       "      <th>psiTPTE22</th>\n",
       "      <th>tAKR</th>\n",
       "    </tr>\n",
       "  </thead>\n",
       "  <tbody>\n",
       "    <tr>\n",
       "      <td>tcga-2y-a9gt-2</td>\n",
       "      <td>77670</td>\n",
       "      <td>1281</td>\n",
       "      <td>0</td>\n",
       "      <td>215</td>\n",
       "      <td>1</td>\n",
       "      <td>19515</td>\n",
       "      <td>119</td>\n",
       "      <td>1</td>\n",
       "      <td>3</td>\n",
       "      <td>773</td>\n",
       "      <td>...</td>\n",
       "      <td>47</td>\n",
       "      <td>1220</td>\n",
       "      <td>1134</td>\n",
       "      <td>13</td>\n",
       "      <td>1290</td>\n",
       "      <td>3220</td>\n",
       "      <td>861</td>\n",
       "      <td>524</td>\n",
       "      <td>15</td>\n",
       "      <td>84</td>\n",
       "    </tr>\n",
       "    <tr>\n",
       "      <td>tcga-2y-a9gv-4</td>\n",
       "      <td>84243</td>\n",
       "      <td>1641</td>\n",
       "      <td>0</td>\n",
       "      <td>404</td>\n",
       "      <td>0</td>\n",
       "      <td>8756</td>\n",
       "      <td>83</td>\n",
       "      <td>0</td>\n",
       "      <td>9</td>\n",
       "      <td>828</td>\n",
       "      <td>...</td>\n",
       "      <td>42</td>\n",
       "      <td>1000</td>\n",
       "      <td>1632</td>\n",
       "      <td>5</td>\n",
       "      <td>1381</td>\n",
       "      <td>2903</td>\n",
       "      <td>576</td>\n",
       "      <td>666</td>\n",
       "      <td>3</td>\n",
       "      <td>120</td>\n",
       "    </tr>\n",
       "    <tr>\n",
       "      <td>tcga-2y-a9gw-5</td>\n",
       "      <td>73056</td>\n",
       "      <td>1423</td>\n",
       "      <td>0</td>\n",
       "      <td>270</td>\n",
       "      <td>0</td>\n",
       "      <td>43813</td>\n",
       "      <td>299</td>\n",
       "      <td>0</td>\n",
       "      <td>1</td>\n",
       "      <td>622</td>\n",
       "      <td>...</td>\n",
       "      <td>20</td>\n",
       "      <td>1647</td>\n",
       "      <td>707</td>\n",
       "      <td>30</td>\n",
       "      <td>748</td>\n",
       "      <td>8467</td>\n",
       "      <td>993</td>\n",
       "      <td>457</td>\n",
       "      <td>7</td>\n",
       "      <td>103</td>\n",
       "    </tr>\n",
       "    <tr>\n",
       "      <td>tcga-2y-a9gy-7</td>\n",
       "      <td>23352</td>\n",
       "      <td>1559</td>\n",
       "      <td>0</td>\n",
       "      <td>104</td>\n",
       "      <td>2</td>\n",
       "      <td>11699</td>\n",
       "      <td>42</td>\n",
       "      <td>2</td>\n",
       "      <td>3</td>\n",
       "      <td>1179</td>\n",
       "      <td>...</td>\n",
       "      <td>17</td>\n",
       "      <td>166</td>\n",
       "      <td>996</td>\n",
       "      <td>129</td>\n",
       "      <td>486</td>\n",
       "      <td>3825</td>\n",
       "      <td>458</td>\n",
       "      <td>471</td>\n",
       "      <td>14</td>\n",
       "      <td>1</td>\n",
       "    </tr>\n",
       "    <tr>\n",
       "      <td>tcga-2y-a9gz-8</td>\n",
       "      <td>43942</td>\n",
       "      <td>2033</td>\n",
       "      <td>1</td>\n",
       "      <td>963</td>\n",
       "      <td>0</td>\n",
       "      <td>264407</td>\n",
       "      <td>97</td>\n",
       "      <td>1</td>\n",
       "      <td>0</td>\n",
       "      <td>919</td>\n",
       "      <td>...</td>\n",
       "      <td>49</td>\n",
       "      <td>444</td>\n",
       "      <td>1318</td>\n",
       "      <td>128</td>\n",
       "      <td>1550</td>\n",
       "      <td>1394</td>\n",
       "      <td>712</td>\n",
       "      <td>976</td>\n",
       "      <td>5</td>\n",
       "      <td>271</td>\n",
       "    </tr>\n",
       "  </tbody>\n",
       "</table>\n",
       "<p>5 rows × 20501 columns</p>\n",
       "</div>"
      ],
      "text/plain": [
       "                 A1BG  A1CF  A2BP1  A2LD1  A2ML1     A2M  A4GALT  A4GNT  AAA1  \\\n",
       "tcga-2y-a9gt-2  77670  1281      0    215      1   19515     119      1     3   \n",
       "tcga-2y-a9gv-4  84243  1641      0    404      0    8756      83      0     9   \n",
       "tcga-2y-a9gw-5  73056  1423      0    270      0   43813     299      0     1   \n",
       "tcga-2y-a9gy-7  23352  1559      0    104      2   11699      42      2     3   \n",
       "tcga-2y-a9gz-8  43942  2033      1    963      0  264407      97      1     0   \n",
       "\n",
       "                AAAS  ...  ZXDA  ZXDB  ZXDC  ZYG11A  ZYG11B   ZYX  ZZEF1  \\\n",
       "tcga-2y-a9gt-2   773  ...    47  1220  1134      13    1290  3220    861   \n",
       "tcga-2y-a9gv-4   828  ...    42  1000  1632       5    1381  2903    576   \n",
       "tcga-2y-a9gw-5   622  ...    20  1647   707      30     748  8467    993   \n",
       "tcga-2y-a9gy-7  1179  ...    17   166   996     129     486  3825    458   \n",
       "tcga-2y-a9gz-8   919  ...    49   444  1318     128    1550  1394    712   \n",
       "\n",
       "                ZZZ3  psiTPTE22  tAKR  \n",
       "tcga-2y-a9gt-2   524         15    84  \n",
       "tcga-2y-a9gv-4   666          3   120  \n",
       "tcga-2y-a9gw-5   457          7   103  \n",
       "tcga-2y-a9gy-7   471         14     1  \n",
       "tcga-2y-a9gz-8   976          5   271  \n",
       "\n",
       "[5 rows x 20501 columns]"
      ]
     },
     "metadata": {},
     "output_type": "display_data"
    },
    {
     "data": {
      "text/plain": [
       "(139,)"
      ]
     },
     "metadata": {},
     "output_type": "display_data"
    },
    {
     "data": {
      "text/plain": [
       "tcga-2y-a9gt-2     i\n",
       "tcga-2y-a9gv-4     i\n",
       "tcga-2y-a9gw-5     i\n",
       "tcga-2y-a9gy-7    ii\n",
       "tcga-2y-a9gz-8    ii\n",
       "Name: tumor_stage, dtype: object"
      ]
     },
     "metadata": {},
     "output_type": "display_data"
    },
    {
     "data": {
      "text/plain": [
       "i      54\n",
       "iii    53\n",
       "ii     32\n",
       "Name: tumor_stage, dtype: int64"
      ]
     },
     "metadata": {},
     "output_type": "display_data"
    }
   ],
   "source": [
    "X = full_df.drop('tumor_stage',axis=1)\n",
    "display(X.shape)\n",
    "display(X.head())\n",
    "y = full_df['tumor_stage']\n",
    "display(y.shape)\n",
    "display(y.head())\n",
    "display(y.value_counts())"
   ]
  },
  {
   "cell_type": "markdown",
   "metadata": {},
   "source": [
    "## X Feature Engineering"
   ]
  },
  {
   "cell_type": "code",
   "execution_count": 16,
   "metadata": {},
   "outputs": [
    {
     "name": "stderr",
     "output_type": "stream",
     "text": [
      "/Users/mattheweng/Desktop/Galvanize/Projects/hacknights/env-tcga/lib/python3.6/site-packages/pandas/core/indexing.py:1418: FutureWarning: \n",
      "Passing list-likes to .loc or [] with any missing label will raise\n",
      "KeyError in the future, you can use .reindex() as an alternative.\n",
      "\n",
      "See the documentation here:\n",
      "https://pandas.pydata.org/pandas-docs/stable/user_guide/indexing.html#deprecate-loc-reindex-listlike\n",
      "  return self._getitem_tuple(key)\n"
     ]
    },
    {
     "data": {
      "text/html": [
       "<div>\n",
       "<style scoped>\n",
       "    .dataframe tbody tr th:only-of-type {\n",
       "        vertical-align: middle;\n",
       "    }\n",
       "\n",
       "    .dataframe tbody tr th {\n",
       "        vertical-align: top;\n",
       "    }\n",
       "\n",
       "    .dataframe thead th {\n",
       "        text-align: right;\n",
       "    }\n",
       "</style>\n",
       "<table border=\"1\" class=\"dataframe\">\n",
       "  <thead>\n",
       "    <tr style=\"text-align: right;\">\n",
       "      <th></th>\n",
       "      <th>HALLMARK_ADIPOGENESIS</th>\n",
       "      <th>HALLMARK_ALLOGRAFT_REJECTION</th>\n",
       "      <th>HALLMARK_ANDROGEN_RESPONSE</th>\n",
       "      <th>HALLMARK_ANGIOGENESIS</th>\n",
       "      <th>HALLMARK_APICAL_JUNCTION</th>\n",
       "      <th>HALLMARK_APICAL_SURFACE</th>\n",
       "      <th>HALLMARK_APOPTOSIS</th>\n",
       "      <th>HALLMARK_BILE_ACID_METABOLISM</th>\n",
       "      <th>HALLMARK_CHOLESTEROL_HOMEOSTASIS</th>\n",
       "      <th>HALLMARK_COAGULATION</th>\n",
       "      <th>...</th>\n",
       "      <th>HALLMARK_PROTEIN_SECRETION</th>\n",
       "      <th>HALLMARK_REACTIVE_OXYGEN_SPECIES_PATHWAY</th>\n",
       "      <th>HALLMARK_SPERMATOGENESIS</th>\n",
       "      <th>HALLMARK_TGF_BETA_SIGNALING</th>\n",
       "      <th>HALLMARK_TNFA_SIGNALING_VIA_NFKB</th>\n",
       "      <th>HALLMARK_UNFOLDED_PROTEIN_RESPONSE</th>\n",
       "      <th>HALLMARK_UV_RESPONSE_DN</th>\n",
       "      <th>HALLMARK_UV_RESPONSE_UP</th>\n",
       "      <th>HALLMARK_WNT_BETA_CATENIN_SIGNALING</th>\n",
       "      <th>HALLMARK_XENOBIOTIC_METABOLISM</th>\n",
       "    </tr>\n",
       "  </thead>\n",
       "  <tbody>\n",
       "    <tr>\n",
       "      <td>tcga-2y-a9gt-2</td>\n",
       "      <td>59644.714679</td>\n",
       "      <td>20328.294564</td>\n",
       "      <td>23425.239059</td>\n",
       "      <td>47314.342902</td>\n",
       "      <td>5986.829113</td>\n",
       "      <td>2476.732985</td>\n",
       "      <td>16926.134574</td>\n",
       "      <td>26106.104684</td>\n",
       "      <td>24065.057892</td>\n",
       "      <td>107141.388803</td>\n",
       "      <td>...</td>\n",
       "      <td>3487.974653</td>\n",
       "      <td>16793.659132</td>\n",
       "      <td>4121.451073</td>\n",
       "      <td>3994.318354</td>\n",
       "      <td>5059.029797</td>\n",
       "      <td>8219.092332</td>\n",
       "      <td>5120.565685</td>\n",
       "      <td>8193.653800</td>\n",
       "      <td>1588.157841</td>\n",
       "      <td>37744.498034</td>\n",
       "    </tr>\n",
       "    <tr>\n",
       "      <td>tcga-2y-a9gv-4</td>\n",
       "      <td>54798.654488</td>\n",
       "      <td>11013.987675</td>\n",
       "      <td>10450.210287</td>\n",
       "      <td>36372.345489</td>\n",
       "      <td>4067.949359</td>\n",
       "      <td>3043.309331</td>\n",
       "      <td>13501.109280</td>\n",
       "      <td>27160.200359</td>\n",
       "      <td>19069.604428</td>\n",
       "      <td>88275.726833</td>\n",
       "      <td>...</td>\n",
       "      <td>2995.396715</td>\n",
       "      <td>25506.728791</td>\n",
       "      <td>3032.467312</td>\n",
       "      <td>3903.673227</td>\n",
       "      <td>4323.088264</td>\n",
       "      <td>10278.107744</td>\n",
       "      <td>1774.643495</td>\n",
       "      <td>7736.825851</td>\n",
       "      <td>1046.335806</td>\n",
       "      <td>40181.464356</td>\n",
       "    </tr>\n",
       "    <tr>\n",
       "      <td>tcga-2y-a9gw-5</td>\n",
       "      <td>47242.144793</td>\n",
       "      <td>10659.188754</td>\n",
       "      <td>12191.750685</td>\n",
       "      <td>41813.537891</td>\n",
       "      <td>9406.913160</td>\n",
       "      <td>4777.895965</td>\n",
       "      <td>14891.634222</td>\n",
       "      <td>11825.712189</td>\n",
       "      <td>18534.390950</td>\n",
       "      <td>118611.841372</td>\n",
       "      <td>...</td>\n",
       "      <td>3916.577684</td>\n",
       "      <td>114833.579664</td>\n",
       "      <td>2472.251034</td>\n",
       "      <td>2717.541611</td>\n",
       "      <td>6815.115784</td>\n",
       "      <td>8530.569988</td>\n",
       "      <td>3215.023390</td>\n",
       "      <td>10018.626937</td>\n",
       "      <td>951.771890</td>\n",
       "      <td>27973.385345</td>\n",
       "    </tr>\n",
       "    <tr>\n",
       "      <td>tcga-2y-a9gy-7</td>\n",
       "      <td>14492.691522</td>\n",
       "      <td>8049.821376</td>\n",
       "      <td>7357.992553</td>\n",
       "      <td>13184.301183</td>\n",
       "      <td>8044.544575</td>\n",
       "      <td>1962.136731</td>\n",
       "      <td>7781.710114</td>\n",
       "      <td>7751.487326</td>\n",
       "      <td>11504.826063</td>\n",
       "      <td>32202.282235</td>\n",
       "      <td>...</td>\n",
       "      <td>4012.192629</td>\n",
       "      <td>69559.662887</td>\n",
       "      <td>1701.187878</td>\n",
       "      <td>2084.033907</td>\n",
       "      <td>3178.856311</td>\n",
       "      <td>7412.896240</td>\n",
       "      <td>1419.053873</td>\n",
       "      <td>5455.628246</td>\n",
       "      <td>1097.061690</td>\n",
       "      <td>15360.003825</td>\n",
       "    </tr>\n",
       "    <tr>\n",
       "      <td>tcga-2y-a9gz-8</td>\n",
       "      <td>40887.912687</td>\n",
       "      <td>7821.448847</td>\n",
       "      <td>9815.592247</td>\n",
       "      <td>61869.963777</td>\n",
       "      <td>3474.128339</td>\n",
       "      <td>2505.767634</td>\n",
       "      <td>12756.163096</td>\n",
       "      <td>31345.900199</td>\n",
       "      <td>16833.646407</td>\n",
       "      <td>87661.806033</td>\n",
       "      <td>...</td>\n",
       "      <td>3265.633115</td>\n",
       "      <td>16177.321426</td>\n",
       "      <td>3127.661485</td>\n",
       "      <td>3047.265238</td>\n",
       "      <td>2611.565048</td>\n",
       "      <td>8770.213105</td>\n",
       "      <td>2460.331724</td>\n",
       "      <td>9472.776739</td>\n",
       "      <td>1060.182058</td>\n",
       "      <td>29066.823053</td>\n",
       "    </tr>\n",
       "  </tbody>\n",
       "</table>\n",
       "<p>5 rows × 50 columns</p>\n",
       "</div>"
      ],
      "text/plain": [
       "                HALLMARK_ADIPOGENESIS  HALLMARK_ALLOGRAFT_REJECTION  \\\n",
       "tcga-2y-a9gt-2           59644.714679                  20328.294564   \n",
       "tcga-2y-a9gv-4           54798.654488                  11013.987675   \n",
       "tcga-2y-a9gw-5           47242.144793                  10659.188754   \n",
       "tcga-2y-a9gy-7           14492.691522                   8049.821376   \n",
       "tcga-2y-a9gz-8           40887.912687                   7821.448847   \n",
       "\n",
       "                HALLMARK_ANDROGEN_RESPONSE  HALLMARK_ANGIOGENESIS  \\\n",
       "tcga-2y-a9gt-2                23425.239059           47314.342902   \n",
       "tcga-2y-a9gv-4                10450.210287           36372.345489   \n",
       "tcga-2y-a9gw-5                12191.750685           41813.537891   \n",
       "tcga-2y-a9gy-7                 7357.992553           13184.301183   \n",
       "tcga-2y-a9gz-8                 9815.592247           61869.963777   \n",
       "\n",
       "                HALLMARK_APICAL_JUNCTION  HALLMARK_APICAL_SURFACE  \\\n",
       "tcga-2y-a9gt-2               5986.829113              2476.732985   \n",
       "tcga-2y-a9gv-4               4067.949359              3043.309331   \n",
       "tcga-2y-a9gw-5               9406.913160              4777.895965   \n",
       "tcga-2y-a9gy-7               8044.544575              1962.136731   \n",
       "tcga-2y-a9gz-8               3474.128339              2505.767634   \n",
       "\n",
       "                HALLMARK_APOPTOSIS  HALLMARK_BILE_ACID_METABOLISM  \\\n",
       "tcga-2y-a9gt-2        16926.134574                   26106.104684   \n",
       "tcga-2y-a9gv-4        13501.109280                   27160.200359   \n",
       "tcga-2y-a9gw-5        14891.634222                   11825.712189   \n",
       "tcga-2y-a9gy-7         7781.710114                    7751.487326   \n",
       "tcga-2y-a9gz-8        12756.163096                   31345.900199   \n",
       "\n",
       "                HALLMARK_CHOLESTEROL_HOMEOSTASIS  HALLMARK_COAGULATION  ...  \\\n",
       "tcga-2y-a9gt-2                      24065.057892         107141.388803  ...   \n",
       "tcga-2y-a9gv-4                      19069.604428          88275.726833  ...   \n",
       "tcga-2y-a9gw-5                      18534.390950         118611.841372  ...   \n",
       "tcga-2y-a9gy-7                      11504.826063          32202.282235  ...   \n",
       "tcga-2y-a9gz-8                      16833.646407          87661.806033  ...   \n",
       "\n",
       "                HALLMARK_PROTEIN_SECRETION  \\\n",
       "tcga-2y-a9gt-2                 3487.974653   \n",
       "tcga-2y-a9gv-4                 2995.396715   \n",
       "tcga-2y-a9gw-5                 3916.577684   \n",
       "tcga-2y-a9gy-7                 4012.192629   \n",
       "tcga-2y-a9gz-8                 3265.633115   \n",
       "\n",
       "                HALLMARK_REACTIVE_OXYGEN_SPECIES_PATHWAY  \\\n",
       "tcga-2y-a9gt-2                              16793.659132   \n",
       "tcga-2y-a9gv-4                              25506.728791   \n",
       "tcga-2y-a9gw-5                             114833.579664   \n",
       "tcga-2y-a9gy-7                              69559.662887   \n",
       "tcga-2y-a9gz-8                              16177.321426   \n",
       "\n",
       "                HALLMARK_SPERMATOGENESIS  HALLMARK_TGF_BETA_SIGNALING  \\\n",
       "tcga-2y-a9gt-2               4121.451073                  3994.318354   \n",
       "tcga-2y-a9gv-4               3032.467312                  3903.673227   \n",
       "tcga-2y-a9gw-5               2472.251034                  2717.541611   \n",
       "tcga-2y-a9gy-7               1701.187878                  2084.033907   \n",
       "tcga-2y-a9gz-8               3127.661485                  3047.265238   \n",
       "\n",
       "                HALLMARK_TNFA_SIGNALING_VIA_NFKB  \\\n",
       "tcga-2y-a9gt-2                       5059.029797   \n",
       "tcga-2y-a9gv-4                       4323.088264   \n",
       "tcga-2y-a9gw-5                       6815.115784   \n",
       "tcga-2y-a9gy-7                       3178.856311   \n",
       "tcga-2y-a9gz-8                       2611.565048   \n",
       "\n",
       "                HALLMARK_UNFOLDED_PROTEIN_RESPONSE  HALLMARK_UV_RESPONSE_DN  \\\n",
       "tcga-2y-a9gt-2                         8219.092332              5120.565685   \n",
       "tcga-2y-a9gv-4                        10278.107744              1774.643495   \n",
       "tcga-2y-a9gw-5                         8530.569988              3215.023390   \n",
       "tcga-2y-a9gy-7                         7412.896240              1419.053873   \n",
       "tcga-2y-a9gz-8                         8770.213105              2460.331724   \n",
       "\n",
       "                HALLMARK_UV_RESPONSE_UP  HALLMARK_WNT_BETA_CATENIN_SIGNALING  \\\n",
       "tcga-2y-a9gt-2              8193.653800                          1588.157841   \n",
       "tcga-2y-a9gv-4              7736.825851                          1046.335806   \n",
       "tcga-2y-a9gw-5             10018.626937                           951.771890   \n",
       "tcga-2y-a9gy-7              5455.628246                          1097.061690   \n",
       "tcga-2y-a9gz-8              9472.776739                          1060.182058   \n",
       "\n",
       "                HALLMARK_XENOBIOTIC_METABOLISM  \n",
       "tcga-2y-a9gt-2                    37744.498034  \n",
       "tcga-2y-a9gv-4                    40181.464356  \n",
       "tcga-2y-a9gw-5                    27973.385345  \n",
       "tcga-2y-a9gy-7                    15360.003825  \n",
       "tcga-2y-a9gz-8                    29066.823053  \n",
       "\n",
       "[5 rows x 50 columns]"
      ]
     },
     "execution_count": 16,
     "metadata": {},
     "output_type": "execute_result"
    }
   ],
   "source": [
    "gs_dfs = []\n",
    "for gs,set_ in geneset_dict.items():\n",
    "    gs_df = pd.DataFrame(X.loc[:,set_].std(1))\n",
    "    gs_df.columns = [gs]\n",
    "    gs_dfs.append(gs_df)\n",
    "X_fe = pd.concat(gs_dfs,1)\n",
    "X_fe.head()"
   ]
  },
  {
   "cell_type": "markdown",
   "metadata": {},
   "source": [
    "## Vanilla Multinomial Logit"
   ]
  },
  {
   "cell_type": "code",
   "execution_count": 17,
   "metadata": {
    "collapsed": true
   },
   "outputs": [],
   "source": [
    "from sklearn.linear_model import LogisticRegression\n",
    "from sklearn.model_selection import train_test_split, StratifiedKFold\n",
    "import sklearn.metrics as m"
   ]
  },
  {
   "cell_type": "code",
   "execution_count": 18,
   "metadata": {
    "collapsed": true
   },
   "outputs": [],
   "source": [
    "mod = LogisticRegression(\n",
    "    solver='lbfgs',\n",
    "    multi_class='multinomial',\n",
    "    max_iter=1e5\n",
    ")"
   ]
  },
  {
   "cell_type": "code",
   "execution_count": 19,
   "metadata": {},
   "outputs": [
    {
     "name": "stderr",
     "output_type": "stream",
     "text": [
      "/Users/mattheweng/Desktop/Galvanize/Projects/hacknights/env-tcga/lib/python3.6/site-packages/sklearn/linear_model/logistic.py:947: ConvergenceWarning: lbfgs failed to converge. Increase the number of iterations.\n",
      "  \"of iterations.\", ConvergenceWarning)\n"
     ]
    }
   ],
   "source": [
    "test_size=0.15\n",
    "seed = 1\n",
    "cv_split = 10\n",
    "y_map = y.map({'i' : 0,'ii' : 1, 'iii' : 2})\n",
    "X_fe = X_fe.loc[y_map.index]\n",
    "X_train, X_test, y_train, y_test = train_test_split(X_fe,y_map,\n",
    "                                                    test_size=test_size,\n",
    "                                                    random_state=seed,\n",
    "                                                    shuffle=True)\n",
    "cv = StratifiedKFold(n_splits=cv_split,random_state=seed,shuffle=True)\n",
    "fits = []\n",
    "llosses = []\n",
    "for train_index, test_index in cv.split(X_train,y_train):\n",
    "    fit = mod.fit(X_train.iloc[train_index],y_train.iloc[train_index])\n",
    "    y_proba = fit.predict_proba(X_train.iloc[test_index])\n",
    "    fits.append(fit)\n",
    "    lloss = m.log_loss(y_train.iloc[test_index].values,y_proba,labels=fit.classes_)\n",
    "    llosses.append(lloss)\n",
    "best_fit = fits[np.argmin(llosses)].fit(X_train,y_train)\n",
    "\n",
    "coef_de = (pd.DataFrame(\n",
    "    best_fit.coef_,\n",
    "    index=best_fit.classes_,\n",
    "    columns=X_test.columns).\n",
    "           rename_axis(y.name).\n",
    "           reset_index().\n",
    "           melt(\n",
    "               id_vars=['tumor_stage'],\n",
    "               var_name='Feature',\n",
    "               value_name='Coefficient')\n",
    "          )\n",
    "coef_de['MCCV'] = seed\n",
    "coef_de[y.name] = coef_de[y.name].map({0 : 'i',1 : 'ii',2 : 'iii'})\n",
    "\n",
    "y_proba = best_fit.predict_proba(X_test)\n",
    "y_pred = best_fit.predict(X_test)\n",
    "mcm = m.multilabel_confusion_matrix(\n",
    "    y_test.values.reshape(-1,1),\n",
    "    y_pred,labels=[0,1,2]\n",
    ")"
   ]
  },
  {
   "cell_type": "code",
   "execution_count": 20,
   "metadata": {},
   "outputs": [
    {
     "name": "stdout",
     "output_type": "stream",
     "text": [
      "[0.11111111 0.25       0.        ]\n",
      "[0.25       0.58823529 0.76923077]\n"
     ]
    }
   ],
   "source": [
    "tn = mcm[:, 0, 0]\n",
    "tp = mcm[:, 1, 1]\n",
    "fn = mcm[:, 1, 0]\n",
    "fp = mcm[:, 0, 1]\n",
    "sensitivity = tp / (tp + fn)\n",
    "print(sensitivity)\n",
    "specificity = tn / (fp + tn)\n",
    "print(specificity)"
   ]
  },
  {
   "cell_type": "code",
   "execution_count": 21,
   "metadata": {},
   "outputs": [
    {
     "data": {
      "text/html": [
       "<div>\n",
       "<style scoped>\n",
       "    .dataframe tbody tr th:only-of-type {\n",
       "        vertical-align: middle;\n",
       "    }\n",
       "\n",
       "    .dataframe tbody tr th {\n",
       "        vertical-align: top;\n",
       "    }\n",
       "\n",
       "    .dataframe thead th {\n",
       "        text-align: right;\n",
       "    }\n",
       "</style>\n",
       "<table border=\"1\" class=\"dataframe\">\n",
       "  <thead>\n",
       "    <tr style=\"text-align: right;\">\n",
       "      <th></th>\n",
       "      <th>tumor_stage</th>\n",
       "      <th>Feature</th>\n",
       "      <th>Coefficient</th>\n",
       "      <th>MCCV</th>\n",
       "    </tr>\n",
       "  </thead>\n",
       "  <tbody>\n",
       "    <tr>\n",
       "      <td>0</td>\n",
       "      <td>i</td>\n",
       "      <td>HALLMARK_ADIPOGENESIS</td>\n",
       "      <td>-0.009266</td>\n",
       "      <td>1</td>\n",
       "    </tr>\n",
       "    <tr>\n",
       "      <td>1</td>\n",
       "      <td>ii</td>\n",
       "      <td>HALLMARK_ADIPOGENESIS</td>\n",
       "      <td>0.004689</td>\n",
       "      <td>1</td>\n",
       "    </tr>\n",
       "    <tr>\n",
       "      <td>2</td>\n",
       "      <td>iii</td>\n",
       "      <td>HALLMARK_ADIPOGENESIS</td>\n",
       "      <td>0.004577</td>\n",
       "      <td>1</td>\n",
       "    </tr>\n",
       "    <tr>\n",
       "      <td>3</td>\n",
       "      <td>i</td>\n",
       "      <td>HALLMARK_ALLOGRAFT_REJECTION</td>\n",
       "      <td>0.044297</td>\n",
       "      <td>1</td>\n",
       "    </tr>\n",
       "    <tr>\n",
       "      <td>4</td>\n",
       "      <td>ii</td>\n",
       "      <td>HALLMARK_ALLOGRAFT_REJECTION</td>\n",
       "      <td>-0.034808</td>\n",
       "      <td>1</td>\n",
       "    </tr>\n",
       "  </tbody>\n",
       "</table>\n",
       "</div>"
      ],
      "text/plain": [
       "  tumor_stage                       Feature  Coefficient  MCCV\n",
       "0           i         HALLMARK_ADIPOGENESIS    -0.009266     1\n",
       "1          ii         HALLMARK_ADIPOGENESIS     0.004689     1\n",
       "2         iii         HALLMARK_ADIPOGENESIS     0.004577     1\n",
       "3           i  HALLMARK_ALLOGRAFT_REJECTION     0.044297     1\n",
       "4          ii  HALLMARK_ALLOGRAFT_REJECTION    -0.034808     1"
      ]
     },
     "execution_count": 21,
     "metadata": {},
     "output_type": "execute_result"
    }
   ],
   "source": [
    "coef_de.head()"
   ]
  },
  {
   "cell_type": "markdown",
   "metadata": {},
   "source": [
    "## Monte Carlo Cross Validation Prediction Functions\n",
    "\n",
    "[Monte Carlo Cross Validation](https://en.wikipedia.org/wiki/Cross-validation_(statistics)) (MCCV), also known as repeated random sub-sampling validation. MCCV creates multiple random splits of the dataset into training and validation data. For each such split, the model is fit to the training data, and predictive accuracy is assessed using the validation data.  The advantage of MCCV over traditional K-fold cross validation is that the proportion of the training/validation split is not dependent on the number of iterations (folds). The disadvantage of this method is that some observations may never be selected in the validation subsample, whereas others may be selected more than once. In other words, validation subsets may overlap. This method also exhibits Monte Carlo variation, meaning that the results will vary if the analysis is repeated with different random splits."
   ]
  },
  {
   "cell_type": "code",
   "execution_count": 22,
   "metadata": {
    "collapsed": true
   },
   "outputs": [],
   "source": [
    "from sklearn.model_selection import cross_validate, train_test_split, StratifiedKFold\n",
    "import sklearn.metrics as m\n",
    "from sklearn.base import clone\n",
    "\n",
    "def mccv(X,Y,models,metrics=['roc_auc'],cv_split=10,seed=42,test_size=0.15,return_train_score=True,n_jobs=1,retrained_models=False,patient_level_predictions=False,return_estimator=True):\n",
    "\n",
    "    \n",
    "    y_map = Y.map({'i' : 0,'ii' : 1, 'iii' : 2})\n",
    "    X = X.loc[y_map.index]\n",
    "    X_train, X_test, y_train, y_test = train_test_split(X,y_map,\n",
    "                                                        test_size=test_size,\n",
    "                                                        random_state=seed,\n",
    "                                                        shuffle=True)\n",
    "    cv = StratifiedKFold(n_splits=cv_split,random_state=seed,shuffle=True)\n",
    "    fits = []\n",
    "    llosses = []\n",
    "    for train_index, test_index in cv.split(X_train,y_train):\n",
    "        fit = mod.fit(X_train.iloc[train_index],y_train.iloc[train_index])\n",
    "        y_proba = fit.predict_proba(X_train.iloc[test_index])\n",
    "        fits.append(fit)\n",
    "        lloss = m.log_loss(y_train.iloc[test_index].values,y_proba,labels=fit.classes_)\n",
    "        llosses.append(lloss)\n",
    "    best_fit = fits[np.argmin(llosses)].fit(X_train,y_train)\n",
    "\n",
    "    coef_de = (pd.DataFrame(\n",
    "        best_fit.coef_,\n",
    "        index=best_fit.classes_,\n",
    "        columns=X_test.columns).\n",
    "               rename_axis(y_test.name).\n",
    "               reset_index().\n",
    "               melt(\n",
    "                   id_vars=['tumor_stage'],\n",
    "                   var_name='Feature',\n",
    "                   value_name='Coefficient')\n",
    "              )\n",
    "    coef_de['MCCV'] = seed\n",
    "    coef_de[y_test.name] = coef_de[y_test.name].map({0 : 'i',1 : 'ii',2 : 'iii'})\n",
    "\n",
    "    y_proba = best_fit.predict_proba(X_test)\n",
    "    y_pred = best_fit.predict(X_test)\n",
    "    mcm = m.multilabel_confusion_matrix(\n",
    "        y_test.values.reshape(-1,1),\n",
    "        y_pred,labels=[0,1,2]\n",
    "    )\n",
    "    return mcm, coef_de"
   ]
  },
  {
   "cell_type": "code",
   "execution_count": 23,
   "metadata": {
    "collapsed": true
   },
   "outputs": [],
   "source": [
    "from joblib import Parallel, delayed\n",
    "\n",
    "def bootstrap_of_fcn(func=None,params={},n_jobs=4,nboot=2):\n",
    "    if func==None:\n",
    "        return \"Need fcn to bootstrap\"\n",
    "    parallel = Parallel(n_jobs=n_jobs)\n",
    "    return parallel(\n",
    "        delayed(func)(\n",
    "            seed=k,**params)\n",
    "        for k in range(nboot))\n"
   ]
  },
  {
   "cell_type": "markdown",
   "metadata": {},
   "source": [
    "## Prediction"
   ]
  },
  {
   "cell_type": "code",
   "execution_count": 24,
   "metadata": {
    "collapsed": true
   },
   "outputs": [],
   "source": [
    "classification_metrics = ['roc_auc']\n",
    "cv_split=2\n",
    "test_size=0.15\n",
    "seed=42\n",
    "n_jobs=4\n",
    "nboot=1000\n",
    "\n",
    "mod = LogisticRegression(\n",
    "    solver='lbfgs',\n",
    "    multi_class='multinomial',\n",
    "    max_iter=1e5,\n",
    "    random_state=seed\n",
    ")\n",
    "\n",
    "params = {'X' : X_fe, 'Y' : y, \n",
    "          'models' : {'Logit' : mod},'cv_split' : cv_split,\n",
    "          'metrics' : classification_metrics, \n",
    "          'n_jobs' : 1,'test_size' : test_size,\n",
    "          'retrained_models' : True, \n",
    "          'patient_level_predictions' : True}"
   ]
  },
  {
   "cell_type": "markdown",
   "metadata": {},
   "source": [
    "**NOTE:** The below code will take several minutes to execute:"
   ]
  },
  {
   "cell_type": "code",
   "execution_count": 25,
   "metadata": {
    "collapsed": true
   },
   "outputs": [],
   "source": [
    "nboot=nboot\n",
    "lst = bootstrap_of_fcn(func=mccv,\n",
    "                       params=params,\n",
    "                       n_jobs=n_jobs,\n",
    "                       nboot=nboot)"
   ]
  },
  {
   "cell_type": "code",
   "execution_count": 26,
   "metadata": {
    "collapsed": true
   },
   "outputs": [],
   "source": [
    "mcms = [lst[i][0] for i in range(len(lst))]\n",
    "coef_dfs = [lst[i][1] for i in range(len(lst))]"
   ]
  },
  {
   "cell_type": "code",
   "execution_count": null,
   "metadata": {},
   "outputs": [
    {
     "data": {
      "text/html": [
       "<div>\n",
       "<style scoped>\n",
       "    .dataframe tbody tr th:only-of-type {\n",
       "        vertical-align: middle;\n",
       "    }\n",
       "\n",
       "    .dataframe tbody tr th {\n",
       "        vertical-align: top;\n",
       "    }\n",
       "\n",
       "    .dataframe thead th {\n",
       "        text-align: right;\n",
       "    }\n",
       "</style>\n",
       "<table border=\"1\" class=\"dataframe\">\n",
       "  <thead>\n",
       "    <tr style=\"text-align: right;\">\n",
       "      <th></th>\n",
       "      <th>Statistic</th>\n",
       "      <th>tumor_stage</th>\n",
       "      <th>value</th>\n",
       "      <th>MCCV</th>\n",
       "    </tr>\n",
       "  </thead>\n",
       "  <tbody>\n",
       "    <tr>\n",
       "      <td>0</td>\n",
       "      <td>TP</td>\n",
       "      <td>i</td>\n",
       "      <td>2</td>\n",
       "      <td>0</td>\n",
       "    </tr>\n",
       "    <tr>\n",
       "      <td>1</td>\n",
       "      <td>FP</td>\n",
       "      <td>i</td>\n",
       "      <td>5</td>\n",
       "      <td>0</td>\n",
       "    </tr>\n",
       "    <tr>\n",
       "      <td>2</td>\n",
       "      <td>FN</td>\n",
       "      <td>i</td>\n",
       "      <td>6</td>\n",
       "      <td>0</td>\n",
       "    </tr>\n",
       "    <tr>\n",
       "      <td>3</td>\n",
       "      <td>TN</td>\n",
       "      <td>i</td>\n",
       "      <td>8</td>\n",
       "      <td>0</td>\n",
       "    </tr>\n",
       "    <tr>\n",
       "      <td>4</td>\n",
       "      <td>TP</td>\n",
       "      <td>ii</td>\n",
       "      <td>1</td>\n",
       "      <td>0</td>\n",
       "    </tr>\n",
       "  </tbody>\n",
       "</table>\n",
       "</div>"
      ],
      "text/plain": [
       "  Statistic tumor_stage  value  MCCV\n",
       "0        TP           i      2     0\n",
       "1        FP           i      5     0\n",
       "2        FN           i      6     0\n",
       "3        TN           i      8     0\n",
       "4        TP          ii      1     0"
      ]
     },
     "execution_count": 27,
     "metadata": {},
     "output_type": "execute_result"
    }
   ],
   "source": [
    "def contigency_statistics(mcm):\n",
    "    tn = mcm[:, 0, 0]\n",
    "    tp = mcm[:, 1, 1]\n",
    "    fn = mcm[:, 1, 0]\n",
    "    fp = mcm[:, 0, 1]\n",
    "    return [tp,fp,fn,tn]\n",
    "\n",
    "dfs = []\n",
    "for i,mcm in enumerate(mcms):\n",
    "    df = (pd.DataFrame(\n",
    "        contigency_statistics(mcm),\n",
    "        index=['TP','FP','FN','TN'],\n",
    "        columns=params['Y'].unique()).\n",
    "          rename_axis('Statistic').\n",
    "          reset_index().\n",
    "          melt(id_vars=['Statistic'],var_name=params['Y'].name)\n",
    "         )\n",
    "    df['MCCV'] = i\n",
    "    dfs.append(df.head())\n",
    "mcm_df= pd.concat(dfs)\n",
    "mcm_df.head()"
   ]
  },
  {
   "cell_type": "code",
   "execution_count": null,
   "metadata": {},
   "outputs": [
    {
     "data": {
      "text/html": [
       "<div>\n",
       "<style scoped>\n",
       "    .dataframe tbody tr th:only-of-type {\n",
       "        vertical-align: middle;\n",
       "    }\n",
       "\n",
       "    .dataframe tbody tr th {\n",
       "        vertical-align: top;\n",
       "    }\n",
       "\n",
       "    .dataframe thead th {\n",
       "        text-align: right;\n",
       "    }\n",
       "</style>\n",
       "<table border=\"1\" class=\"dataframe\">\n",
       "  <thead>\n",
       "    <tr style=\"text-align: right;\">\n",
       "      <th></th>\n",
       "      <th>tumor_stage</th>\n",
       "      <th>Feature</th>\n",
       "      <th>Coefficient</th>\n",
       "      <th>MCCV</th>\n",
       "    </tr>\n",
       "  </thead>\n",
       "  <tbody>\n",
       "    <tr>\n",
       "      <td>0</td>\n",
       "      <td>i</td>\n",
       "      <td>HALLMARK_ADIPOGENESIS</td>\n",
       "      <td>-0.000584</td>\n",
       "      <td>0</td>\n",
       "    </tr>\n",
       "    <tr>\n",
       "      <td>1</td>\n",
       "      <td>ii</td>\n",
       "      <td>HALLMARK_ADIPOGENESIS</td>\n",
       "      <td>0.000273</td>\n",
       "      <td>0</td>\n",
       "    </tr>\n",
       "    <tr>\n",
       "      <td>2</td>\n",
       "      <td>iii</td>\n",
       "      <td>HALLMARK_ADIPOGENESIS</td>\n",
       "      <td>0.000312</td>\n",
       "      <td>0</td>\n",
       "    </tr>\n",
       "    <tr>\n",
       "      <td>3</td>\n",
       "      <td>i</td>\n",
       "      <td>HALLMARK_ALLOGRAFT_REJECTION</td>\n",
       "      <td>0.000214</td>\n",
       "      <td>0</td>\n",
       "    </tr>\n",
       "    <tr>\n",
       "      <td>4</td>\n",
       "      <td>ii</td>\n",
       "      <td>HALLMARK_ALLOGRAFT_REJECTION</td>\n",
       "      <td>-0.001342</td>\n",
       "      <td>0</td>\n",
       "    </tr>\n",
       "  </tbody>\n",
       "</table>\n",
       "</div>"
      ],
      "text/plain": [
       "  tumor_stage                       Feature  Coefficient  MCCV\n",
       "0           i         HALLMARK_ADIPOGENESIS    -0.000584     0\n",
       "1          ii         HALLMARK_ADIPOGENESIS     0.000273     0\n",
       "2         iii         HALLMARK_ADIPOGENESIS     0.000312     0\n",
       "3           i  HALLMARK_ALLOGRAFT_REJECTION     0.000214     0\n",
       "4          ii  HALLMARK_ALLOGRAFT_REJECTION    -0.001342     0"
      ]
     },
     "execution_count": 28,
     "metadata": {},
     "output_type": "execute_result"
    }
   ],
   "source": [
    "feature_importances_df = pd.concat(coef_dfs)\n",
    "feature_importances_df.head()"
   ]
  },
  {
   "cell_type": "code",
   "execution_count": null,
   "metadata": {
    "collapsed": true
   },
   "outputs": [],
   "source": [
    "mcm_df.to_csv('performance_statistics.csv')\n",
    "feature_importances_df.to_csv('feature_importances.csv')"
   ]
  },
  {
   "cell_type": "code",
   "execution_count": null,
   "metadata": {
    "collapsed": true
   },
   "outputs": [],
   "source": []
  },
  {
   "cell_type": "markdown",
   "metadata": {},
   "source": [
    "## Data visualization\n",
    "\n",
    "The goal of this section is to visualize the feature importances that we found above in order to better understand the how features vary and across tumor stage.\n",
    "\n",
    "We'll use a Sankey diagram to do this. A Sankey is a flow diagram, in which the width of arrows is proportional to the flow quantity. The open-sourced Plotly library has a [Sankey object](https://plot.ly/python/sankey-diagram/) that we will use to accomplish this. You can use the sampled code below to get started."
   ]
  },
  {
   "cell_type": "code",
   "execution_count": 3,
   "metadata": {
    "collapsed": true
   },
   "outputs": [],
   "source": [
    "import plotly.graph_objects as go"
   ]
  },
  {
   "cell_type": "code",
   "execution_count": 81,
   "metadata": {
    "collapsed": true
   },
   "outputs": [],
   "source": [
    "feat_importances = pd.read_csv('feature_importances.csv')\n",
    "mcm_df = pd.read_csv('performance_statistics.csv')"
   ]
  },
  {
   "cell_type": "code",
   "execution_count": 5,
   "metadata": {
    "scrolled": false
   },
   "outputs": [
    {
     "name": "stderr",
     "output_type": "stream",
     "text": [
      "IOPub data rate exceeded.\n",
      "The notebook server will temporarily stop sending output\n",
      "to the client in order to avoid crashing it.\n",
      "To change this limit, set the config variable\n",
      "`--NotebookApp.iopub_data_rate_limit`.\n"
     ]
    },
    {
     "data": {
      "application/vnd.plotly.v1+json": {
       "config": {
        "plotlyServerURL": "https://plot.ly"
       },
       "data": [
        {
         "link": {
          "source": [
           0,
           1,
           0,
           2,
           3,
           3
          ],
          "target": [
           2,
           3,
           3,
           4,
           4,
           5
          ],
          "value": [
           8,
           4,
           2,
           8,
           4,
           2
          ]
         },
         "node": {
          "color": "blue",
          "label": [
           "A1",
           "A2",
           "B1",
           "B2",
           "C1",
           "C2"
          ],
          "line": {
           "color": "black",
           "width": 0.5
          },
          "pad": 15,
          "thickness": 20
         },
         "type": "sankey"
        }
       ],
       "layout": {
        "font": {
         "size": 10
        },
        "template": {
         "data": {
          "bar": [
           {
            "error_x": {
             "color": "#2a3f5f"
            },
            "error_y": {
             "color": "#2a3f5f"
            },
            "marker": {
             "line": {
              "color": "#E5ECF6",
              "width": 0.5
             }
            },
            "type": "bar"
           }
          ],
          "barpolar": [
           {
            "marker": {
             "line": {
              "color": "#E5ECF6",
              "width": 0.5
             }
            },
            "type": "barpolar"
           }
          ],
          "carpet": [
           {
            "aaxis": {
             "endlinecolor": "#2a3f5f",
             "gridcolor": "white",
             "linecolor": "white",
             "minorgridcolor": "white",
             "startlinecolor": "#2a3f5f"
            },
            "baxis": {
             "endlinecolor": "#2a3f5f",
             "gridcolor": "white",
             "linecolor": "white",
             "minorgridcolor": "white",
             "startlinecolor": "#2a3f5f"
            },
            "type": "carpet"
           }
          ],
          "choropleth": [
           {
            "colorbar": {
             "outlinewidth": 0,
             "ticks": ""
            },
            "type": "choropleth"
           }
          ],
          "contour": [
           {
            "colorbar": {
             "outlinewidth": 0,
             "ticks": ""
            },
            "colorscale": [
             [
              0,
              "#0d0887"
             ],
             [
              0.1111111111111111,
              "#46039f"
             ],
             [
              0.2222222222222222,
              "#7201a8"
             ],
             [
              0.3333333333333333,
              "#9c179e"
             ],
             [
              0.4444444444444444,
              "#bd3786"
             ],
             [
              0.5555555555555556,
              "#d8576b"
             ],
             [
              0.6666666666666666,
              "#ed7953"
             ],
             [
              0.7777777777777778,
              "#fb9f3a"
             ],
             [
              0.8888888888888888,
              "#fdca26"
             ],
             [
              1,
              "#f0f921"
             ]
            ],
            "type": "contour"
           }
          ],
          "contourcarpet": [
           {
            "colorbar": {
             "outlinewidth": 0,
             "ticks": ""
            },
            "type": "contourcarpet"
           }
          ],
          "heatmap": [
           {
            "colorbar": {
             "outlinewidth": 0,
             "ticks": ""
            },
            "colorscale": [
             [
              0,
              "#0d0887"
             ],
             [
              0.1111111111111111,
              "#46039f"
             ],
             [
              0.2222222222222222,
              "#7201a8"
             ],
             [
              0.3333333333333333,
              "#9c179e"
             ],
             [
              0.4444444444444444,
              "#bd3786"
             ],
             [
              0.5555555555555556,
              "#d8576b"
             ],
             [
              0.6666666666666666,
              "#ed7953"
             ],
             [
              0.7777777777777778,
              "#fb9f3a"
             ],
             [
              0.8888888888888888,
              "#fdca26"
             ],
             [
              1,
              "#f0f921"
             ]
            ],
            "type": "heatmap"
           }
          ],
          "heatmapgl": [
           {
            "colorbar": {
             "outlinewidth": 0,
             "ticks": ""
            },
            "colorscale": [
             [
              0,
              "#0d0887"
             ],
             [
              0.1111111111111111,
              "#46039f"
             ],
             [
              0.2222222222222222,
              "#7201a8"
             ],
             [
              0.3333333333333333,
              "#9c179e"
             ],
             [
              0.4444444444444444,
              "#bd3786"
             ],
             [
              0.5555555555555556,
              "#d8576b"
             ],
             [
              0.6666666666666666,
              "#ed7953"
             ],
             [
              0.7777777777777778,
              "#fb9f3a"
             ],
             [
              0.8888888888888888,
              "#fdca26"
             ],
             [
              1,
              "#f0f921"
             ]
            ],
            "type": "heatmapgl"
           }
          ],
          "histogram": [
           {
            "marker": {
             "colorbar": {
              "outlinewidth": 0,
              "ticks": ""
             }
            },
            "type": "histogram"
           }
          ],
          "histogram2d": [
           {
            "colorbar": {
             "outlinewidth": 0,
             "ticks": ""
            },
            "colorscale": [
             [
              0,
              "#0d0887"
             ],
             [
              0.1111111111111111,
              "#46039f"
             ],
             [
              0.2222222222222222,
              "#7201a8"
             ],
             [
              0.3333333333333333,
              "#9c179e"
             ],
             [
              0.4444444444444444,
              "#bd3786"
             ],
             [
              0.5555555555555556,
              "#d8576b"
             ],
             [
              0.6666666666666666,
              "#ed7953"
             ],
             [
              0.7777777777777778,
              "#fb9f3a"
             ],
             [
              0.8888888888888888,
              "#fdca26"
             ],
             [
              1,
              "#f0f921"
             ]
            ],
            "type": "histogram2d"
           }
          ],
          "histogram2dcontour": [
           {
            "colorbar": {
             "outlinewidth": 0,
             "ticks": ""
            },
            "colorscale": [
             [
              0,
              "#0d0887"
             ],
             [
              0.1111111111111111,
              "#46039f"
             ],
             [
              0.2222222222222222,
              "#7201a8"
             ],
             [
              0.3333333333333333,
              "#9c179e"
             ],
             [
              0.4444444444444444,
              "#bd3786"
             ],
             [
              0.5555555555555556,
              "#d8576b"
             ],
             [
              0.6666666666666666,
              "#ed7953"
             ],
             [
              0.7777777777777778,
              "#fb9f3a"
             ],
             [
              0.8888888888888888,
              "#fdca26"
             ],
             [
              1,
              "#f0f921"
             ]
            ],
            "type": "histogram2dcontour"
           }
          ],
          "mesh3d": [
           {
            "colorbar": {
             "outlinewidth": 0,
             "ticks": ""
            },
            "type": "mesh3d"
           }
          ],
          "parcoords": [
           {
            "line": {
             "colorbar": {
              "outlinewidth": 0,
              "ticks": ""
             }
            },
            "type": "parcoords"
           }
          ],
          "scatter": [
           {
            "marker": {
             "colorbar": {
              "outlinewidth": 0,
              "ticks": ""
             }
            },
            "type": "scatter"
           }
          ],
          "scatter3d": [
           {
            "line": {
             "colorbar": {
              "outlinewidth": 0,
              "ticks": ""
             }
            },
            "marker": {
             "colorbar": {
              "outlinewidth": 0,
              "ticks": ""
             }
            },
            "type": "scatter3d"
           }
          ],
          "scattercarpet": [
           {
            "marker": {
             "colorbar": {
              "outlinewidth": 0,
              "ticks": ""
             }
            },
            "type": "scattercarpet"
           }
          ],
          "scattergeo": [
           {
            "marker": {
             "colorbar": {
              "outlinewidth": 0,
              "ticks": ""
             }
            },
            "type": "scattergeo"
           }
          ],
          "scattergl": [
           {
            "marker": {
             "colorbar": {
              "outlinewidth": 0,
              "ticks": ""
             }
            },
            "type": "scattergl"
           }
          ],
          "scattermapbox": [
           {
            "marker": {
             "colorbar": {
              "outlinewidth": 0,
              "ticks": ""
             }
            },
            "type": "scattermapbox"
           }
          ],
          "scatterpolar": [
           {
            "marker": {
             "colorbar": {
              "outlinewidth": 0,
              "ticks": ""
             }
            },
            "type": "scatterpolar"
           }
          ],
          "scatterpolargl": [
           {
            "marker": {
             "colorbar": {
              "outlinewidth": 0,
              "ticks": ""
             }
            },
            "type": "scatterpolargl"
           }
          ],
          "scatterternary": [
           {
            "marker": {
             "colorbar": {
              "outlinewidth": 0,
              "ticks": ""
             }
            },
            "type": "scatterternary"
           }
          ],
          "surface": [
           {
            "colorbar": {
             "outlinewidth": 0,
             "ticks": ""
            },
            "colorscale": [
             [
              0,
              "#0d0887"
             ],
             [
              0.1111111111111111,
              "#46039f"
             ],
             [
              0.2222222222222222,
              "#7201a8"
             ],
             [
              0.3333333333333333,
              "#9c179e"
             ],
             [
              0.4444444444444444,
              "#bd3786"
             ],
             [
              0.5555555555555556,
              "#d8576b"
             ],
             [
              0.6666666666666666,
              "#ed7953"
             ],
             [
              0.7777777777777778,
              "#fb9f3a"
             ],
             [
              0.8888888888888888,
              "#fdca26"
             ],
             [
              1,
              "#f0f921"
             ]
            ],
            "type": "surface"
           }
          ],
          "table": [
           {
            "cells": {
             "fill": {
              "color": "#EBF0F8"
             },
             "line": {
              "color": "white"
             }
            },
            "header": {
             "fill": {
              "color": "#C8D4E3"
             },
             "line": {
              "color": "white"
             }
            },
            "type": "table"
           }
          ]
         },
         "layout": {
          "annotationdefaults": {
           "arrowcolor": "#2a3f5f",
           "arrowhead": 0,
           "arrowwidth": 1
          },
          "colorscale": {
           "diverging": [
            [
             0,
             "#8e0152"
            ],
            [
             0.1,
             "#c51b7d"
            ],
            [
             0.2,
             "#de77ae"
            ],
            [
             0.3,
             "#f1b6da"
            ],
            [
             0.4,
             "#fde0ef"
            ],
            [
             0.5,
             "#f7f7f7"
            ],
            [
             0.6,
             "#e6f5d0"
            ],
            [
             0.7,
             "#b8e186"
            ],
            [
             0.8,
             "#7fbc41"
            ],
            [
             0.9,
             "#4d9221"
            ],
            [
             1,
             "#276419"
            ]
           ],
           "sequential": [
            [
             0,
             "#0d0887"
            ],
            [
             0.1111111111111111,
             "#46039f"
            ],
            [
             0.2222222222222222,
             "#7201a8"
            ],
            [
             0.3333333333333333,
             "#9c179e"
            ],
            [
             0.4444444444444444,
             "#bd3786"
            ],
            [
             0.5555555555555556,
             "#d8576b"
            ],
            [
             0.6666666666666666,
             "#ed7953"
            ],
            [
             0.7777777777777778,
             "#fb9f3a"
            ],
            [
             0.8888888888888888,
             "#fdca26"
            ],
            [
             1,
             "#f0f921"
            ]
           ],
           "sequentialminus": [
            [
             0,
             "#0d0887"
            ],
            [
             0.1111111111111111,
             "#46039f"
            ],
            [
             0.2222222222222222,
             "#7201a8"
            ],
            [
             0.3333333333333333,
             "#9c179e"
            ],
            [
             0.4444444444444444,
             "#bd3786"
            ],
            [
             0.5555555555555556,
             "#d8576b"
            ],
            [
             0.6666666666666666,
             "#ed7953"
            ],
            [
             0.7777777777777778,
             "#fb9f3a"
            ],
            [
             0.8888888888888888,
             "#fdca26"
            ],
            [
             1,
             "#f0f921"
            ]
           ]
          },
          "colorway": [
           "#636efa",
           "#EF553B",
           "#00cc96",
           "#ab63fa",
           "#FFA15A",
           "#19d3f3",
           "#FF6692",
           "#B6E880",
           "#FF97FF",
           "#FECB52"
          ],
          "font": {
           "color": "#2a3f5f"
          },
          "geo": {
           "bgcolor": "white",
           "lakecolor": "white",
           "landcolor": "#E5ECF6",
           "showlakes": true,
           "showland": true,
           "subunitcolor": "white"
          },
          "hoverlabel": {
           "align": "left"
          },
          "hovermode": "closest",
          "mapbox": {
           "style": "light"
          },
          "paper_bgcolor": "white",
          "plot_bgcolor": "#E5ECF6",
          "polar": {
           "angularaxis": {
            "gridcolor": "white",
            "linecolor": "white",
            "ticks": ""
           },
           "bgcolor": "#E5ECF6",
           "radialaxis": {
            "gridcolor": "white",
            "linecolor": "white",
            "ticks": ""
           }
          },
          "scene": {
           "xaxis": {
            "backgroundcolor": "#E5ECF6",
            "gridcolor": "white",
            "gridwidth": 2,
            "linecolor": "white",
            "showbackground": true,
            "ticks": "",
            "zerolinecolor": "white"
           },
           "yaxis": {
            "backgroundcolor": "#E5ECF6",
            "gridcolor": "white",
            "gridwidth": 2,
            "linecolor": "white",
            "showbackground": true,
            "ticks": "",
            "zerolinecolor": "white"
           },
           "zaxis": {
            "backgroundcolor": "#E5ECF6",
            "gridcolor": "white",
            "gridwidth": 2,
            "linecolor": "white",
            "showbackground": true,
            "ticks": "",
            "zerolinecolor": "white"
           }
          },
          "shapedefaults": {
           "line": {
            "color": "#2a3f5f"
           }
          },
          "ternary": {
           "aaxis": {
            "gridcolor": "white",
            "linecolor": "white",
            "ticks": ""
           },
           "baxis": {
            "gridcolor": "white",
            "linecolor": "white",
            "ticks": ""
           },
           "bgcolor": "#E5ECF6",
           "caxis": {
            "gridcolor": "white",
            "linecolor": "white",
            "ticks": ""
           }
          },
          "title": {
           "x": 0.05
          },
          "xaxis": {
           "automargin": true,
           "gridcolor": "white",
           "linecolor": "white",
           "ticks": "",
           "zerolinecolor": "white",
           "zerolinewidth": 2
          },
          "yaxis": {
           "automargin": true,
           "gridcolor": "white",
           "linecolor": "white",
           "ticks": "",
           "zerolinecolor": "white",
           "zerolinewidth": 2
          }
         }
        },
        "title": {
         "text": "Basic Sankey Diagram"
        }
       }
      },
      "text/html": [
       "<div>\n",
       "        \n",
       "        \n",
       "            <div id=\"45885a96-266a-442d-903d-10f8fa82dc74\" class=\"plotly-graph-div\" style=\"height:525px; width:100%;\"></div>\n",
       "            <script type=\"text/javascript\">\n",
       "                require([\"plotly\"], function(Plotly) {\n",
       "                    window.PLOTLYENV=window.PLOTLYENV || {};\n",
       "                    \n",
       "                if (document.getElementById(\"45885a96-266a-442d-903d-10f8fa82dc74\")) {\n",
       "                    Plotly.newPlot(\n",
       "                        '45885a96-266a-442d-903d-10f8fa82dc74',\n",
       "                        [{\"link\": {\"source\": [0, 1, 0, 2, 3, 3], \"target\": [2, 3, 3, 4, 4, 5], \"value\": [8, 4, 2, 8, 4, 2]}, \"node\": {\"color\": \"blue\", \"label\": [\"A1\", \"A2\", \"B1\", \"B2\", \"C1\", \"C2\"], \"line\": {\"color\": \"black\", \"width\": 0.5}, \"pad\": 15, \"thickness\": 20}, \"type\": \"sankey\"}],\n",
       "                        {\"font\": {\"size\": 10}, \"template\": {\"data\": {\"bar\": [{\"error_x\": {\"color\": \"#2a3f5f\"}, \"error_y\": {\"color\": \"#2a3f5f\"}, \"marker\": {\"line\": {\"color\": \"#E5ECF6\", \"width\": 0.5}}, \"type\": \"bar\"}], \"barpolar\": [{\"marker\": {\"line\": {\"color\": \"#E5ECF6\", \"width\": 0.5}}, \"type\": \"barpolar\"}], \"carpet\": [{\"aaxis\": {\"endlinecolor\": \"#2a3f5f\", \"gridcolor\": \"white\", \"linecolor\": \"white\", \"minorgridcolor\": \"white\", \"startlinecolor\": \"#2a3f5f\"}, \"baxis\": {\"endlinecolor\": \"#2a3f5f\", \"gridcolor\": \"white\", \"linecolor\": \"white\", \"minorgridcolor\": \"white\", \"startlinecolor\": \"#2a3f5f\"}, \"type\": \"carpet\"}], \"choropleth\": [{\"colorbar\": {\"outlinewidth\": 0, \"ticks\": \"\"}, \"type\": \"choropleth\"}], \"contour\": [{\"colorbar\": {\"outlinewidth\": 0, \"ticks\": \"\"}, \"colorscale\": [[0.0, \"#0d0887\"], [0.1111111111111111, \"#46039f\"], [0.2222222222222222, \"#7201a8\"], [0.3333333333333333, \"#9c179e\"], [0.4444444444444444, \"#bd3786\"], [0.5555555555555556, \"#d8576b\"], [0.6666666666666666, \"#ed7953\"], [0.7777777777777778, \"#fb9f3a\"], [0.8888888888888888, \"#fdca26\"], [1.0, \"#f0f921\"]], \"type\": \"contour\"}], \"contourcarpet\": [{\"colorbar\": {\"outlinewidth\": 0, \"ticks\": \"\"}, \"type\": \"contourcarpet\"}], \"heatmap\": [{\"colorbar\": {\"outlinewidth\": 0, \"ticks\": \"\"}, \"colorscale\": [[0.0, \"#0d0887\"], [0.1111111111111111, \"#46039f\"], [0.2222222222222222, \"#7201a8\"], [0.3333333333333333, \"#9c179e\"], [0.4444444444444444, \"#bd3786\"], [0.5555555555555556, \"#d8576b\"], [0.6666666666666666, \"#ed7953\"], [0.7777777777777778, \"#fb9f3a\"], [0.8888888888888888, \"#fdca26\"], [1.0, \"#f0f921\"]], \"type\": \"heatmap\"}], \"heatmapgl\": [{\"colorbar\": {\"outlinewidth\": 0, \"ticks\": \"\"}, \"colorscale\": [[0.0, \"#0d0887\"], [0.1111111111111111, \"#46039f\"], [0.2222222222222222, \"#7201a8\"], [0.3333333333333333, \"#9c179e\"], [0.4444444444444444, \"#bd3786\"], [0.5555555555555556, \"#d8576b\"], [0.6666666666666666, \"#ed7953\"], [0.7777777777777778, \"#fb9f3a\"], [0.8888888888888888, \"#fdca26\"], [1.0, \"#f0f921\"]], \"type\": \"heatmapgl\"}], \"histogram\": [{\"marker\": {\"colorbar\": {\"outlinewidth\": 0, \"ticks\": \"\"}}, \"type\": \"histogram\"}], \"histogram2d\": [{\"colorbar\": {\"outlinewidth\": 0, \"ticks\": \"\"}, \"colorscale\": [[0.0, \"#0d0887\"], [0.1111111111111111, \"#46039f\"], [0.2222222222222222, \"#7201a8\"], [0.3333333333333333, \"#9c179e\"], [0.4444444444444444, \"#bd3786\"], [0.5555555555555556, \"#d8576b\"], [0.6666666666666666, \"#ed7953\"], [0.7777777777777778, \"#fb9f3a\"], [0.8888888888888888, \"#fdca26\"], [1.0, \"#f0f921\"]], \"type\": \"histogram2d\"}], \"histogram2dcontour\": [{\"colorbar\": {\"outlinewidth\": 0, \"ticks\": \"\"}, \"colorscale\": [[0.0, \"#0d0887\"], [0.1111111111111111, \"#46039f\"], [0.2222222222222222, \"#7201a8\"], [0.3333333333333333, \"#9c179e\"], [0.4444444444444444, \"#bd3786\"], [0.5555555555555556, \"#d8576b\"], [0.6666666666666666, \"#ed7953\"], [0.7777777777777778, \"#fb9f3a\"], [0.8888888888888888, \"#fdca26\"], [1.0, \"#f0f921\"]], \"type\": \"histogram2dcontour\"}], \"mesh3d\": [{\"colorbar\": {\"outlinewidth\": 0, \"ticks\": \"\"}, \"type\": \"mesh3d\"}], \"parcoords\": [{\"line\": {\"colorbar\": {\"outlinewidth\": 0, \"ticks\": \"\"}}, \"type\": \"parcoords\"}], \"scatter\": [{\"marker\": {\"colorbar\": {\"outlinewidth\": 0, \"ticks\": \"\"}}, \"type\": \"scatter\"}], \"scatter3d\": [{\"line\": {\"colorbar\": {\"outlinewidth\": 0, \"ticks\": \"\"}}, \"marker\": {\"colorbar\": {\"outlinewidth\": 0, \"ticks\": \"\"}}, \"type\": \"scatter3d\"}], \"scattercarpet\": [{\"marker\": {\"colorbar\": {\"outlinewidth\": 0, \"ticks\": \"\"}}, \"type\": \"scattercarpet\"}], \"scattergeo\": [{\"marker\": {\"colorbar\": {\"outlinewidth\": 0, \"ticks\": \"\"}}, \"type\": \"scattergeo\"}], \"scattergl\": [{\"marker\": {\"colorbar\": {\"outlinewidth\": 0, \"ticks\": \"\"}}, \"type\": \"scattergl\"}], \"scattermapbox\": [{\"marker\": {\"colorbar\": {\"outlinewidth\": 0, \"ticks\": \"\"}}, \"type\": \"scattermapbox\"}], \"scatterpolar\": [{\"marker\": {\"colorbar\": {\"outlinewidth\": 0, \"ticks\": \"\"}}, \"type\": \"scatterpolar\"}], \"scatterpolargl\": [{\"marker\": {\"colorbar\": {\"outlinewidth\": 0, \"ticks\": \"\"}}, \"type\": \"scatterpolargl\"}], \"scatterternary\": [{\"marker\": {\"colorbar\": {\"outlinewidth\": 0, \"ticks\": \"\"}}, \"type\": \"scatterternary\"}], \"surface\": [{\"colorbar\": {\"outlinewidth\": 0, \"ticks\": \"\"}, \"colorscale\": [[0.0, \"#0d0887\"], [0.1111111111111111, \"#46039f\"], [0.2222222222222222, \"#7201a8\"], [0.3333333333333333, \"#9c179e\"], [0.4444444444444444, \"#bd3786\"], [0.5555555555555556, \"#d8576b\"], [0.6666666666666666, \"#ed7953\"], [0.7777777777777778, \"#fb9f3a\"], [0.8888888888888888, \"#fdca26\"], [1.0, \"#f0f921\"]], \"type\": \"surface\"}], \"table\": [{\"cells\": {\"fill\": {\"color\": \"#EBF0F8\"}, \"line\": {\"color\": \"white\"}}, \"header\": {\"fill\": {\"color\": \"#C8D4E3\"}, \"line\": {\"color\": \"white\"}}, \"type\": \"table\"}]}, \"layout\": {\"annotationdefaults\": {\"arrowcolor\": \"#2a3f5f\", \"arrowhead\": 0, \"arrowwidth\": 1}, \"colorscale\": {\"diverging\": [[0, \"#8e0152\"], [0.1, \"#c51b7d\"], [0.2, \"#de77ae\"], [0.3, \"#f1b6da\"], [0.4, \"#fde0ef\"], [0.5, \"#f7f7f7\"], [0.6, \"#e6f5d0\"], [0.7, \"#b8e186\"], [0.8, \"#7fbc41\"], [0.9, \"#4d9221\"], [1, \"#276419\"]], \"sequential\": [[0.0, \"#0d0887\"], [0.1111111111111111, \"#46039f\"], [0.2222222222222222, \"#7201a8\"], [0.3333333333333333, \"#9c179e\"], [0.4444444444444444, \"#bd3786\"], [0.5555555555555556, \"#d8576b\"], [0.6666666666666666, \"#ed7953\"], [0.7777777777777778, \"#fb9f3a\"], [0.8888888888888888, \"#fdca26\"], [1.0, \"#f0f921\"]], \"sequentialminus\": [[0.0, \"#0d0887\"], [0.1111111111111111, \"#46039f\"], [0.2222222222222222, \"#7201a8\"], [0.3333333333333333, \"#9c179e\"], [0.4444444444444444, \"#bd3786\"], [0.5555555555555556, \"#d8576b\"], [0.6666666666666666, \"#ed7953\"], [0.7777777777777778, \"#fb9f3a\"], [0.8888888888888888, \"#fdca26\"], [1.0, \"#f0f921\"]]}, \"colorway\": [\"#636efa\", \"#EF553B\", \"#00cc96\", \"#ab63fa\", \"#FFA15A\", \"#19d3f3\", \"#FF6692\", \"#B6E880\", \"#FF97FF\", \"#FECB52\"], \"font\": {\"color\": \"#2a3f5f\"}, \"geo\": {\"bgcolor\": \"white\", \"lakecolor\": \"white\", \"landcolor\": \"#E5ECF6\", \"showlakes\": true, \"showland\": true, \"subunitcolor\": \"white\"}, \"hoverlabel\": {\"align\": \"left\"}, \"hovermode\": \"closest\", \"mapbox\": {\"style\": \"light\"}, \"paper_bgcolor\": \"white\", \"plot_bgcolor\": \"#E5ECF6\", \"polar\": {\"angularaxis\": {\"gridcolor\": \"white\", \"linecolor\": \"white\", \"ticks\": \"\"}, \"bgcolor\": \"#E5ECF6\", \"radialaxis\": {\"gridcolor\": \"white\", \"linecolor\": \"white\", \"ticks\": \"\"}}, \"scene\": {\"xaxis\": {\"backgroundcolor\": \"#E5ECF6\", \"gridcolor\": \"white\", \"gridwidth\": 2, \"linecolor\": \"white\", \"showbackground\": true, \"ticks\": \"\", \"zerolinecolor\": \"white\"}, \"yaxis\": {\"backgroundcolor\": \"#E5ECF6\", \"gridcolor\": \"white\", \"gridwidth\": 2, \"linecolor\": \"white\", \"showbackground\": true, \"ticks\": \"\", \"zerolinecolor\": \"white\"}, \"zaxis\": {\"backgroundcolor\": \"#E5ECF6\", \"gridcolor\": \"white\", \"gridwidth\": 2, \"linecolor\": \"white\", \"showbackground\": true, \"ticks\": \"\", \"zerolinecolor\": \"white\"}}, \"shapedefaults\": {\"line\": {\"color\": \"#2a3f5f\"}}, \"ternary\": {\"aaxis\": {\"gridcolor\": \"white\", \"linecolor\": \"white\", \"ticks\": \"\"}, \"baxis\": {\"gridcolor\": \"white\", \"linecolor\": \"white\", \"ticks\": \"\"}, \"bgcolor\": \"#E5ECF6\", \"caxis\": {\"gridcolor\": \"white\", \"linecolor\": \"white\", \"ticks\": \"\"}}, \"title\": {\"x\": 0.05}, \"xaxis\": {\"automargin\": true, \"gridcolor\": \"white\", \"linecolor\": \"white\", \"ticks\": \"\", \"zerolinecolor\": \"white\", \"zerolinewidth\": 2}, \"yaxis\": {\"automargin\": true, \"gridcolor\": \"white\", \"linecolor\": \"white\", \"ticks\": \"\", \"zerolinecolor\": \"white\", \"zerolinewidth\": 2}}}, \"title\": {\"text\": \"Basic Sankey Diagram\"}},\n",
       "                        {\"responsive\": true}\n",
       "                    ).then(function(){\n",
       "                            \n",
       "var gd = document.getElementById('45885a96-266a-442d-903d-10f8fa82dc74');\n",
       "var x = new MutationObserver(function (mutations, observer) {{\n",
       "        var display = window.getComputedStyle(gd).display;\n",
       "        if (!display || display === 'none') {{\n",
       "            console.log([gd, 'removed!']);\n",
       "            Plotly.purge(gd);\n",
       "            observer.disconnect();\n",
       "        }}\n",
       "}});\n",
       "\n",
       "// Listen for the removal of the full notebook cells\n",
       "var notebookContainer = gd.closest('#notebook-container');\n",
       "if (notebookContainer) {{\n",
       "    x.observe(notebookContainer, {childList: true});\n",
       "}}\n",
       "\n",
       "// Listen for the clearing of the current output cell\n",
       "var outputEl = gd.closest('.output');\n",
       "if (outputEl) {{\n",
       "    x.observe(outputEl, {childList: true});\n",
       "}}\n",
       "\n",
       "                        })\n",
       "                };\n",
       "                });\n",
       "            </script>\n",
       "        </div>"
      ]
     },
     "metadata": {},
     "output_type": "display_data"
    }
   ],
   "source": [
    "fig = go.Figure(data=[go.Sankey(\n",
    "    node = dict(\n",
    "      pad = 15,\n",
    "      thickness = 20,\n",
    "      line = dict(color = \"black\", width = 0.5),\n",
    "      label = [\"A1\", \"A2\", \"B1\", \"B2\", \"C1\", \"C2\"],\n",
    "      color = \"blue\"\n",
    "    ),\n",
    "    link = dict(\n",
    "      source = [0, 1, 0, 2, 3, 3], # indices correspond to labels, eg A1, A2, A2, B1, ...\n",
    "      target = [2, 3, 3, 4, 4, 5],\n",
    "      value = [8, 4, 2, 8, 4, 2]\n",
    "  ))])\n",
    "\n",
    "fig.update_layout(title_text=\"Basic Sankey Diagram\", font_size=10)\n",
    "fig.show()"
   ]
  },
  {
   "cell_type": "code",
   "execution_count": 83,
   "metadata": {},
   "outputs": [],
   "source": [
    "feat_importances['Coefficient'] = feat_importances['Coefficient'].apply(lambda x: abs(x))"
   ]
  },
  {
   "cell_type": "code",
   "execution_count": 65,
   "metadata": {},
   "outputs": [
    {
     "data": {
      "text/plain": [
       "['HALLMARK_ADIPOGENESIS i',\n",
       " 'HALLMARK_ADIPOGENESIS ii',\n",
       " 'HALLMARK_ADIPOGENESIS iii',\n",
       " 'HALLMARK_ALLOGRAFT_REJECTION i',\n",
       " 'HALLMARK_ALLOGRAFT_REJECTION ii',\n",
       " 'HALLMARK_ALLOGRAFT_REJECTION iii',\n",
       " 'HALLMARK_ANDROGEN_RESPONSE i',\n",
       " 'HALLMARK_ANDROGEN_RESPONSE ii',\n",
       " 'HALLMARK_ANDROGEN_RESPONSE iii']"
      ]
     },
     "execution_count": 65,
     "metadata": {},
     "output_type": "execute_result"
    }
   ],
   "source": [
    "labels = []\n",
    "for hallmark in ['HALLMARK_ADIPOGENESIS', 'HALLMARK_ALLOGRAFT_REJECTION', 'HALLMARK_ANDROGEN_RESPONSE']:\n",
    "    for stage in ['i', 'ii','iii']:\n",
    "        stage_label = '{} {}'.format(hallmark, stage)\n",
    "        labels.append(stage_label)\n",
    "labels"
   ]
  },
  {
   "cell_type": "code",
   "execution_count": 84,
   "metadata": {},
   "outputs": [
    {
     "data": {
      "application/vnd.plotly.v1+json": {
       "config": {
        "plotlyServerURL": "https://plot.ly"
       },
       "data": [
        {
         "link": {
          "source": [
           0,
           3,
           6,
           1,
           4,
           7
          ],
          "target": [
           1,
           4,
           7,
           2,
           5,
           8
          ],
          "value": [
           0.0006467009500435787,
           0.00030917823851801964,
           0.00033752271149598733,
           0.00019845781034589,
           0.0014296205854130608,
           0.001231162774972857,
           1.3552807472126186e-05,
           0.001082641067745952,
           0.0010690882602231305
          ]
         },
         "node": {
          "color": "blue",
          "label": [
           "HALLMARK_ADIPOGENESIS i",
           "HALLMARK_ADIPOGENESIS ii",
           "HALLMARK_ADIPOGENESIS iii",
           "HALLMARK_ALLOGRAFT_REJECTION i",
           "HALLMARK_ALLOGRAFT_REJECTION ii",
           "HALLMARK_ALLOGRAFT_REJECTION iii",
           "HALLMARK_ANDROGEN_RESPONSE i",
           "HALLMARK_ANDROGEN_RESPONSE ii",
           "HALLMARK_ANDROGEN_RESPONSE iii"
          ],
          "line": {
           "color": "black",
           "width": 0.5
          },
          "pad": 15,
          "thickness": 20
         },
         "type": "sankey"
        }
       ],
       "layout": {
        "font": {
         "size": 10
        },
        "template": {
         "data": {
          "bar": [
           {
            "error_x": {
             "color": "#2a3f5f"
            },
            "error_y": {
             "color": "#2a3f5f"
            },
            "marker": {
             "line": {
              "color": "#E5ECF6",
              "width": 0.5
             }
            },
            "type": "bar"
           }
          ],
          "barpolar": [
           {
            "marker": {
             "line": {
              "color": "#E5ECF6",
              "width": 0.5
             }
            },
            "type": "barpolar"
           }
          ],
          "carpet": [
           {
            "aaxis": {
             "endlinecolor": "#2a3f5f",
             "gridcolor": "white",
             "linecolor": "white",
             "minorgridcolor": "white",
             "startlinecolor": "#2a3f5f"
            },
            "baxis": {
             "endlinecolor": "#2a3f5f",
             "gridcolor": "white",
             "linecolor": "white",
             "minorgridcolor": "white",
             "startlinecolor": "#2a3f5f"
            },
            "type": "carpet"
           }
          ],
          "choropleth": [
           {
            "colorbar": {
             "outlinewidth": 0,
             "ticks": ""
            },
            "type": "choropleth"
           }
          ],
          "contour": [
           {
            "colorbar": {
             "outlinewidth": 0,
             "ticks": ""
            },
            "colorscale": [
             [
              0,
              "#0d0887"
             ],
             [
              0.1111111111111111,
              "#46039f"
             ],
             [
              0.2222222222222222,
              "#7201a8"
             ],
             [
              0.3333333333333333,
              "#9c179e"
             ],
             [
              0.4444444444444444,
              "#bd3786"
             ],
             [
              0.5555555555555556,
              "#d8576b"
             ],
             [
              0.6666666666666666,
              "#ed7953"
             ],
             [
              0.7777777777777778,
              "#fb9f3a"
             ],
             [
              0.8888888888888888,
              "#fdca26"
             ],
             [
              1,
              "#f0f921"
             ]
            ],
            "type": "contour"
           }
          ],
          "contourcarpet": [
           {
            "colorbar": {
             "outlinewidth": 0,
             "ticks": ""
            },
            "type": "contourcarpet"
           }
          ],
          "heatmap": [
           {
            "colorbar": {
             "outlinewidth": 0,
             "ticks": ""
            },
            "colorscale": [
             [
              0,
              "#0d0887"
             ],
             [
              0.1111111111111111,
              "#46039f"
             ],
             [
              0.2222222222222222,
              "#7201a8"
             ],
             [
              0.3333333333333333,
              "#9c179e"
             ],
             [
              0.4444444444444444,
              "#bd3786"
             ],
             [
              0.5555555555555556,
              "#d8576b"
             ],
             [
              0.6666666666666666,
              "#ed7953"
             ],
             [
              0.7777777777777778,
              "#fb9f3a"
             ],
             [
              0.8888888888888888,
              "#fdca26"
             ],
             [
              1,
              "#f0f921"
             ]
            ],
            "type": "heatmap"
           }
          ],
          "heatmapgl": [
           {
            "colorbar": {
             "outlinewidth": 0,
             "ticks": ""
            },
            "colorscale": [
             [
              0,
              "#0d0887"
             ],
             [
              0.1111111111111111,
              "#46039f"
             ],
             [
              0.2222222222222222,
              "#7201a8"
             ],
             [
              0.3333333333333333,
              "#9c179e"
             ],
             [
              0.4444444444444444,
              "#bd3786"
             ],
             [
              0.5555555555555556,
              "#d8576b"
             ],
             [
              0.6666666666666666,
              "#ed7953"
             ],
             [
              0.7777777777777778,
              "#fb9f3a"
             ],
             [
              0.8888888888888888,
              "#fdca26"
             ],
             [
              1,
              "#f0f921"
             ]
            ],
            "type": "heatmapgl"
           }
          ],
          "histogram": [
           {
            "marker": {
             "colorbar": {
              "outlinewidth": 0,
              "ticks": ""
             }
            },
            "type": "histogram"
           }
          ],
          "histogram2d": [
           {
            "colorbar": {
             "outlinewidth": 0,
             "ticks": ""
            },
            "colorscale": [
             [
              0,
              "#0d0887"
             ],
             [
              0.1111111111111111,
              "#46039f"
             ],
             [
              0.2222222222222222,
              "#7201a8"
             ],
             [
              0.3333333333333333,
              "#9c179e"
             ],
             [
              0.4444444444444444,
              "#bd3786"
             ],
             [
              0.5555555555555556,
              "#d8576b"
             ],
             [
              0.6666666666666666,
              "#ed7953"
             ],
             [
              0.7777777777777778,
              "#fb9f3a"
             ],
             [
              0.8888888888888888,
              "#fdca26"
             ],
             [
              1,
              "#f0f921"
             ]
            ],
            "type": "histogram2d"
           }
          ],
          "histogram2dcontour": [
           {
            "colorbar": {
             "outlinewidth": 0,
             "ticks": ""
            },
            "colorscale": [
             [
              0,
              "#0d0887"
             ],
             [
              0.1111111111111111,
              "#46039f"
             ],
             [
              0.2222222222222222,
              "#7201a8"
             ],
             [
              0.3333333333333333,
              "#9c179e"
             ],
             [
              0.4444444444444444,
              "#bd3786"
             ],
             [
              0.5555555555555556,
              "#d8576b"
             ],
             [
              0.6666666666666666,
              "#ed7953"
             ],
             [
              0.7777777777777778,
              "#fb9f3a"
             ],
             [
              0.8888888888888888,
              "#fdca26"
             ],
             [
              1,
              "#f0f921"
             ]
            ],
            "type": "histogram2dcontour"
           }
          ],
          "mesh3d": [
           {
            "colorbar": {
             "outlinewidth": 0,
             "ticks": ""
            },
            "type": "mesh3d"
           }
          ],
          "parcoords": [
           {
            "line": {
             "colorbar": {
              "outlinewidth": 0,
              "ticks": ""
             }
            },
            "type": "parcoords"
           }
          ],
          "scatter": [
           {
            "marker": {
             "colorbar": {
              "outlinewidth": 0,
              "ticks": ""
             }
            },
            "type": "scatter"
           }
          ],
          "scatter3d": [
           {
            "line": {
             "colorbar": {
              "outlinewidth": 0,
              "ticks": ""
             }
            },
            "marker": {
             "colorbar": {
              "outlinewidth": 0,
              "ticks": ""
             }
            },
            "type": "scatter3d"
           }
          ],
          "scattercarpet": [
           {
            "marker": {
             "colorbar": {
              "outlinewidth": 0,
              "ticks": ""
             }
            },
            "type": "scattercarpet"
           }
          ],
          "scattergeo": [
           {
            "marker": {
             "colorbar": {
              "outlinewidth": 0,
              "ticks": ""
             }
            },
            "type": "scattergeo"
           }
          ],
          "scattergl": [
           {
            "marker": {
             "colorbar": {
              "outlinewidth": 0,
              "ticks": ""
             }
            },
            "type": "scattergl"
           }
          ],
          "scattermapbox": [
           {
            "marker": {
             "colorbar": {
              "outlinewidth": 0,
              "ticks": ""
             }
            },
            "type": "scattermapbox"
           }
          ],
          "scatterpolar": [
           {
            "marker": {
             "colorbar": {
              "outlinewidth": 0,
              "ticks": ""
             }
            },
            "type": "scatterpolar"
           }
          ],
          "scatterpolargl": [
           {
            "marker": {
             "colorbar": {
              "outlinewidth": 0,
              "ticks": ""
             }
            },
            "type": "scatterpolargl"
           }
          ],
          "scatterternary": [
           {
            "marker": {
             "colorbar": {
              "outlinewidth": 0,
              "ticks": ""
             }
            },
            "type": "scatterternary"
           }
          ],
          "surface": [
           {
            "colorbar": {
             "outlinewidth": 0,
             "ticks": ""
            },
            "colorscale": [
             [
              0,
              "#0d0887"
             ],
             [
              0.1111111111111111,
              "#46039f"
             ],
             [
              0.2222222222222222,
              "#7201a8"
             ],
             [
              0.3333333333333333,
              "#9c179e"
             ],
             [
              0.4444444444444444,
              "#bd3786"
             ],
             [
              0.5555555555555556,
              "#d8576b"
             ],
             [
              0.6666666666666666,
              "#ed7953"
             ],
             [
              0.7777777777777778,
              "#fb9f3a"
             ],
             [
              0.8888888888888888,
              "#fdca26"
             ],
             [
              1,
              "#f0f921"
             ]
            ],
            "type": "surface"
           }
          ],
          "table": [
           {
            "cells": {
             "fill": {
              "color": "#EBF0F8"
             },
             "line": {
              "color": "white"
             }
            },
            "header": {
             "fill": {
              "color": "#C8D4E3"
             },
             "line": {
              "color": "white"
             }
            },
            "type": "table"
           }
          ]
         },
         "layout": {
          "annotationdefaults": {
           "arrowcolor": "#2a3f5f",
           "arrowhead": 0,
           "arrowwidth": 1
          },
          "colorscale": {
           "diverging": [
            [
             0,
             "#8e0152"
            ],
            [
             0.1,
             "#c51b7d"
            ],
            [
             0.2,
             "#de77ae"
            ],
            [
             0.3,
             "#f1b6da"
            ],
            [
             0.4,
             "#fde0ef"
            ],
            [
             0.5,
             "#f7f7f7"
            ],
            [
             0.6,
             "#e6f5d0"
            ],
            [
             0.7,
             "#b8e186"
            ],
            [
             0.8,
             "#7fbc41"
            ],
            [
             0.9,
             "#4d9221"
            ],
            [
             1,
             "#276419"
            ]
           ],
           "sequential": [
            [
             0,
             "#0d0887"
            ],
            [
             0.1111111111111111,
             "#46039f"
            ],
            [
             0.2222222222222222,
             "#7201a8"
            ],
            [
             0.3333333333333333,
             "#9c179e"
            ],
            [
             0.4444444444444444,
             "#bd3786"
            ],
            [
             0.5555555555555556,
             "#d8576b"
            ],
            [
             0.6666666666666666,
             "#ed7953"
            ],
            [
             0.7777777777777778,
             "#fb9f3a"
            ],
            [
             0.8888888888888888,
             "#fdca26"
            ],
            [
             1,
             "#f0f921"
            ]
           ],
           "sequentialminus": [
            [
             0,
             "#0d0887"
            ],
            [
             0.1111111111111111,
             "#46039f"
            ],
            [
             0.2222222222222222,
             "#7201a8"
            ],
            [
             0.3333333333333333,
             "#9c179e"
            ],
            [
             0.4444444444444444,
             "#bd3786"
            ],
            [
             0.5555555555555556,
             "#d8576b"
            ],
            [
             0.6666666666666666,
             "#ed7953"
            ],
            [
             0.7777777777777778,
             "#fb9f3a"
            ],
            [
             0.8888888888888888,
             "#fdca26"
            ],
            [
             1,
             "#f0f921"
            ]
           ]
          },
          "colorway": [
           "#636efa",
           "#EF553B",
           "#00cc96",
           "#ab63fa",
           "#FFA15A",
           "#19d3f3",
           "#FF6692",
           "#B6E880",
           "#FF97FF",
           "#FECB52"
          ],
          "font": {
           "color": "#2a3f5f"
          },
          "geo": {
           "bgcolor": "white",
           "lakecolor": "white",
           "landcolor": "#E5ECF6",
           "showlakes": true,
           "showland": true,
           "subunitcolor": "white"
          },
          "hoverlabel": {
           "align": "left"
          },
          "hovermode": "closest",
          "mapbox": {
           "style": "light"
          },
          "paper_bgcolor": "white",
          "plot_bgcolor": "#E5ECF6",
          "polar": {
           "angularaxis": {
            "gridcolor": "white",
            "linecolor": "white",
            "ticks": ""
           },
           "bgcolor": "#E5ECF6",
           "radialaxis": {
            "gridcolor": "white",
            "linecolor": "white",
            "ticks": ""
           }
          },
          "scene": {
           "xaxis": {
            "backgroundcolor": "#E5ECF6",
            "gridcolor": "white",
            "gridwidth": 2,
            "linecolor": "white",
            "showbackground": true,
            "ticks": "",
            "zerolinecolor": "white"
           },
           "yaxis": {
            "backgroundcolor": "#E5ECF6",
            "gridcolor": "white",
            "gridwidth": 2,
            "linecolor": "white",
            "showbackground": true,
            "ticks": "",
            "zerolinecolor": "white"
           },
           "zaxis": {
            "backgroundcolor": "#E5ECF6",
            "gridcolor": "white",
            "gridwidth": 2,
            "linecolor": "white",
            "showbackground": true,
            "ticks": "",
            "zerolinecolor": "white"
           }
          },
          "shapedefaults": {
           "line": {
            "color": "#2a3f5f"
           }
          },
          "ternary": {
           "aaxis": {
            "gridcolor": "white",
            "linecolor": "white",
            "ticks": ""
           },
           "baxis": {
            "gridcolor": "white",
            "linecolor": "white",
            "ticks": ""
           },
           "bgcolor": "#E5ECF6",
           "caxis": {
            "gridcolor": "white",
            "linecolor": "white",
            "ticks": ""
           }
          },
          "title": {
           "x": 0.05
          },
          "xaxis": {
           "automargin": true,
           "gridcolor": "white",
           "linecolor": "white",
           "ticks": "",
           "zerolinecolor": "white",
           "zerolinewidth": 2
          },
          "yaxis": {
           "automargin": true,
           "gridcolor": "white",
           "linecolor": "white",
           "ticks": "",
           "zerolinecolor": "white",
           "zerolinewidth": 2
          }
         }
        },
        "title": {
         "text": "Basic Sankey Diagram"
        }
       }
      },
      "text/html": [
       "<div>\n",
       "        \n",
       "        \n",
       "            <div id=\"98785a75-4ffc-441b-af28-f240c220d827\" class=\"plotly-graph-div\" style=\"height:525px; width:100%;\"></div>\n",
       "            <script type=\"text/javascript\">\n",
       "                require([\"plotly\"], function(Plotly) {\n",
       "                    window.PLOTLYENV=window.PLOTLYENV || {};\n",
       "                    \n",
       "                if (document.getElementById(\"98785a75-4ffc-441b-af28-f240c220d827\")) {\n",
       "                    Plotly.newPlot(\n",
       "                        '98785a75-4ffc-441b-af28-f240c220d827',\n",
       "                        [{\"link\": {\"source\": [0, 3, 6, 1, 4, 7], \"target\": [1, 4, 7, 2, 5, 8], \"value\": [0.0006467009500435787, 0.00030917823851801964, 0.00033752271149598733, 0.00019845781034589, 0.0014296205854130608, 0.001231162774972857, 1.3552807472126186e-05, 0.001082641067745952, 0.0010690882602231305]}, \"node\": {\"color\": \"blue\", \"label\": [\"HALLMARK_ADIPOGENESIS i\", \"HALLMARK_ADIPOGENESIS ii\", \"HALLMARK_ADIPOGENESIS iii\", \"HALLMARK_ALLOGRAFT_REJECTION i\", \"HALLMARK_ALLOGRAFT_REJECTION ii\", \"HALLMARK_ALLOGRAFT_REJECTION iii\", \"HALLMARK_ANDROGEN_RESPONSE i\", \"HALLMARK_ANDROGEN_RESPONSE ii\", \"HALLMARK_ANDROGEN_RESPONSE iii\"], \"line\": {\"color\": \"black\", \"width\": 0.5}, \"pad\": 15, \"thickness\": 20}, \"type\": \"sankey\"}],\n",
       "                        {\"font\": {\"size\": 10}, \"template\": {\"data\": {\"bar\": [{\"error_x\": {\"color\": \"#2a3f5f\"}, \"error_y\": {\"color\": \"#2a3f5f\"}, \"marker\": {\"line\": {\"color\": \"#E5ECF6\", \"width\": 0.5}}, \"type\": \"bar\"}], \"barpolar\": [{\"marker\": {\"line\": {\"color\": \"#E5ECF6\", \"width\": 0.5}}, \"type\": \"barpolar\"}], \"carpet\": [{\"aaxis\": {\"endlinecolor\": \"#2a3f5f\", \"gridcolor\": \"white\", \"linecolor\": \"white\", \"minorgridcolor\": \"white\", \"startlinecolor\": \"#2a3f5f\"}, \"baxis\": {\"endlinecolor\": \"#2a3f5f\", \"gridcolor\": \"white\", \"linecolor\": \"white\", \"minorgridcolor\": \"white\", \"startlinecolor\": \"#2a3f5f\"}, \"type\": \"carpet\"}], \"choropleth\": [{\"colorbar\": {\"outlinewidth\": 0, \"ticks\": \"\"}, \"type\": \"choropleth\"}], \"contour\": [{\"colorbar\": {\"outlinewidth\": 0, \"ticks\": \"\"}, \"colorscale\": [[0.0, \"#0d0887\"], [0.1111111111111111, \"#46039f\"], [0.2222222222222222, \"#7201a8\"], [0.3333333333333333, \"#9c179e\"], [0.4444444444444444, \"#bd3786\"], [0.5555555555555556, \"#d8576b\"], [0.6666666666666666, \"#ed7953\"], [0.7777777777777778, \"#fb9f3a\"], [0.8888888888888888, \"#fdca26\"], [1.0, \"#f0f921\"]], \"type\": \"contour\"}], \"contourcarpet\": [{\"colorbar\": {\"outlinewidth\": 0, \"ticks\": \"\"}, \"type\": \"contourcarpet\"}], \"heatmap\": [{\"colorbar\": {\"outlinewidth\": 0, \"ticks\": \"\"}, \"colorscale\": [[0.0, \"#0d0887\"], [0.1111111111111111, \"#46039f\"], [0.2222222222222222, \"#7201a8\"], [0.3333333333333333, \"#9c179e\"], [0.4444444444444444, \"#bd3786\"], [0.5555555555555556, \"#d8576b\"], [0.6666666666666666, \"#ed7953\"], [0.7777777777777778, \"#fb9f3a\"], [0.8888888888888888, \"#fdca26\"], [1.0, \"#f0f921\"]], \"type\": \"heatmap\"}], \"heatmapgl\": [{\"colorbar\": {\"outlinewidth\": 0, \"ticks\": \"\"}, \"colorscale\": [[0.0, \"#0d0887\"], [0.1111111111111111, \"#46039f\"], [0.2222222222222222, \"#7201a8\"], [0.3333333333333333, \"#9c179e\"], [0.4444444444444444, \"#bd3786\"], [0.5555555555555556, \"#d8576b\"], [0.6666666666666666, \"#ed7953\"], [0.7777777777777778, \"#fb9f3a\"], [0.8888888888888888, \"#fdca26\"], [1.0, \"#f0f921\"]], \"type\": \"heatmapgl\"}], \"histogram\": [{\"marker\": {\"colorbar\": {\"outlinewidth\": 0, \"ticks\": \"\"}}, \"type\": \"histogram\"}], \"histogram2d\": [{\"colorbar\": {\"outlinewidth\": 0, \"ticks\": \"\"}, \"colorscale\": [[0.0, \"#0d0887\"], [0.1111111111111111, \"#46039f\"], [0.2222222222222222, \"#7201a8\"], [0.3333333333333333, \"#9c179e\"], [0.4444444444444444, \"#bd3786\"], [0.5555555555555556, \"#d8576b\"], [0.6666666666666666, \"#ed7953\"], [0.7777777777777778, \"#fb9f3a\"], [0.8888888888888888, \"#fdca26\"], [1.0, \"#f0f921\"]], \"type\": \"histogram2d\"}], \"histogram2dcontour\": [{\"colorbar\": {\"outlinewidth\": 0, \"ticks\": \"\"}, \"colorscale\": [[0.0, \"#0d0887\"], [0.1111111111111111, \"#46039f\"], [0.2222222222222222, \"#7201a8\"], [0.3333333333333333, \"#9c179e\"], [0.4444444444444444, \"#bd3786\"], [0.5555555555555556, \"#d8576b\"], [0.6666666666666666, \"#ed7953\"], [0.7777777777777778, \"#fb9f3a\"], [0.8888888888888888, \"#fdca26\"], [1.0, \"#f0f921\"]], \"type\": \"histogram2dcontour\"}], \"mesh3d\": [{\"colorbar\": {\"outlinewidth\": 0, \"ticks\": \"\"}, \"type\": \"mesh3d\"}], \"parcoords\": [{\"line\": {\"colorbar\": {\"outlinewidth\": 0, \"ticks\": \"\"}}, \"type\": \"parcoords\"}], \"scatter\": [{\"marker\": {\"colorbar\": {\"outlinewidth\": 0, \"ticks\": \"\"}}, \"type\": \"scatter\"}], \"scatter3d\": [{\"line\": {\"colorbar\": {\"outlinewidth\": 0, \"ticks\": \"\"}}, \"marker\": {\"colorbar\": {\"outlinewidth\": 0, \"ticks\": \"\"}}, \"type\": \"scatter3d\"}], \"scattercarpet\": [{\"marker\": {\"colorbar\": {\"outlinewidth\": 0, \"ticks\": \"\"}}, \"type\": \"scattercarpet\"}], \"scattergeo\": [{\"marker\": {\"colorbar\": {\"outlinewidth\": 0, \"ticks\": \"\"}}, \"type\": \"scattergeo\"}], \"scattergl\": [{\"marker\": {\"colorbar\": {\"outlinewidth\": 0, \"ticks\": \"\"}}, \"type\": \"scattergl\"}], \"scattermapbox\": [{\"marker\": {\"colorbar\": {\"outlinewidth\": 0, \"ticks\": \"\"}}, \"type\": \"scattermapbox\"}], \"scatterpolar\": [{\"marker\": {\"colorbar\": {\"outlinewidth\": 0, \"ticks\": \"\"}}, \"type\": \"scatterpolar\"}], \"scatterpolargl\": [{\"marker\": {\"colorbar\": {\"outlinewidth\": 0, \"ticks\": \"\"}}, \"type\": \"scatterpolargl\"}], \"scatterternary\": [{\"marker\": {\"colorbar\": {\"outlinewidth\": 0, \"ticks\": \"\"}}, \"type\": \"scatterternary\"}], \"surface\": [{\"colorbar\": {\"outlinewidth\": 0, \"ticks\": \"\"}, \"colorscale\": [[0.0, \"#0d0887\"], [0.1111111111111111, \"#46039f\"], [0.2222222222222222, \"#7201a8\"], [0.3333333333333333, \"#9c179e\"], [0.4444444444444444, \"#bd3786\"], [0.5555555555555556, \"#d8576b\"], [0.6666666666666666, \"#ed7953\"], [0.7777777777777778, \"#fb9f3a\"], [0.8888888888888888, \"#fdca26\"], [1.0, \"#f0f921\"]], \"type\": \"surface\"}], \"table\": [{\"cells\": {\"fill\": {\"color\": \"#EBF0F8\"}, \"line\": {\"color\": \"white\"}}, \"header\": {\"fill\": {\"color\": \"#C8D4E3\"}, \"line\": {\"color\": \"white\"}}, \"type\": \"table\"}]}, \"layout\": {\"annotationdefaults\": {\"arrowcolor\": \"#2a3f5f\", \"arrowhead\": 0, \"arrowwidth\": 1}, \"colorscale\": {\"diverging\": [[0, \"#8e0152\"], [0.1, \"#c51b7d\"], [0.2, \"#de77ae\"], [0.3, \"#f1b6da\"], [0.4, \"#fde0ef\"], [0.5, \"#f7f7f7\"], [0.6, \"#e6f5d0\"], [0.7, \"#b8e186\"], [0.8, \"#7fbc41\"], [0.9, \"#4d9221\"], [1, \"#276419\"]], \"sequential\": [[0.0, \"#0d0887\"], [0.1111111111111111, \"#46039f\"], [0.2222222222222222, \"#7201a8\"], [0.3333333333333333, \"#9c179e\"], [0.4444444444444444, \"#bd3786\"], [0.5555555555555556, \"#d8576b\"], [0.6666666666666666, \"#ed7953\"], [0.7777777777777778, \"#fb9f3a\"], [0.8888888888888888, \"#fdca26\"], [1.0, \"#f0f921\"]], \"sequentialminus\": [[0.0, \"#0d0887\"], [0.1111111111111111, \"#46039f\"], [0.2222222222222222, \"#7201a8\"], [0.3333333333333333, \"#9c179e\"], [0.4444444444444444, \"#bd3786\"], [0.5555555555555556, \"#d8576b\"], [0.6666666666666666, \"#ed7953\"], [0.7777777777777778, \"#fb9f3a\"], [0.8888888888888888, \"#fdca26\"], [1.0, \"#f0f921\"]]}, \"colorway\": [\"#636efa\", \"#EF553B\", \"#00cc96\", \"#ab63fa\", \"#FFA15A\", \"#19d3f3\", \"#FF6692\", \"#B6E880\", \"#FF97FF\", \"#FECB52\"], \"font\": {\"color\": \"#2a3f5f\"}, \"geo\": {\"bgcolor\": \"white\", \"lakecolor\": \"white\", \"landcolor\": \"#E5ECF6\", \"showlakes\": true, \"showland\": true, \"subunitcolor\": \"white\"}, \"hoverlabel\": {\"align\": \"left\"}, \"hovermode\": \"closest\", \"mapbox\": {\"style\": \"light\"}, \"paper_bgcolor\": \"white\", \"plot_bgcolor\": \"#E5ECF6\", \"polar\": {\"angularaxis\": {\"gridcolor\": \"white\", \"linecolor\": \"white\", \"ticks\": \"\"}, \"bgcolor\": \"#E5ECF6\", \"radialaxis\": {\"gridcolor\": \"white\", \"linecolor\": \"white\", \"ticks\": \"\"}}, \"scene\": {\"xaxis\": {\"backgroundcolor\": \"#E5ECF6\", \"gridcolor\": \"white\", \"gridwidth\": 2, \"linecolor\": \"white\", \"showbackground\": true, \"ticks\": \"\", \"zerolinecolor\": \"white\"}, \"yaxis\": {\"backgroundcolor\": \"#E5ECF6\", \"gridcolor\": \"white\", \"gridwidth\": 2, \"linecolor\": \"white\", \"showbackground\": true, \"ticks\": \"\", \"zerolinecolor\": \"white\"}, \"zaxis\": {\"backgroundcolor\": \"#E5ECF6\", \"gridcolor\": \"white\", \"gridwidth\": 2, \"linecolor\": \"white\", \"showbackground\": true, \"ticks\": \"\", \"zerolinecolor\": \"white\"}}, \"shapedefaults\": {\"line\": {\"color\": \"#2a3f5f\"}}, \"ternary\": {\"aaxis\": {\"gridcolor\": \"white\", \"linecolor\": \"white\", \"ticks\": \"\"}, \"baxis\": {\"gridcolor\": \"white\", \"linecolor\": \"white\", \"ticks\": \"\"}, \"bgcolor\": \"#E5ECF6\", \"caxis\": {\"gridcolor\": \"white\", \"linecolor\": \"white\", \"ticks\": \"\"}}, \"title\": {\"x\": 0.05}, \"xaxis\": {\"automargin\": true, \"gridcolor\": \"white\", \"linecolor\": \"white\", \"ticks\": \"\", \"zerolinecolor\": \"white\", \"zerolinewidth\": 2}, \"yaxis\": {\"automargin\": true, \"gridcolor\": \"white\", \"linecolor\": \"white\", \"ticks\": \"\", \"zerolinecolor\": \"white\", \"zerolinewidth\": 2}}}, \"title\": {\"text\": \"Basic Sankey Diagram\"}},\n",
       "                        {\"responsive\": true}\n",
       "                    ).then(function(){\n",
       "                            \n",
       "var gd = document.getElementById('98785a75-4ffc-441b-af28-f240c220d827');\n",
       "var x = new MutationObserver(function (mutations, observer) {{\n",
       "        var display = window.getComputedStyle(gd).display;\n",
       "        if (!display || display === 'none') {{\n",
       "            console.log([gd, 'removed!']);\n",
       "            Plotly.purge(gd);\n",
       "            observer.disconnect();\n",
       "        }}\n",
       "}});\n",
       "\n",
       "// Listen for the removal of the full notebook cells\n",
       "var notebookContainer = gd.closest('#notebook-container');\n",
       "if (notebookContainer) {{\n",
       "    x.observe(notebookContainer, {childList: true});\n",
       "}}\n",
       "\n",
       "// Listen for the clearing of the current output cell\n",
       "var outputEl = gd.closest('.output');\n",
       "if (outputEl) {{\n",
       "    x.observe(outputEl, {childList: true});\n",
       "}}\n",
       "\n",
       "                        })\n",
       "                };\n",
       "                });\n",
       "            </script>\n",
       "        </div>"
      ]
     },
     "metadata": {},
     "output_type": "display_data"
    }
   ],
   "source": [
    "\n",
    "fig = go.Figure(data=[go.Sankey(\n",
    "    node = dict(\n",
    "      pad = 15,\n",
    "      thickness = 20,\n",
    "      line = dict(color = \"black\", width = 0.5),\n",
    "      label = labels,\n",
    "      color = \"blue\"\n",
    "    ),\n",
    "    link = dict(\n",
    "      source = list(range(0, len(labels), 3)) + list(range(1, len(labels), 3)), # indices correspond to labels, eg A1, A2, A2, B1, ...\n",
    "      target = list(range(1, len(labels), 3)) + list(range(2, len(labels), 3)),\n",
    "      value = feat_importances['Coefficient'].values[:9]\n",
    "  ))])\n",
    "\n",
    "fig.update_layout(title_text=\"Basic Sankey Diagram\", font_size=10)\n",
    "fig.show()"
   ]
  },
  {
   "cell_type": "code",
   "execution_count": null,
   "metadata": {
    "collapsed": true
   },
   "outputs": [],
   "source": []
  }
 ],
 "metadata": {
  "kernelspec": {
   "display_name": "env-tcga",
   "language": "python",
   "name": "env-tcga"
  },
  "language_info": {
   "codemirror_mode": {
    "name": "ipython",
    "version": 3
   },
   "file_extension": ".py",
   "mimetype": "text/x-python",
   "name": "python",
   "nbconvert_exporter": "python",
   "pygments_lexer": "ipython3",
   "version": "3.6.7"
  }
 },
 "nbformat": 4,
 "nbformat_minor": 2
}
